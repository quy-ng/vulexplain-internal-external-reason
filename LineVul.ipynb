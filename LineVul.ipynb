{
 "cells": [
  {
   "attachments": {},
   "cell_type": "markdown",
   "id": "d4e4b1aa-cef1-4ca4-ad41-75717a8057de",
   "metadata": {},
   "source": [
    "# Reproduce LineVul"
   ]
  },
  {
   "cell_type": "code",
   "execution_count": 2,
   "id": "904a3755-cf47-4982-aee8-b7f748f46e5a",
   "metadata": {},
   "outputs": [],
   "source": [
    "%load_ext autoreload\n",
    "%autoreload 2"
   ]
  },
  {
   "cell_type": "code",
   "execution_count": 3,
   "id": "52bc90c5-090a-46c0-bec0-9276e10934c3",
   "metadata": {},
   "outputs": [],
   "source": [
    "import commons"
   ]
  },
  {
   "cell_type": "code",
   "execution_count": 4,
   "id": "52a92f87-fa42-47df-bd95-2eaf7e8c04eb",
   "metadata": {},
   "outputs": [],
   "source": [
    "from transformers import AutoTokenizer, AutoModel\n",
    "from transformers import RobertaTokenizer, RobertaForSequenceClassification, RobertaConfig"
   ]
  },
  {
   "cell_type": "code",
   "execution_count": 5,
   "id": "ad470abb-1096-4c9c-bf9e-d04244f46bcd",
   "metadata": {},
   "outputs": [],
   "source": [
    "# there are some warning from transformer\n",
    "# due to its verbose, disable\n",
    "\n",
    "from transformers import logging\n",
    "logging.set_verbosity(40)"
   ]
  },
  {
   "cell_type": "code",
   "execution_count": 6,
   "id": "94444f12-daab-47a8-aa7c-c296af8cd69e",
   "metadata": {},
   "outputs": [],
   "source": [
    "import torch\n",
    "from torch.utils.data import DataLoader, Dataset, SequentialSampler"
   ]
  },
  {
   "cell_type": "code",
   "execution_count": 7,
   "id": "665ef7f0-266f-4504-bb27-d55b2cfd3946",
   "metadata": {},
   "outputs": [],
   "source": [
    "import numpy as np"
   ]
  },
  {
   "cell_type": "code",
   "execution_count": 8,
   "id": "f929d687-4a2f-4988-a45c-48dcbe0de2da",
   "metadata": {},
   "outputs": [],
   "source": [
    "import pandas as pd\n",
    "from tqdm.autonotebook import tqdm"
   ]
  },
  {
   "cell_type": "code",
   "execution_count": 9,
   "id": "b209c02c-cee8-47ba-b29b-688f5a26c5d7",
   "metadata": {},
   "outputs": [],
   "source": [
    "from linevul_model import Model\n",
    "from linevul_helpers import TextDataset\n",
    "from linevul_extra import extract_line_attention, linevul_predict"
   ]
  },
  {
   "cell_type": "code",
   "execution_count": 10,
   "id": "75e70b49-deec-4ad5-ac81-77213d9241b6",
   "metadata": {},
   "outputs": [],
   "source": [
    "from project_dataset import load_dataset"
   ]
  },
  {
   "cell_type": "code",
   "execution_count": 11,
   "id": "1f2dd844-e8c3-4e63-8957-049a8c8ffae2",
   "metadata": {},
   "outputs": [],
   "source": [
    "device = torch.device(\"cuda\" if torch.cuda.is_available() else \"cpu\")\n",
    "n_gpu = torch.cuda.device_count()"
   ]
  },
  {
   "cell_type": "code",
   "execution_count": 12,
   "id": "6b698f48-aff8-436f-b7f9-c62449919530",
   "metadata": {},
   "outputs": [],
   "source": [
    "config = RobertaConfig.from_pretrained('microsoft/codebert-base')\n",
    "config.num_labels = 1\n",
    "config.num_attention_heads = 12"
   ]
  },
  {
   "cell_type": "code",
   "execution_count": 13,
   "id": "7fd88e94-6911-4cb5-b638-4d27287f12f3",
   "metadata": {},
   "outputs": [],
   "source": [
    "# get from LineVul\n",
    "checkpoint = '/home/hqn650/LineVul/linevul/saved_models/checkpoint-best-f1/12heads_linevul_model.bin'"
   ]
  },
  {
   "cell_type": "code",
   "execution_count": 14,
   "id": "218433bf-aee1-474d-b426-352bfd77b62f",
   "metadata": {},
   "outputs": [],
   "source": [
    "tokenizer = RobertaTokenizer.from_pretrained('microsoft/codebert-base')"
   ]
  },
  {
   "cell_type": "code",
   "execution_count": 15,
   "id": "d994a186-c905-442b-b5fe-2e54cae6f8a3",
   "metadata": {},
   "outputs": [],
   "source": [
    "pre_train = RobertaForSequenceClassification.from_pretrained('microsoft/codebert-base', \n",
    "                                                             config=config, \n",
    "                                                             ignore_mismatched_sizes=True)"
   ]
  },
  {
   "cell_type": "code",
   "execution_count": 16,
   "id": "f577da66-2711-4216-97da-37b3b229b36a",
   "metadata": {},
   "outputs": [],
   "source": [
    "from dataclasses import dataclass\n",
    "\n",
    "@dataclass\n",
    "class Args:\n",
    "    device = torch.device(\"cuda\" if torch.cuda.is_available() else \"cpu\")\n",
    "    n_gpu = torch.cuda.device_count()\n",
    "    use_non_pretrained_model = False\n",
    "    block_size = 512\n",
    "    test_data_file = '/home/hqn650/LineVul/data/big-vul_dataset/test.csv'\n",
    "    code_length=256\n",
    "    do_local_explanation=True\n",
    "    reasoning_method='attention'\n",
    "    seed=42\n",
    "    num_attention_heads=12\n",
    "    do_sorting_by_line_scores=False\n",
    "    do_sorting_by_pred_prob=False\n",
    "    top_k_constant=10\n",
    "    use_word_level_tokenizer=False\n",
    "    eval_batch_size=512\n",
    "\n",
    "    task = \"attack_vector\"\n",
    "    \n",
    "args = Args()"
   ]
  },
  {
   "cell_type": "code",
   "execution_count": 17,
   "id": "032a6625-6694-4299-9132-60ac6c3f03e8",
   "metadata": {},
   "outputs": [],
   "source": [
    "model = Model(pre_train, config, tokenizer, args)"
   ]
  },
  {
   "cell_type": "code",
   "execution_count": 18,
   "id": "8c9ca781-54df-4aee-b028-946f8bb5d680",
   "metadata": {},
   "outputs": [
    {
     "data": {
      "text/plain": [
       "Model(\n",
       "  (roberta): RobertaModel(\n",
       "    (embeddings): RobertaEmbeddings(\n",
       "      (word_embeddings): Embedding(50265, 768, padding_idx=1)\n",
       "      (position_embeddings): Embedding(514, 768, padding_idx=1)\n",
       "      (token_type_embeddings): Embedding(1, 768)\n",
       "      (LayerNorm): LayerNorm((768,), eps=1e-05, elementwise_affine=True)\n",
       "      (dropout): Dropout(p=0.1, inplace=False)\n",
       "    )\n",
       "    (encoder): RobertaEncoder(\n",
       "      (layer): ModuleList(\n",
       "        (0-11): 12 x RobertaLayer(\n",
       "          (attention): RobertaAttention(\n",
       "            (self): RobertaSelfAttention(\n",
       "              (query): Linear(in_features=768, out_features=768, bias=True)\n",
       "              (key): Linear(in_features=768, out_features=768, bias=True)\n",
       "              (value): Linear(in_features=768, out_features=768, bias=True)\n",
       "              (dropout): Dropout(p=0.1, inplace=False)\n",
       "            )\n",
       "            (output): RobertaSelfOutput(\n",
       "              (dense): Linear(in_features=768, out_features=768, bias=True)\n",
       "              (LayerNorm): LayerNorm((768,), eps=1e-05, elementwise_affine=True)\n",
       "              (dropout): Dropout(p=0.1, inplace=False)\n",
       "            )\n",
       "          )\n",
       "          (intermediate): RobertaIntermediate(\n",
       "            (dense): Linear(in_features=768, out_features=3072, bias=True)\n",
       "            (intermediate_act_fn): GELUActivation()\n",
       "          )\n",
       "          (output): RobertaOutput(\n",
       "            (dense): Linear(in_features=3072, out_features=768, bias=True)\n",
       "            (LayerNorm): LayerNorm((768,), eps=1e-05, elementwise_affine=True)\n",
       "            (dropout): Dropout(p=0.1, inplace=False)\n",
       "          )\n",
       "        )\n",
       "      )\n",
       "    )\n",
       "  )\n",
       "  (classifier): RobertaClassificationHead(\n",
       "    (dense): Linear(in_features=768, out_features=768, bias=True)\n",
       "    (dropout): Dropout(p=0.1, inplace=False)\n",
       "    (out_proj): Linear(in_features=768, out_features=2, bias=True)\n",
       "  )\n",
       "  (encoder): RobertaForSequenceClassification(\n",
       "    (roberta): RobertaModel(\n",
       "      (embeddings): RobertaEmbeddings(\n",
       "        (word_embeddings): Embedding(50265, 768, padding_idx=1)\n",
       "        (position_embeddings): Embedding(514, 768, padding_idx=1)\n",
       "        (token_type_embeddings): Embedding(1, 768)\n",
       "        (LayerNorm): LayerNorm((768,), eps=1e-05, elementwise_affine=True)\n",
       "        (dropout): Dropout(p=0.1, inplace=False)\n",
       "      )\n",
       "      (encoder): RobertaEncoder(\n",
       "        (layer): ModuleList(\n",
       "          (0-11): 12 x RobertaLayer(\n",
       "            (attention): RobertaAttention(\n",
       "              (self): RobertaSelfAttention(\n",
       "                (query): Linear(in_features=768, out_features=768, bias=True)\n",
       "                (key): Linear(in_features=768, out_features=768, bias=True)\n",
       "                (value): Linear(in_features=768, out_features=768, bias=True)\n",
       "                (dropout): Dropout(p=0.1, inplace=False)\n",
       "              )\n",
       "              (output): RobertaSelfOutput(\n",
       "                (dense): Linear(in_features=768, out_features=768, bias=True)\n",
       "                (LayerNorm): LayerNorm((768,), eps=1e-05, elementwise_affine=True)\n",
       "                (dropout): Dropout(p=0.1, inplace=False)\n",
       "              )\n",
       "            )\n",
       "            (intermediate): RobertaIntermediate(\n",
       "              (dense): Linear(in_features=768, out_features=3072, bias=True)\n",
       "              (intermediate_act_fn): GELUActivation()\n",
       "            )\n",
       "            (output): RobertaOutput(\n",
       "              (dense): Linear(in_features=3072, out_features=768, bias=True)\n",
       "              (LayerNorm): LayerNorm((768,), eps=1e-05, elementwise_affine=True)\n",
       "              (dropout): Dropout(p=0.1, inplace=False)\n",
       "            )\n",
       "          )\n",
       "        )\n",
       "      )\n",
       "    )\n",
       "    (classifier): RobertaClassificationHead(\n",
       "      (dense): Linear(in_features=768, out_features=768, bias=True)\n",
       "      (dropout): Dropout(p=0.1, inplace=False)\n",
       "      (out_proj): Linear(in_features=768, out_features=1, bias=True)\n",
       "    )\n",
       "  )\n",
       ")"
      ]
     },
     "execution_count": 18,
     "metadata": {},
     "output_type": "execute_result"
    }
   ],
   "source": [
    "model.load_state_dict(torch.load(checkpoint, map_location=args.device))\n",
    "model.to(args.device)"
   ]
  },
  {
   "cell_type": "code",
   "execution_count": 19,
   "id": "503ba7b6-5696-45a9-92d3-80dacce48583",
   "metadata": {},
   "outputs": [],
   "source": [
    "from linevul_helpers import TextDataset, convert_examples_to_features\n",
    "\n",
    "class ExtendTextDataset(TextDataset):\n",
    "    def __init__(self, tokenizer, args, data_frame):\n",
    "        self.examples = []\n",
    "        funcs = data_frame[\"processed_func\"].tolist()\n",
    "        for i in tqdm(range(len(funcs)), desc='ExtendTextDataset'):\n",
    "            self.examples.append(convert_examples_to_features(funcs[i], 1, tokenizer, args))"
   ]
  },
  {
   "cell_type": "code",
   "execution_count": 20,
   "id": "04c95b49-9206-4aa0-b23e-8f81fbaac8b0",
   "metadata": {},
   "outputs": [],
   "source": [
    "# multi-gpu evaluate\n",
    "if args.n_gpu > 1:\n",
    "    model = torch.nn.DataParallel(model)"
   ]
  },
  {
   "cell_type": "code",
   "execution_count": 21,
   "id": "18176fec-0ab9-40c1-a867-22b09e441ae6",
   "metadata": {},
   "outputs": [
    {
     "data": {
      "application/vnd.jupyter.widget-view+json": {
       "model_id": "03347aef629147e28f3473747146e3e3",
       "version_major": 2,
       "version_minor": 0
      },
      "text/plain": [
       "Convert example to features:   0%|          | 0/18864 [00:00<?, ?it/s]"
      ]
     },
     "metadata": {},
     "output_type": "display_data"
    },
    {
     "name": "stderr",
     "output_type": "stream",
     "text": [
      "/home/hqn650/anaconda3/envs/vul-intext-reason/lib/python3.11/site-packages/torch/nn/parallel/_functions.py:68: UserWarning: Was asked to gather along dimension 0, but all input tensors were scalars; will instead unsqueeze and return a vector.\n",
      "  warnings.warn('Was asked to gather along dimension 0, but all '\n"
     ]
    }
   ],
   "source": [
    "# to find TP\n",
    "def find_tp(model, tokenizer, args, data_frame=None):\n",
    "    if data_frame is not None:\n",
    "        dataset = ExtendTextDataset(tokenizer, args, data_frame)\n",
    "    else:\n",
    "        dataset = TextDataset(tokenizer, args, file_type='test')\n",
    "    sampler = SequentialSampler(dataset)\n",
    "    data_loader = DataLoader(dataset, sampler=sampler, batch_size=args.eval_batch_size, num_workers=0)\n",
    "    result, y_trues, y_preds = linevul_predict(model, data_loader, args.device)\n",
    "    tp_indices = np.where((y_trues == y_preds) & (y_trues == 1))\n",
    "    tp_indices = list(tp_indices[0])\n",
    "    return result, tp_indices\n",
    "    \n",
    "result, correct_indices = find_tp(model, tokenizer, args)"
   ]
  },
  {
   "cell_type": "code",
   "execution_count": 22,
   "id": "153d1699-2c3c-4be3-a13b-37c769ef260c",
   "metadata": {},
   "outputs": [],
   "source": [
    "# test_dataset = TextDataset(tokenizer, args, file_type='test')"
   ]
  },
  {
   "cell_type": "code",
   "execution_count": 23,
   "id": "41471949-e260-4430-898d-20b7f7da822d",
   "metadata": {},
   "outputs": [],
   "source": [
    "# test_sampler = SequentialSampler(test_dataset)\n",
    "# test_dataloader = DataLoader(test_dataset, sampler=test_sampler, batch_size=args.eval_batch_size, num_workers=0)"
   ]
  },
  {
   "cell_type": "code",
   "execution_count": 24,
   "id": "339e2633-15a5-43c0-8a30-4b7f3f675c63",
   "metadata": {},
   "outputs": [],
   "source": [
    "# result, y_trues, y_preds = linevul_predict(model, test_dataloader, args.device)"
   ]
  },
  {
   "cell_type": "code",
   "execution_count": 25,
   "id": "b6c8c1bc-73cc-4c8c-bc1f-9877e7b71112",
   "metadata": {},
   "outputs": [
    {
     "data": {
      "text/plain": [
       "{'test_accuracy': 0.9909351145038168,\n",
       " 'test_recall': 0.8635071090047394,\n",
       " 'test_precision': 0.9712153518123667,\n",
       " 'test_f1': 0.9141996989463121,\n",
       " 'test_threshold': 0.5}"
      ]
     },
     "execution_count": 25,
     "metadata": {},
     "output_type": "execute_result"
    }
   ],
   "source": [
    "result"
   ]
  },
  {
   "cell_type": "code",
   "execution_count": 26,
   "id": "a6bf4b48-a849-4b79-80df-3df15e95b375",
   "metadata": {},
   "outputs": [
    {
     "data": {
      "text/plain": [
       "[66, 99, 103, 108, 120, 129, 130, 142, 153, 167]"
      ]
     },
     "execution_count": 26,
     "metadata": {},
     "output_type": "execute_result"
    }
   ],
   "source": [
    "correct_indices[:10]"
   ]
  },
  {
   "cell_type": "code",
   "execution_count": 27,
   "id": "b05a2585-762c-46c7-abb6-9a1429bf3c6c",
   "metadata": {},
   "outputs": [],
   "source": [
    "# correct_indices = np.where((y_trues == y_preds))\n",
    "# correct_indices = list(correct_indices[0])"
   ]
  },
  {
   "cell_type": "code",
   "execution_count": 28,
   "id": "202b9aa2-d737-4ac2-b3cc-2469ffe634fa",
   "metadata": {},
   "outputs": [],
   "source": [
    "# tp_indices = np.where((y_trues == y_preds) & (y_trues == 1))\n",
    "# tp_indices = list(tp_indices[0])"
   ]
  },
  {
   "cell_type": "code",
   "execution_count": 29,
   "id": "1ea70331-1364-47b4-879f-ae1f8c5e8ab6",
   "metadata": {},
   "outputs": [],
   "source": [
    "# after identify true positive sample, create new loader with batch_size = 1 for explaination\n",
    "\n",
    "# dataloader = DataLoader(test_dataset, sampler=test_sampler, batch_size=1, num_workers=0)"
   ]
  },
  {
   "cell_type": "code",
   "execution_count": 30,
   "id": "2ce4a810-b1c9-49fd-95f5-cf714e58729c",
   "metadata": {},
   "outputs": [],
   "source": [
    "# df = pd.read_csv(args.test_data_file)"
   ]
  },
  {
   "cell_type": "code",
   "execution_count": 31,
   "id": "d53f3cd3-0acf-41b0-89f3-893aa84ea2ab",
   "metadata": {},
   "outputs": [],
   "source": [
    "# top_k_constant = [args.top_k_constant]"
   ]
  },
  {
   "cell_type": "code",
   "execution_count": 32,
   "id": "dc2e3f91-641b-4699-ac37-27011136a154",
   "metadata": {},
   "outputs": [],
   "source": [
    "# model.eval()\n",
    "# index = 0\n",
    "# progress_bar = tqdm(dataloader, total=len(dataloader))\n",
    "# extract_list = []\n",
    "# for mini_batch in progress_bar:\n",
    "#     if index in tp_indices:\n",
    "#         (input_ids, labels) = mini_batch\n",
    "#         ids = input_ids[0].detach().tolist()\n",
    "#         all_tokens = tokenizer.convert_ids_to_tokens(ids)\n",
    "#         all_tokens = [token.replace(\"Ġ\", \"\") for token in all_tokens]\n",
    "#         all_tokens = [token.replace(\"ĉ\", \"Ċ\") for token in all_tokens]\n",
    "#         with torch.no_grad():\n",
    "#             prob, attentions = model(input_ids=input_ids, output_attentions=True)\n",
    "#         lines_with_score, n_lines = extract_line_attention(attentions, all_tokens)\n",
    "#         extract_list.append((index, lines_with_score, n_lines))\n",
    "#     index += 1"
   ]
  },
  {
   "cell_type": "code",
   "execution_count": 33,
   "id": "55a200c8-b3df-4e71-aa52-aa1977cb0a42",
   "metadata": {},
   "outputs": [
    {
     "data": {
      "application/vnd.jupyter.widget-view+json": {
       "model_id": "fb34806b7f2f40269556080377957747",
       "version_major": 2,
       "version_minor": 0
      },
      "text/plain": [
       "Convert example to features:   0%|          | 0/18864 [00:00<?, ?it/s]"
      ]
     },
     "metadata": {},
     "output_type": "display_data"
    },
    {
     "data": {
      "application/vnd.jupyter.widget-view+json": {
       "model_id": "2f19f09e84d34c6ea45eff8fc9cb9bf3",
       "version_major": 2,
       "version_minor": 0
      },
      "text/plain": [
       "  0%|          | 0/18864 [00:00<?, ?it/s]"
      ]
     },
     "metadata": {},
     "output_type": "display_data"
    }
   ],
   "source": [
    "def explain(model, tokenizer, explain_indices, data_frame=None):\n",
    "    if data_frame is not None:\n",
    "        dataset = ExtendTextDataset(tokenizer, args, data_frame)\n",
    "    else:\n",
    "        dataset = TextDataset(tokenizer, args, file_type='test')\n",
    "    sampler = SequentialSampler(dataset)\n",
    "    data_loader = DataLoader(dataset, sampler=sampler, batch_size=1, num_workers=0)\n",
    "    model.eval()\n",
    "    index = 0\n",
    "    progress_bar = tqdm(data_loader, total=len(data_loader))\n",
    "    extract_list = []\n",
    "    for mini_batch in progress_bar:\n",
    "        if index in explain_indices:\n",
    "            (input_ids, labels) = mini_batch\n",
    "            ids = input_ids[0].detach().tolist()\n",
    "            all_tokens = tokenizer.convert_ids_to_tokens(ids)\n",
    "            all_tokens = [token.replace(\"Ġ\", \"\") for token in all_tokens]\n",
    "            all_tokens = [token.replace(\"ĉ\", \"Ċ\") for token in all_tokens]\n",
    "            with torch.no_grad():\n",
    "                prob, attentions = model(input_ids=input_ids, output_attentions=True)\n",
    "            lines_with_score, n_lines = extract_line_attention(attentions, all_tokens)\n",
    "            extract_list.append((index, lines_with_score, n_lines))\n",
    "        index += 1\n",
    "    return extract_list\n",
    "\n",
    "extract_list = explain(model, tokenizer, correct_indices)"
   ]
  },
  {
   "cell_type": "code",
   "execution_count": 34,
   "id": "688eecd2-a8af-4d8c-862c-4cd93f08a099",
   "metadata": {},
   "outputs": [
    {
     "data": {
      "text/plain": [
       "(911, 911)"
      ]
     },
     "execution_count": 34,
     "metadata": {},
     "output_type": "execute_result"
    }
   ],
   "source": [
    "len(extract_list), len(correct_indices)"
   ]
  },
  {
   "cell_type": "code",
   "execution_count": 35,
   "id": "c0203581-99a2-48b8-b27d-853a90f74b45",
   "metadata": {},
   "outputs": [
    {
     "data": {
      "text/plain": [
       "(18822,\n",
       " [(2,\n",
       "   'command_line->AppendSwitch(switches::kEnableThreadedCompositing);',\n",
       "   1153.4075927734375),\n",
       "  (1, 'GpuFeatureTest::SetUpCommandLine(command_line);', 963.8869018554688),\n",
       "  (0,\n",
       "   '<s>virtualvoidSetUpCommandLine(CommandLine*command_line){',\n",
       "   850.890869140625),\n",
       "  (3, '}', 151.55853271484375)],\n",
       " 4)"
      ]
     },
     "execution_count": 35,
     "metadata": {},
     "output_type": "execute_result"
    }
   ],
   "source": [
    "extract_list[-1]"
   ]
  },
  {
   "cell_type": "code",
   "execution_count": 36,
   "id": "add765fc-bf45-4205-9360-9d65ff125ad5",
   "metadata": {},
   "outputs": [
    {
     "name": "stdout",
     "output_type": "stream",
     "text": [
      "  virtual void SetUpCommandLine(CommandLine* command_line) {\n",
      "    GpuFeatureTest::SetUpCommandLine(command_line);\n",
      "    command_line->AppendSwitch(switches::kEnableThreadedCompositing);\n",
      "  }\n",
      "\n"
     ]
    }
   ],
   "source": [
    "import codecs\n",
    "\n",
    "df = pd.read_csv(args.test_data_file)\n",
    "context = df.iloc[18822]['func_before']\n",
    "modified_context = codecs.decode(context, 'unicode_escape')\n",
    "\n",
    "new_variable = modified_context.replace(r'\\n', '\\n')\n",
    "\n",
    "print(new_variable)"
   ]
  },
  {
   "attachments": {},
   "cell_type": "markdown",
   "id": "1f8605ef-5bd5-41fc-9e09-b2211f1bbb58",
   "metadata": {},
   "source": [
    "# Attack vector"
   ]
  },
  {
   "cell_type": "code",
   "execution_count": 37,
   "id": "1ef691b8-6d6e-4882-b0aa-e17095633a2e",
   "metadata": {},
   "outputs": [],
   "source": [
    "attack_vector = load_dataset(args.task)"
   ]
  },
  {
   "cell_type": "code",
   "execution_count": 38,
   "id": "b387faba-87c7-49d7-b210-efe1c041678e",
   "metadata": {},
   "outputs": [
    {
     "data": {
      "text/plain": [
       "Dataset({\n",
       "    features: ['CVE ID', 'explain', 'func_before'],\n",
       "    num_rows: 1350\n",
       "})"
      ]
     },
     "execution_count": 38,
     "metadata": {},
     "output_type": "execute_result"
    }
   ],
   "source": [
    "attack_vector_test = attack_vector['test']\n",
    "attack_vector_test"
   ]
  },
  {
   "cell_type": "code",
   "execution_count": 39,
   "id": "774c771b-564a-4adc-a660-c3846b9cc166",
   "metadata": {},
   "outputs": [
    {
     "data": {
      "text/plain": [
       "Dataset({\n",
       "    features: ['CVE ID', 'explain', 'func_before'],\n",
       "    num_rows: 1350\n",
       "})"
      ]
     },
     "execution_count": 39,
     "metadata": {},
     "output_type": "execute_result"
    }
   ],
   "source": [
    "attack_vector_test"
   ]
  },
  {
   "cell_type": "code",
   "execution_count": 40,
   "id": "6e9f9582-bc65-461b-94d5-dadc1dcf2fd3",
   "metadata": {},
   "outputs": [
    {
     "data": {
      "text/html": [
       "<div>\n",
       "<style scoped>\n",
       "    .dataframe tbody tr th:only-of-type {\n",
       "        vertical-align: middle;\n",
       "    }\n",
       "\n",
       "    .dataframe tbody tr th {\n",
       "        vertical-align: top;\n",
       "    }\n",
       "\n",
       "    .dataframe thead th {\n",
       "        text-align: right;\n",
       "    }\n",
       "</style>\n",
       "<table border=\"1\" class=\"dataframe\">\n",
       "  <thead>\n",
       "    <tr style=\"text-align: right;\">\n",
       "      <th></th>\n",
       "      <th>CVE ID</th>\n",
       "      <th>explain</th>\n",
       "      <th>func_before</th>\n",
       "    </tr>\n",
       "  </thead>\n",
       "  <tbody>\n",
       "    <tr>\n",
       "      <th>0</th>\n",
       "      <td>CVE-2017-3731</td>\n",
       "      <td>sending specially crafted truncated packets</td>\n",
       "      <td>static int aes_gcm_ctrl(EVP_CIPHER_CTX *c, int...</td>\n",
       "    </tr>\n",
       "    <tr>\n",
       "      <th>1</th>\n",
       "      <td>CVE-2013-2867</td>\n",
       "      <td>via a crafted web site .</td>\n",
       "      <td>void BluetoothDeviceChromeOS::OnUnregisterAgen...</td>\n",
       "    </tr>\n",
       "    <tr>\n",
       "      <th>2</th>\n",
       "      <td>CVE-2012-5131</td>\n",
       "      <td>via unknown vectors .</td>\n",
       "      <td>static void unregisterBlobURLTask(void* conte...</td>\n",
       "    </tr>\n",
       "    <tr>\n",
       "      <th>3</th>\n",
       "      <td>CVE-2016-5842</td>\n",
       "      <td>persuading a victim to open a specially crafte...</td>\n",
       "      <td>}static inline void WriteResourceLong(unsigned...</td>\n",
       "    </tr>\n",
       "    <tr>\n",
       "      <th>4</th>\n",
       "      <td>CVE-2012-2875</td>\n",
       "      <td>via a crafted document .</td>\n",
       "      <td>void PromoResourceService::PromoResourceState...</td>\n",
       "    </tr>\n",
       "    <tr>\n",
       "      <th>...</th>\n",
       "      <td>...</td>\n",
       "      <td>...</td>\n",
       "      <td>...</td>\n",
       "    </tr>\n",
       "    <tr>\n",
       "      <th>1345</th>\n",
       "      <td>CVE-2012-6657</td>\n",
       "      <td>by leveraging the ability to create a raw sock...</td>\n",
       "      <td>int sock_setsockopt(struct socket *sock, int l...</td>\n",
       "    </tr>\n",
       "    <tr>\n",
       "      <th>1346</th>\n",
       "      <td>CVE-2016-6787</td>\n",
       "      <td>using a specially-crafted application</td>\n",
       "      <td>static void perf_event_for_each_child(struct p...</td>\n",
       "    </tr>\n",
       "    <tr>\n",
       "      <th>1347</th>\n",
       "      <td>CVE-2016-3951</td>\n",
       "      <td>inserting a USB device with an invalid USB des...</td>\n",
       "      <td>static int cdc_ncm_bind(struct usbnet *dev, s...</td>\n",
       "    </tr>\n",
       "    <tr>\n",
       "      <th>1348</th>\n",
       "      <td>CVE-2016-1621</td>\n",
       "      <td>using a specially crafted media file</td>\n",
       "      <td>static unsigned int subpel_variance_ref(const ...</td>\n",
       "    </tr>\n",
       "    <tr>\n",
       "      <th>1349</th>\n",
       "      <td>CVE-2016-10195</td>\n",
       "      <td>via vectors involving the label_len variable</td>\n",
       "      <td>name_parse(u8 *packet, int length, int *idx, c...</td>\n",
       "    </tr>\n",
       "  </tbody>\n",
       "</table>\n",
       "<p>1350 rows × 3 columns</p>\n",
       "</div>"
      ],
      "text/plain": [
       "              CVE ID                                            explain  \\\n",
       "0      CVE-2017-3731        sending specially crafted truncated packets   \n",
       "1      CVE-2013-2867                           via a crafted web site .   \n",
       "2      CVE-2012-5131                              via unknown vectors .   \n",
       "3      CVE-2016-5842  persuading a victim to open a specially crafte...   \n",
       "4      CVE-2012-2875                           via a crafted document .   \n",
       "...              ...                                                ...   \n",
       "1345   CVE-2012-6657  by leveraging the ability to create a raw sock...   \n",
       "1346   CVE-2016-6787              using a specially-crafted application   \n",
       "1347   CVE-2016-3951  inserting a USB device with an invalid USB des...   \n",
       "1348   CVE-2016-1621               using a specially crafted media file   \n",
       "1349  CVE-2016-10195      via vectors involving the label_len variable    \n",
       "\n",
       "                                            func_before  \n",
       "0     static int aes_gcm_ctrl(EVP_CIPHER_CTX *c, int...  \n",
       "1     void BluetoothDeviceChromeOS::OnUnregisterAgen...  \n",
       "2      static void unregisterBlobURLTask(void* conte...  \n",
       "3     }static inline void WriteResourceLong(unsigned...  \n",
       "4      void PromoResourceService::PromoResourceState...  \n",
       "...                                                 ...  \n",
       "1345  int sock_setsockopt(struct socket *sock, int l...  \n",
       "1346  static void perf_event_for_each_child(struct p...  \n",
       "1347   static int cdc_ncm_bind(struct usbnet *dev, s...  \n",
       "1348  static unsigned int subpel_variance_ref(const ...  \n",
       "1349  name_parse(u8 *packet, int length, int *idx, c...  \n",
       "\n",
       "[1350 rows x 3 columns]"
      ]
     },
     "execution_count": 40,
     "metadata": {},
     "output_type": "execute_result"
    }
   ],
   "source": [
    "attack_vector_test_df = attack_vector_test.to_pandas()\n",
    "attack_vector_test_df"
   ]
  },
  {
   "cell_type": "code",
   "execution_count": 41,
   "id": "faadc0d6-1fe7-4fe6-944f-479576a9c26c",
   "metadata": {},
   "outputs": [
    {
     "data": {
      "text/plain": [
       "'static int aes_gcm_ctrl(EVP_CIPHER_CTX *c, int type, int arg, void *ptr) {  EVP_AES_GCM_CTX *gctx = EVP_C_DATA(EVP_AES_GCM_CTX,c);  switch (type) {  case EVP_CTRL_INIT:  gctx->key_set = 0;  gctx->iv_set = 0;  gctx->ivlen = EVP_CIPHER_CTX_iv_length(c);  gctx->iv = EVP_CIPHER_CTX_iv_noconst(c);  gctx->taglen = -1;  gctx->iv_gen = 0;  gctx->tls_aad_len = -1;  return 1;   case EVP_CTRL_AEAD_SET_IVLEN:  if (arg <= 0)  return 0;  /* Allocate memory for IV if needed */  if ((arg > EVP_MAX_IV_LENGTH) && (arg > gctx->ivlen)) {  if (gctx->iv != EVP_CIPHER_CTX_iv_noconst(c))  OPENSSL_free(gctx->iv);  gctx->iv = OPENSSL_malloc(arg);  if (gctx->iv == NULL)  return 0;  }  gctx->ivlen = arg;  return 1;   case EVP_CTRL_AEAD_SET_TAG:  if (arg <= 0 || arg > 16 || EVP_CIPHER_CTX_encrypting(c))  return 0;  memcpy(EVP_CIPHER_CTX_buf_noconst(c), ptr, arg);  gctx->taglen = arg;  return 1;   case EVP_CTRL_AEAD_GET_TAG:  if (arg <= 0 || arg > 16 || !EVP_CIPHER_CTX_encrypting(c)  || gctx->taglen < 0)  return 0;  memcpy(ptr, EVP_CIPHER_CTX_buf_noconst(c), arg);  return 1;   case EVP_CTRL_GCM_SET_IV_FIXED:  /* Special case: -1 length restores whole IV */  if (arg == -1) {  memcpy(gctx->iv, ptr, gctx->ivlen);  gctx->iv_gen = 1;  return 1;  }  /*  * Fixed field must be at least 4 bytes and invocation field at least  * 8.  */  if ((arg < 4) || (gctx->ivlen - arg) < 8)  return 0;  if (arg)  memcpy(gctx->iv, ptr, arg);  if (EVP_CIPHER_CTX_encrypting(c)  && RAND_bytes(gctx->iv + arg, gctx->ivlen - arg) <= 0)  return 0;  gctx->iv_gen = 1;  return 1;   case EVP_CTRL_GCM_IV_GEN:  if (gctx->iv_gen == 0 || gctx->key_set == 0)  return 0;  CRYPTO_gcm128_setiv(&gctx->gcm, gctx->iv, gctx->ivlen);  if (arg <= 0 || arg > gctx->ivlen)  arg = gctx->ivlen;  memcpy(ptr, gctx->iv + gctx->ivlen - arg, arg);  /*  * Invocation field will be at least 8 bytes in size and so no need  * to check wrap around or increment more than last 8 bytes.  */  ctr64_inc(gctx->iv + gctx->ivlen - 8);  gctx->iv_set = 1;  return 1;   case EVP_CTRL_GCM_SET_IV_INV:  if (gctx->iv_gen == 0 || gctx->key_set == 0  || EVP_CIPHER_CTX_encrypting(c))  return 0;  memcpy(gctx->iv + gctx->ivlen - arg, ptr, arg);  CRYPTO_gcm128_setiv(&gctx->gcm, gctx->iv, gctx->ivlen);  gctx->iv_set = 1;  return 1;   case EVP_CTRL_AEAD_TLS1_AAD:  /* Save the AAD for later use */  if (arg != EVP_AEAD_TLS1_AAD_LEN)  return 0;  memcpy(EVP_CIPHER_CTX_buf_noconst(c), ptr, arg);  gctx->tls_aad_len = arg;  {  unsigned int len =  EVP_CIPHER_CTX_buf_noconst(c)[arg - 2] << 8  | EVP_CIPHER_CTX_buf_noconst(c)[arg - 1];  /* Correct length for explicit IV */  len -= EVP_GCM_TLS_EXPLICIT_IV_LEN;  /* If decrypting correct for tag too */  if (!EVP_CIPHER_CTX_encrypting(c))  len -= EVP_GCM_TLS_TAG_LEN;  EVP_CIPHER_CTX_buf_noconst(c)[arg - 2] = len >> 8;  EVP_CIPHER_CTX_buf_noconst(c)[arg - 1] = len & 0xff;  }  /* Extra padding: tag appended to record */  return EVP_GCM_TLS_TAG_LEN;   case EVP_CTRL_COPY:  {  EVP_CIPHER_CTX *out = ptr;  EVP_AES_GCM_CTX *gctx_out = EVP_C_DATA(EVP_AES_GCM_CTX,out);  if (gctx->gcm.key) {  if (gctx->gcm.key != &gctx->ks)  return 0;  gctx_out->gcm.key = &gctx_out->ks;  }  if (gctx->iv == EVP_CIPHER_CTX_iv_noconst(c))  gctx_out->iv = EVP_CIPHER_CTX_iv_noconst(out);  else {  gctx_out->iv = OPENSSL_malloc(gctx->ivlen);  if (gctx_out->iv == NULL)  return 0;  memcpy(gctx_out->iv, gctx->iv, gctx->ivlen);  }  return 1;  }   default:  return -1;   } } '"
      ]
     },
     "execution_count": 41,
     "metadata": {},
     "output_type": "execute_result"
    }
   ],
   "source": [
    "# func_before doesn't have the same format as processed_func from lineVul\n",
    "attack_vector_test_df.iloc[0]['func_before']"
   ]
  },
  {
   "cell_type": "code",
   "execution_count": 42,
   "id": "c48238e7-9233-4ff1-9316-50d31244e6d6",
   "metadata": {},
   "outputs": [
    {
     "data": {
      "text/plain": [
       "'DisplayNameValueList(char * buffer, int bufsize)\\n{\\n    struct NameValueParserData pdata;\\n    struct NameValue * nv;\\n    ParseNameValue(buffer, bufsize, &pdata);\\n    for(nv = pdata.l_head;\\n        nv != NULL;\\n        nv = nv->l_next)\\n    {\\n        printf(\"%s = %s\\\\n\", nv->name, nv->value);\\n    }\\n    ClearNameValueList(&pdata);\\n}\\n'"
      ]
     },
     "execution_count": 42,
     "metadata": {},
     "output_type": "execute_result"
    }
   ],
   "source": [
    "df.iloc[18859]['processed_func']"
   ]
  },
  {
   "cell_type": "code",
   "execution_count": 43,
   "id": "ad25a321-9018-42e6-a44c-c5636277e41c",
   "metadata": {},
   "outputs": [
    {
     "data": {
      "application/vnd.jupyter.widget-view+json": {
       "model_id": "8e8b5e4b95cf4fa88888a74e0899ae1f",
       "version_major": 2,
       "version_minor": 0
      },
      "text/plain": [
       "(6 Workers) Format string to LineVul expectation:   0%|          | 0/1350 [00:00<?, ?it/s]"
      ]
     },
     "metadata": {},
     "output_type": "display_data"
    }
   ],
   "source": [
    "# convert the same format\n",
    "attack_vector_test_df['processed_func'] = commons.dfmp(attack_vector_test_df, commons.format_code, \"func_before\", cs=200, desc=\"Format string to LineVul expectation\")"
   ]
  },
  {
   "cell_type": "code",
   "execution_count": 44,
   "id": "f07d5e27-bb54-4e30-b8a9-7f1a0dcdaf7f",
   "metadata": {},
   "outputs": [
    {
     "data": {
      "text/html": [
       "<div>\n",
       "<style scoped>\n",
       "    .dataframe tbody tr th:only-of-type {\n",
       "        vertical-align: middle;\n",
       "    }\n",
       "\n",
       "    .dataframe tbody tr th {\n",
       "        vertical-align: top;\n",
       "    }\n",
       "\n",
       "    .dataframe thead th {\n",
       "        text-align: right;\n",
       "    }\n",
       "</style>\n",
       "<table border=\"1\" class=\"dataframe\">\n",
       "  <thead>\n",
       "    <tr style=\"text-align: right;\">\n",
       "      <th></th>\n",
       "      <th>CVE ID</th>\n",
       "      <th>explain</th>\n",
       "      <th>func_before</th>\n",
       "      <th>processed_func</th>\n",
       "    </tr>\n",
       "  </thead>\n",
       "  <tbody>\n",
       "    <tr>\n",
       "      <th>0</th>\n",
       "      <td>CVE-2017-3731</td>\n",
       "      <td>sending specially crafted truncated packets</td>\n",
       "      <td>static int aes_gcm_ctrl(EVP_CIPHER_CTX *c, int...</td>\n",
       "      <td>static int aes_gcm_ctrl(EVP_CIPHER_CTX *c, int...</td>\n",
       "    </tr>\n",
       "    <tr>\n",
       "      <th>1</th>\n",
       "      <td>CVE-2013-2867</td>\n",
       "      <td>via a crafted web site .</td>\n",
       "      <td>void BluetoothDeviceChromeOS::OnUnregisterAgen...</td>\n",
       "      <td>void BluetoothDeviceChromeOS::OnUnregisterAgen...</td>\n",
       "    </tr>\n",
       "    <tr>\n",
       "      <th>2</th>\n",
       "      <td>CVE-2012-5131</td>\n",
       "      <td>via unknown vectors .</td>\n",
       "      <td>static void unregisterBlobURLTask(void* conte...</td>\n",
       "      <td>static void unregisterBlobURLTask(void* contex...</td>\n",
       "    </tr>\n",
       "    <tr>\n",
       "      <th>3</th>\n",
       "      <td>CVE-2016-5842</td>\n",
       "      <td>persuading a victim to open a specially crafte...</td>\n",
       "      <td>}static inline void WriteResourceLong(unsigned...</td>\n",
       "      <td>}\\nstatic inline void WriteResourceLong(unsign...</td>\n",
       "    </tr>\n",
       "    <tr>\n",
       "      <th>4</th>\n",
       "      <td>CVE-2012-2875</td>\n",
       "      <td>via a crafted document .</td>\n",
       "      <td>void PromoResourceService::PromoResourceState...</td>\n",
       "      <td>void PromoResourceService::PromoResourceStateC...</td>\n",
       "    </tr>\n",
       "    <tr>\n",
       "      <th>...</th>\n",
       "      <td>...</td>\n",
       "      <td>...</td>\n",
       "      <td>...</td>\n",
       "      <td>...</td>\n",
       "    </tr>\n",
       "    <tr>\n",
       "      <th>1345</th>\n",
       "      <td>CVE-2012-6657</td>\n",
       "      <td>by leveraging the ability to create a raw sock...</td>\n",
       "      <td>int sock_setsockopt(struct socket *sock, int l...</td>\n",
       "      <td>int sock_setsockopt(struct socket *sock, int l...</td>\n",
       "    </tr>\n",
       "    <tr>\n",
       "      <th>1346</th>\n",
       "      <td>CVE-2016-6787</td>\n",
       "      <td>using a specially-crafted application</td>\n",
       "      <td>static void perf_event_for_each_child(struct p...</td>\n",
       "      <td>static void perf_event_for_each_child(struct p...</td>\n",
       "    </tr>\n",
       "    <tr>\n",
       "      <th>1347</th>\n",
       "      <td>CVE-2016-3951</td>\n",
       "      <td>inserting a USB device with an invalid USB des...</td>\n",
       "      <td>static int cdc_ncm_bind(struct usbnet *dev, s...</td>\n",
       "      <td>static int cdc_ncm_bind(struct usbnet *dev, st...</td>\n",
       "    </tr>\n",
       "    <tr>\n",
       "      <th>1348</th>\n",
       "      <td>CVE-2016-1621</td>\n",
       "      <td>using a specially crafted media file</td>\n",
       "      <td>static unsigned int subpel_variance_ref(const ...</td>\n",
       "      <td>static unsigned int subpel_variance_ref(const ...</td>\n",
       "    </tr>\n",
       "    <tr>\n",
       "      <th>1349</th>\n",
       "      <td>CVE-2016-10195</td>\n",
       "      <td>via vectors involving the label_len variable</td>\n",
       "      <td>name_parse(u8 *packet, int length, int *idx, c...</td>\n",
       "      <td>name_parse(u8 *packet, int length, int *idx, c...</td>\n",
       "    </tr>\n",
       "  </tbody>\n",
       "</table>\n",
       "<p>1350 rows × 4 columns</p>\n",
       "</div>"
      ],
      "text/plain": [
       "              CVE ID                                            explain  \\\n",
       "0      CVE-2017-3731        sending specially crafted truncated packets   \n",
       "1      CVE-2013-2867                           via a crafted web site .   \n",
       "2      CVE-2012-5131                              via unknown vectors .   \n",
       "3      CVE-2016-5842  persuading a victim to open a specially crafte...   \n",
       "4      CVE-2012-2875                           via a crafted document .   \n",
       "...              ...                                                ...   \n",
       "1345   CVE-2012-6657  by leveraging the ability to create a raw sock...   \n",
       "1346   CVE-2016-6787              using a specially-crafted application   \n",
       "1347   CVE-2016-3951  inserting a USB device with an invalid USB des...   \n",
       "1348   CVE-2016-1621               using a specially crafted media file   \n",
       "1349  CVE-2016-10195      via vectors involving the label_len variable    \n",
       "\n",
       "                                            func_before  \\\n",
       "0     static int aes_gcm_ctrl(EVP_CIPHER_CTX *c, int...   \n",
       "1     void BluetoothDeviceChromeOS::OnUnregisterAgen...   \n",
       "2      static void unregisterBlobURLTask(void* conte...   \n",
       "3     }static inline void WriteResourceLong(unsigned...   \n",
       "4      void PromoResourceService::PromoResourceState...   \n",
       "...                                                 ...   \n",
       "1345  int sock_setsockopt(struct socket *sock, int l...   \n",
       "1346  static void perf_event_for_each_child(struct p...   \n",
       "1347   static int cdc_ncm_bind(struct usbnet *dev, s...   \n",
       "1348  static unsigned int subpel_variance_ref(const ...   \n",
       "1349  name_parse(u8 *packet, int length, int *idx, c...   \n",
       "\n",
       "                                         processed_func  \n",
       "0     static int aes_gcm_ctrl(EVP_CIPHER_CTX *c, int...  \n",
       "1     void BluetoothDeviceChromeOS::OnUnregisterAgen...  \n",
       "2     static void unregisterBlobURLTask(void* contex...  \n",
       "3     }\\nstatic inline void WriteResourceLong(unsign...  \n",
       "4     void PromoResourceService::PromoResourceStateC...  \n",
       "...                                                 ...  \n",
       "1345  int sock_setsockopt(struct socket *sock, int l...  \n",
       "1346  static void perf_event_for_each_child(struct p...  \n",
       "1347  static int cdc_ncm_bind(struct usbnet *dev, st...  \n",
       "1348  static unsigned int subpel_variance_ref(const ...  \n",
       "1349  name_parse(u8 *packet, int length, int *idx, c...  \n",
       "\n",
       "[1350 rows x 4 columns]"
      ]
     },
     "execution_count": 44,
     "metadata": {},
     "output_type": "execute_result"
    }
   ],
   "source": [
    "attack_vector_test_df"
   ]
  },
  {
   "cell_type": "code",
   "execution_count": 45,
   "id": "3e9b3221-47ab-43cf-832e-ad1f102d0efe",
   "metadata": {},
   "outputs": [],
   "source": [
    "# to find TP\n",
    "# def find_tp(model, tokenizer, args, data_frame):\n",
    "#     extend_dataset = ExtendTextDataset(tokenizer, args, data_frame)\n",
    "#     sampler = SequentialSampler(extend_dataset)\n",
    "#     data_loader = DataLoader(extend_dataset, sampler=sampler, batch_size=args.eval_batch_size, num_workers=0)\n",
    "#     result, y_trues, y_preds = linevul_predict(model, data_loader, args.device)\n",
    "#     tp_indices = np.where((y_trues == y_preds) & (y_trues == 1))\n",
    "#     tp_indices = list(tp_indices[0])\n",
    "#     return result, tp_indices\n",
    "# result, tp_indices = find_tp(model, tokenizer, args, attack_vector_test_df)"
   ]
  },
  {
   "cell_type": "code",
   "execution_count": 47,
   "id": "44bf3639-1be9-41aa-a098-db60f0d14de9",
   "metadata": {},
   "outputs": [
    {
     "data": {
      "application/vnd.jupyter.widget-view+json": {
       "model_id": "fd1e4fe45a4f45c185b4af84103c085d",
       "version_major": 2,
       "version_minor": 0
      },
      "text/plain": [
       "ExtendTextDataset:   0%|          | 0/1350 [00:00<?, ?it/s]"
      ]
     },
     "metadata": {},
     "output_type": "display_data"
    },
    {
     "name": "stderr",
     "output_type": "stream",
     "text": [
      "/home/hqn650/anaconda3/envs/vul-intext-reason/lib/python3.11/site-packages/torch/nn/parallel/_functions.py:68: UserWarning: Was asked to gather along dimension 0, but all input tensors were scalars; will instead unsqueeze and return a vector.\n",
      "  warnings.warn('Was asked to gather along dimension 0, but all '\n"
     ]
    }
   ],
   "source": [
    "result, explain_indices = find_tp(model, tokenizer, args, attack_vector_test_df)"
   ]
  },
  {
   "cell_type": "code",
   "execution_count": 48,
   "id": "d05f4020-ca05-4ea1-8855-602c4b712ee6",
   "metadata": {},
   "outputs": [
    {
     "data": {
      "text/plain": [
       "({'test_accuracy': 0.10444444444444445,\n",
       "  'test_recall': 0.10444444444444445,\n",
       "  'test_precision': 1.0,\n",
       "  'test_f1': 0.18913480885311873,\n",
       "  'test_threshold': 0.5},\n",
       " 141)"
      ]
     },
     "execution_count": 48,
     "metadata": {},
     "output_type": "execute_result"
    }
   ],
   "source": [
    "result, len(explain_indices)"
   ]
  },
  {
   "cell_type": "code",
   "execution_count": 49,
   "id": "1e01da5e-7a38-470a-aaa2-1182c8e2e644",
   "metadata": {},
   "outputs": [
    {
     "data": {
      "application/vnd.jupyter.widget-view+json": {
       "model_id": "3b956c4879014ecbafe6558f88057db5",
       "version_major": 2,
       "version_minor": 0
      },
      "text/plain": [
       "ExtendTextDataset:   0%|          | 0/1350 [00:00<?, ?it/s]"
      ]
     },
     "metadata": {},
     "output_type": "display_data"
    },
    {
     "data": {
      "application/vnd.jupyter.widget-view+json": {
       "model_id": "216a5dec79f1449ea98c89970ab1c6a5",
       "version_major": 2,
       "version_minor": 0
      },
      "text/plain": [
       "  0%|          | 0/1350 [00:00<?, ?it/s]"
      ]
     },
     "metadata": {},
     "output_type": "display_data"
    }
   ],
   "source": [
    "extract_list_attack_vector = explain(model, tokenizer, explain_indices, attack_vector_test_df)"
   ]
  },
  {
   "cell_type": "code",
   "execution_count": 50,
   "id": "995cacce-6ab8-418d-963c-99d1d9209d25",
   "metadata": {},
   "outputs": [
    {
     "data": {
      "text/plain": [
       "(141, 141)"
      ]
     },
     "execution_count": 50,
     "metadata": {},
     "output_type": "execute_result"
    }
   ],
   "source": [
    "len(extract_list_attack_vector), len(explain_indices)"
   ]
  },
  {
   "cell_type": "code",
   "execution_count": 51,
   "id": "3bb1c029-42a9-4544-9eb8-e9b712144274",
   "metadata": {},
   "outputs": [
    {
     "data": {
      "text/plain": [
       "(8,\n",
       " [(15,\n",
       "   'NOTREACHED()<<\"Unsupportedaudiobitdepthincrossfade.\";',\n",
       "   675.3397216796875),\n",
       "  (12, 'DoCheckFakeData<uint8>(audio_data,length);', 492.43896484375),\n",
       "  (9, 'DoCheckFakeData<int16>(audio_data,length);', 439.83258056640625),\n",
       "  (0,\n",
       "   '<s>voidCheckFakeData(uint8*audio_data,intframes_written,',\n",
       "   434.6465759277344),\n",
       "  (6, 'DoCheckFakeData<int32>(audio_data,length);', 428.0029602050781),\n",
       "  (2,\n",
       "   'size_tlength=(frames_written*algorithm_.bytes_per_frame())/',\n",
       "   411.04876708984375),\n",
       "  (1, 'doubleplayback_rate){', 327.9273681640625),\n",
       "  (3, 'algorithm_.bytes_per_channel();', 314.5769958496094),\n",
       "  (4, 'switch(algorithm_.bytes_per_channel()){', 278.3238830566406),\n",
       "  (11, 'case1:', 156.80673217773438),\n",
       "  (8, 'case2:', 143.63552856445312),\n",
       "  (13, 'break;', 141.71417236328125),\n",
       "  (10, 'break;', 131.60609436035156),\n",
       "  (14, 'default:', 120.43937683105469),\n",
       "  (5, 'case4:', 116.97069549560547),\n",
       "  (7, 'break;', 116.07525634765625),\n",
       "  (16, '}', 72.8502197265625)],\n",
       " 17)"
      ]
     },
     "execution_count": 51,
     "metadata": {},
     "output_type": "execute_result"
    }
   ],
   "source": [
    "extract_list_attack_vector[0]"
   ]
  },
  {
   "cell_type": "code",
   "execution_count": null,
   "id": "6eacfd77",
   "metadata": {},
   "outputs": [],
   "source": []
  }
 ],
 "metadata": {
  "kernelspec": {
   "display_name": "Python 3 (ipykernel)",
   "language": "python",
   "name": "python3"
  },
  "language_info": {
   "codemirror_mode": {
    "name": "ipython",
    "version": 3
   },
   "file_extension": ".py",
   "mimetype": "text/x-python",
   "name": "python",
   "nbconvert_exporter": "python",
   "pygments_lexer": "ipython3",
   "version": "3.11.4"
  }
 },
 "nbformat": 4,
 "nbformat_minor": 5
}
