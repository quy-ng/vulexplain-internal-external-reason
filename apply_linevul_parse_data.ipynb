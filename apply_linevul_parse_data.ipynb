{
 "cells": [
  {
   "cell_type": "code",
   "execution_count": 1,
   "metadata": {},
   "outputs": [],
   "source": [
    "%load_ext autoreload\n",
    "%autoreload 2"
   ]
  },
  {
   "cell_type": "code",
   "execution_count": 2,
   "metadata": {},
   "outputs": [],
   "source": [
    "import torch\n",
    "import numpy as np\n",
    "import pandas as pd\n",
    "from project_dataset import load_dataset\n",
    "from dataclasses import dataclass\n",
    "from tqdm.autonotebook import tqdm\n",
    "from torch.utils.data import DataLoader, SequentialSampler"
   ]
  },
  {
   "cell_type": "code",
   "execution_count": 3,
   "metadata": {},
   "outputs": [],
   "source": [
    "@dataclass\n",
    "class Args:\n",
    "    device = torch.device(\"cuda\" if torch.cuda.is_available() else \"cpu\")\n",
    "    n_gpu = torch.cuda.device_count()\n",
    "    task = 'attack_vector'\n",
    "    use_word_level_tokenizer=False\n",
    "    block_size = 512\n",
    "    eval_batch_size = 512\n",
    "args = Args()"
   ]
  },
  {
   "cell_type": "code",
   "execution_count": 4,
   "metadata": {},
   "outputs": [],
   "source": [
    "dataset = load_dataset(args.task)"
   ]
  },
  {
   "cell_type": "code",
   "execution_count": 5,
   "metadata": {},
   "outputs": [],
   "source": [
    "from transformers import logging\n",
    "logging.set_verbosity(50)"
   ]
  },
  {
   "cell_type": "code",
   "execution_count": 6,
   "metadata": {},
   "outputs": [],
   "source": [
    "# Load model directly\n",
    "from transformers import AutoTokenizer, AutoModel\n",
    "\n",
    "linevul_tokenizer = AutoTokenizer.from_pretrained(\"MickyMike/LineVul\")\n",
    "linevul_model = AutoModel.from_pretrained(\"MickyMike/LineVul\")"
   ]
  },
  {
   "cell_type": "code",
   "execution_count": 7,
   "metadata": {},
   "outputs": [],
   "source": [
    "from linevul_helpers import TextDataset, convert_examples_to_features\n",
    "from linevul_extra import extract_line_attention, linevul_predict\n",
    "\n",
    "class ExtendTextDataset(TextDataset):\n",
    "    def __init__(self, tokenizer, args, data_frame):\n",
    "        self.examples = []\n",
    "        funcs = data_frame[\"processed_func\"].tolist()\n",
    "        for i in tqdm(range(len(funcs)), desc='ExtendTextDataset'):\n",
    "            # as data has vulnerable only, we add new label column and make it all to 1\n",
    "            self.examples.append(convert_examples_to_features(funcs[i], 1, tokenizer, args))\n",
    "\n",
    "# to find TP\n",
    "def find_tp(model, tokenizer, args, data_frame=None):\n",
    "    if data_frame is not None:\n",
    "        dataset = ExtendTextDataset(tokenizer, args, data_frame)\n",
    "    else:\n",
    "        dataset = TextDataset(tokenizer, args, file_type='test')\n",
    "    sampler = SequentialSampler(dataset)\n",
    "    data_loader = DataLoader(dataset, sampler=sampler, batch_size=args.eval_batch_size, num_workers=0)\n",
    "    result, y_trues, y_preds = linevul_predict(model, data_loader, args.device)\n",
    "    tp_indices = np.where((y_trues == y_preds) & (y_trues == 1))\n",
    "    tp_indices = list(tp_indices[0])\n",
    "    return result, tp_indices\n",
    "\n",
    "\n",
    "def explain(model, tokenizer, explain_indices, data_frame=None): \n",
    "    \"\"\" \n",
    "        return (sample_idx, lines, n_lines)\n",
    "    \"\"\"\n",
    "    if data_frame is not None:\n",
    "        dataset = ExtendTextDataset(tokenizer, args, data_frame)\n",
    "    else:\n",
    "        dataset = TextDataset(tokenizer, args, file_type='test')\n",
    "    sampler = SequentialSampler(dataset)\n",
    "    data_loader = DataLoader(dataset, sampler=sampler, batch_size=1, num_workers=0)\n",
    "    model.eval()\n",
    "    index = 0\n",
    "    progress_bar = tqdm(data_loader, total=len(data_loader))\n",
    "    extract_list = []\n",
    "    for mini_batch in progress_bar:\n",
    "        if index in explain_indices:\n",
    "            (input_ids, labels) = mini_batch\n",
    "            ids = input_ids[0].detach().tolist()\n",
    "            all_tokens = tokenizer.convert_ids_to_tokens(ids)\n",
    "            all_tokens = [token.replace(\"Ġ\", \"\") for token in all_tokens]\n",
    "            all_tokens = [token.replace(\"ĉ\", \"Ċ\") for token in all_tokens]\n",
    "            with torch.no_grad():\n",
    "                prob, attentions = model(input_ids=input_ids, output_attentions=True)\n",
    "            lines_with_score, n_lines = extract_line_attention(attentions, all_tokens)\n",
    "            extract_list.append((index, lines_with_score, n_lines))\n",
    "        index += 1\n",
    "    return extract_list"
   ]
  },
  {
   "cell_type": "code",
   "execution_count": 8,
   "metadata": {},
   "outputs": [],
   "source": [
    "# multi-gpu evaluate\n",
    "if args.n_gpu > 1:\n",
    "    model = torch.nn.DataParallel(linevul_model)"
   ]
  },
  {
   "cell_type": "code",
   "execution_count": 9,
   "metadata": {},
   "outputs": [],
   "source": [
    "train_set = dataset['train'].to_pandas()\n",
    "validation_set = dataset['validation'].to_pandas()\n",
    "test_set = dataset['test'].to_pandas()"
   ]
  },
  {
   "cell_type": "code",
   "execution_count": 12,
   "metadata": {},
   "outputs": [
    {
     "data": {
      "application/vnd.jupyter.widget-view+json": {
       "model_id": "95b0b350b25543079ccb9f6eb3191bad",
       "version_major": 2,
       "version_minor": 0
      },
      "text/plain": [
       "ExtendTextDataset:   0%|          | 0/1350 [00:00<?, ?it/s]"
      ]
     },
     "metadata": {},
     "output_type": "display_data"
    }
   ],
   "source": [
    "result, explain_indices = find_tp(linevul_model, linevul_tokenizer, args, test_set)"
   ]
  },
  {
   "cell_type": "code",
   "execution_count": null,
   "metadata": {},
   "outputs": [],
   "source": []
  }
 ],
 "metadata": {
  "kernelspec": {
   "display_name": "vul-intext-reason",
   "language": "python",
   "name": "python3"
  },
  "language_info": {
   "codemirror_mode": {
    "name": "ipython",
    "version": 3
   },
   "file_extension": ".py",
   "mimetype": "text/x-python",
   "name": "python",
   "nbconvert_exporter": "python",
   "pygments_lexer": "ipython3",
   "version": "3.11.3"
  }
 },
 "nbformat": 4,
 "nbformat_minor": 2
}
