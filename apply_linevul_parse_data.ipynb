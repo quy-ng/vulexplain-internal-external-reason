{
 "cells": [
  {
   "cell_type": "code",
   "execution_count": 2,
   "metadata": {},
   "outputs": [],
   "source": [
    "%load_ext autoreload\n",
    "%autoreload 2"
   ]
  },
  {
   "cell_type": "code",
   "execution_count": 17,
   "metadata": {},
   "outputs": [],
   "source": [
    "import torch\n",
    "import numpy as np\n",
    "import pandas as pd\n",
    "from project_dataset import load_dataset\n",
    "from dataclasses import dataclass\n",
    "from tqdm.autonotebook import tqdm\n",
    "from torch.utils.data import DataLoader, SequentialSampler\n",
    "from datasets import Dataset, DatasetDict"
   ]
  },
  {
   "cell_type": "code",
   "execution_count": 4,
   "metadata": {},
   "outputs": [],
   "source": [
    "@dataclass\n",
    "class Args:\n",
    "    device = torch.device(\"cuda\" if torch.cuda.is_available() else \"cpu\")\n",
    "    n_gpu = torch.cuda.device_count()\n",
    "    use_word_level_tokenizer=False\n",
    "    block_size = 512\n",
    "    eval_batch_size = 512\n",
    "    num_attention_heads=12\n",
    "    decision_threshold = 0.00001\n",
    "args = Args()"
   ]
  },
  {
   "cell_type": "code",
   "execution_count": 5,
   "metadata": {},
   "outputs": [],
   "source": [
    "from transformers import logging\n",
    "logging.set_verbosity(50)"
   ]
  },
  {
   "cell_type": "code",
   "execution_count": 6,
   "metadata": {},
   "outputs": [],
   "source": [
    "# Load model directly\n",
    "from linevul_model import Model\n",
    "from transformers import (RobertaTokenizer, \n",
    "                          RobertaForSequenceClassification, \n",
    "                          RobertaConfig)\n",
    "\n",
    "config = RobertaConfig.from_pretrained('microsoft/codebert-base')\n",
    "config.num_labels = 1\n",
    "config.num_attention_heads = 12\n",
    "\n",
    "tokenizer = RobertaTokenizer.from_pretrained('microsoft/codebert-base')\n",
    "encoder = RobertaForSequenceClassification.from_pretrained('microsoft/codebert-base', \n",
    "                                                             config=config, \n",
    "                                                             ignore_mismatched_sizes=True).to(args.device)\n",
    "linevul_model = Model(encoder, config, tokenizer, args)"
   ]
  },
  {
   "cell_type": "code",
   "execution_count": 7,
   "metadata": {},
   "outputs": [
    {
     "data": {
      "text/plain": [
       "Model(\n",
       "  (roberta): RobertaModel(\n",
       "    (embeddings): RobertaEmbeddings(\n",
       "      (word_embeddings): Embedding(50265, 768, padding_idx=1)\n",
       "      (position_embeddings): Embedding(514, 768, padding_idx=1)\n",
       "      (token_type_embeddings): Embedding(1, 768)\n",
       "      (LayerNorm): LayerNorm((768,), eps=1e-05, elementwise_affine=True)\n",
       "      (dropout): Dropout(p=0.1, inplace=False)\n",
       "    )\n",
       "    (encoder): RobertaEncoder(\n",
       "      (layer): ModuleList(\n",
       "        (0-11): 12 x RobertaLayer(\n",
       "          (attention): RobertaAttention(\n",
       "            (self): RobertaSelfAttention(\n",
       "              (query): Linear(in_features=768, out_features=768, bias=True)\n",
       "              (key): Linear(in_features=768, out_features=768, bias=True)\n",
       "              (value): Linear(in_features=768, out_features=768, bias=True)\n",
       "              (dropout): Dropout(p=0.1, inplace=False)\n",
       "            )\n",
       "            (output): RobertaSelfOutput(\n",
       "              (dense): Linear(in_features=768, out_features=768, bias=True)\n",
       "              (LayerNorm): LayerNorm((768,), eps=1e-05, elementwise_affine=True)\n",
       "              (dropout): Dropout(p=0.1, inplace=False)\n",
       "            )\n",
       "          )\n",
       "          (intermediate): RobertaIntermediate(\n",
       "            (dense): Linear(in_features=768, out_features=3072, bias=True)\n",
       "            (intermediate_act_fn): GELUActivation()\n",
       "          )\n",
       "          (output): RobertaOutput(\n",
       "            (dense): Linear(in_features=3072, out_features=768, bias=True)\n",
       "            (LayerNorm): LayerNorm((768,), eps=1e-05, elementwise_affine=True)\n",
       "            (dropout): Dropout(p=0.1, inplace=False)\n",
       "          )\n",
       "        )\n",
       "      )\n",
       "    )\n",
       "  )\n",
       "  (classifier): RobertaClassificationHead(\n",
       "    (dense): Linear(in_features=768, out_features=768, bias=True)\n",
       "    (dropout): Dropout(p=0.1, inplace=False)\n",
       "    (out_proj): Linear(in_features=768, out_features=2, bias=True)\n",
       "  )\n",
       "  (encoder): RobertaForSequenceClassification(\n",
       "    (roberta): RobertaModel(\n",
       "      (embeddings): RobertaEmbeddings(\n",
       "        (word_embeddings): Embedding(50265, 768, padding_idx=1)\n",
       "        (position_embeddings): Embedding(514, 768, padding_idx=1)\n",
       "        (token_type_embeddings): Embedding(1, 768)\n",
       "        (LayerNorm): LayerNorm((768,), eps=1e-05, elementwise_affine=True)\n",
       "        (dropout): Dropout(p=0.1, inplace=False)\n",
       "      )\n",
       "      (encoder): RobertaEncoder(\n",
       "        (layer): ModuleList(\n",
       "          (0-11): 12 x RobertaLayer(\n",
       "            (attention): RobertaAttention(\n",
       "              (self): RobertaSelfAttention(\n",
       "                (query): Linear(in_features=768, out_features=768, bias=True)\n",
       "                (key): Linear(in_features=768, out_features=768, bias=True)\n",
       "                (value): Linear(in_features=768, out_features=768, bias=True)\n",
       "                (dropout): Dropout(p=0.1, inplace=False)\n",
       "              )\n",
       "              (output): RobertaSelfOutput(\n",
       "                (dense): Linear(in_features=768, out_features=768, bias=True)\n",
       "                (LayerNorm): LayerNorm((768,), eps=1e-05, elementwise_affine=True)\n",
       "                (dropout): Dropout(p=0.1, inplace=False)\n",
       "              )\n",
       "            )\n",
       "            (intermediate): RobertaIntermediate(\n",
       "              (dense): Linear(in_features=768, out_features=3072, bias=True)\n",
       "              (intermediate_act_fn): GELUActivation()\n",
       "            )\n",
       "            (output): RobertaOutput(\n",
       "              (dense): Linear(in_features=3072, out_features=768, bias=True)\n",
       "              (LayerNorm): LayerNorm((768,), eps=1e-05, elementwise_affine=True)\n",
       "              (dropout): Dropout(p=0.1, inplace=False)\n",
       "            )\n",
       "          )\n",
       "        )\n",
       "      )\n",
       "    )\n",
       "    (classifier): RobertaClassificationHead(\n",
       "      (dense): Linear(in_features=768, out_features=768, bias=True)\n",
       "      (dropout): Dropout(p=0.1, inplace=False)\n",
       "      (out_proj): Linear(in_features=768, out_features=1, bias=True)\n",
       "    )\n",
       "  )\n",
       ")"
      ]
     },
     "execution_count": 7,
     "metadata": {},
     "output_type": "execute_result"
    }
   ],
   "source": [
    "checkpoint = '12heads_linevul_model.bin'\n",
    "state_dict = torch.load(checkpoint, map_location=args.device)\n",
    "linevul_model.load_state_dict(state_dict, strict=False)\n",
    "linevul_model.to(args.device)"
   ]
  },
  {
   "cell_type": "code",
   "execution_count": 8,
   "metadata": {},
   "outputs": [],
   "source": [
    "from linevul_helpers import TextDataset, convert_examples_to_features\n",
    "from linevul_extra import extract_line_attention, linevul_predict\n",
    "\n",
    "class ExtendTextDataset(TextDataset):\n",
    "    def __init__(self, tokenizer, args, data_frame):\n",
    "        self.examples = []\n",
    "        for row in data_frame.iterrows():\n",
    "            processed_func = row[1]['processed_func']\n",
    "            # as data has vulnerable only, we add new label column and make it all to 1\n",
    "            self.examples.append(convert_examples_to_features(processed_func, 1, tokenizer, args))\n",
    "\n",
    "# to find TP\n",
    "def find_tp(model, tokenizer, args, data_frame=None):\n",
    "    if data_frame is not None:\n",
    "        dataset = ExtendTextDataset(tokenizer, args, data_frame)\n",
    "    else:\n",
    "        dataset = TextDataset(tokenizer, args, file_type='test')\n",
    "    sampler = SequentialSampler(dataset)\n",
    "    data_loader = DataLoader(dataset, sampler=sampler, batch_size=args.eval_batch_size, num_workers=0)\n",
    "    result, y_trues, y_preds = linevul_predict(model, data_loader, args.device, threshold=args.decision_threshold)\n",
    "    tp_indices = np.where((y_trues == y_preds) & (y_trues == 1))\n",
    "    tp_indices = list(tp_indices[0])\n",
    "    return result, tp_indices\n",
    "\n",
    "\n",
    "def explain(model, tokenizer, explain_indices, data_frame=None): \n",
    "    \"\"\" \n",
    "        return (sample_idx, lines, n_lines)\n",
    "    \"\"\"\n",
    "    if data_frame is not None:\n",
    "        dataset = ExtendTextDataset(tokenizer, args, data_frame)\n",
    "    else:\n",
    "        dataset = TextDataset(tokenizer, args, file_type='test')\n",
    "    sampler = SequentialSampler(dataset)\n",
    "    data_loader = DataLoader(dataset, sampler=sampler, batch_size=1, num_workers=0)\n",
    "    model.eval()\n",
    "    index = 0\n",
    "    progress_bar = tqdm(data_loader, total=len(data_loader))\n",
    "    extract_list = []\n",
    "    for mini_batch in progress_bar:\n",
    "        if index in explain_indices:\n",
    "            (input_ids, labels) = mini_batch\n",
    "            ids = input_ids[0].detach().tolist()\n",
    "            all_tokens = tokenizer.convert_ids_to_tokens(ids)\n",
    "            all_tokens = [token.replace(\"Ġ\", \"\") for token in all_tokens]\n",
    "            all_tokens = [token.replace(\"ĉ\", \"Ċ\") for token in all_tokens]\n",
    "            with torch.no_grad():\n",
    "                prob, attentions = model(input_ids=input_ids, output_attentions=True)\n",
    "            lines_with_score, n_lines = extract_line_attention(attentions, all_tokens)\n",
    "            extract_list.append((index, lines_with_score, n_lines))\n",
    "        index += 1\n",
    "    return extract_list\n",
    "\n",
    "def extract_linevul_ranking(linevul_output):\n",
    "    linevul_ranking = {}\n",
    "    for item in linevul_output:\n",
    "        ranking = []\n",
    "        idx = item[0]\n",
    "        for line in item[1]:\n",
    "            ranking.append(line[0])\n",
    "        linevul_ranking[idx] = tuple(ranking)\n",
    "    return linevul_ranking"
   ]
  },
  {
   "cell_type": "code",
   "execution_count": 9,
   "metadata": {},
   "outputs": [],
   "source": [
    "# multi-gpu evaluate\n",
    "if args.n_gpu > 1:\n",
    "    linevul_model = torch.nn.DataParallel(linevul_model)"
   ]
  },
  {
   "cell_type": "markdown",
   "metadata": {},
   "source": [
    "## attack_vector"
   ]
  },
  {
   "cell_type": "code",
   "execution_count": 26,
   "metadata": {},
   "outputs": [
    {
     "name": "stdout",
     "output_type": "stream",
     "text": [
      "TP result in train: {'test_accuracy': 1.0, 'test_recall': 1.0, 'test_precision': 1.0, 'test_f1': 1.0, 'test_threshold': 1e-05}\n"
     ]
    },
    {
     "data": {
      "application/vnd.jupyter.widget-view+json": {
       "model_id": "0e9ff64c08f0402f8ad01857c55ade1a",
       "version_major": 2,
       "version_minor": 0
      },
      "text/plain": [
       "  0%|          | 0/4858 [00:00<?, ?it/s]"
      ]
     },
     "metadata": {},
     "output_type": "display_data"
    },
    {
     "name": "stdout",
     "output_type": "stream",
     "text": [
      "TP result in test: {'test_accuracy': 1.0, 'test_recall': 1.0, 'test_precision': 1.0, 'test_f1': 1.0, 'test_threshold': 1e-05}\n"
     ]
    },
    {
     "data": {
      "application/vnd.jupyter.widget-view+json": {
       "model_id": "df8a57d0dd174a96a8a05c4a4de1d917",
       "version_major": 2,
       "version_minor": 0
      },
      "text/plain": [
       "  0%|          | 0/1350 [00:00<?, ?it/s]"
      ]
     },
     "metadata": {},
     "output_type": "display_data"
    },
    {
     "name": "stdout",
     "output_type": "stream",
     "text": [
      "TP result in validation: {'test_accuracy': 1.0, 'test_recall': 1.0, 'test_precision': 1.0, 'test_f1': 1.0, 'test_threshold': 1e-05}\n"
     ]
    },
    {
     "data": {
      "application/vnd.jupyter.widget-view+json": {
       "model_id": "2505089de478423ca4a9809d1a95fb6e",
       "version_major": 2,
       "version_minor": 0
      },
      "text/plain": [
       "  0%|          | 0/540 [00:00<?, ?it/s]"
      ]
     },
     "metadata": {},
     "output_type": "display_data"
    }
   ],
   "source": [
    "task = 'attack_vector'\n",
    "dataset = load_dataset(task)\n",
    "\n",
    "data_dict = {}\n",
    "for dset in ['train', 'test', 'validation']:\n",
    "    workind_data = dataset[dset].to_pandas()\n",
    "    result, tp_indices = find_tp(linevul_model, tokenizer, args, workind_data)\n",
    "    print(f\"TP result in {dset}:\", result)\n",
    "    linevul_output = explain(linevul_model, tokenizer, tp_indices, workind_data)\n",
    "    linevul_ranking = extract_linevul_ranking(linevul_output)\n",
    "    workind_data['linevul_ranking'] = [linevul_ranking[idx] for idx in range(len(workind_data))]\n",
    "    data_dict[dset] = Dataset.from_pandas(workind_data)\n",
    "\n",
    "new_dataset = DatasetDict(data_dict)\n",
    "new_dataset.save_to_disk(f\"./aspect_bigvul_new/dataset_{task}\")"
   ]
  },
  {
   "cell_type": "markdown",
   "metadata": {},
   "source": [
    "# root_cause"
   ]
  },
  {
   "cell_type": "code",
   "execution_count": null,
   "metadata": {},
   "outputs": [],
   "source": [
    "task = 'root_cause'\n",
    "dataset = load_dataset(task)\n",
    "\n",
    "data_dict = {}\n",
    "for dset in ['train', 'test', 'validation']:\n",
    "    workind_data = dataset[dset].to_pandas()\n",
    "    result, tp_indices = find_tp(linevul_model, tokenizer, args, workind_data)\n",
    "    print(f\"TP result in {dset}:\", result)\n",
    "    linevul_output = explain(linevul_model, tokenizer, tp_indices, workind_data)\n",
    "    linevul_ranking = extract_linevul_ranking(linevul_output)\n",
    "    workind_data['linevul_ranking'] = [linevul_ranking[idx] for idx in range(len(workind_data))]\n",
    "    data_dict[dset] = Dataset.from_pandas(workind_data)\n",
    "\n",
    "new_dataset = DatasetDict(data_dict)\n",
    "new_dataset.save_to_disk(f\"./aspect_bigvul_new/dataset_{task}\")"
   ]
  },
  {
   "cell_type": "code",
   "execution_count": null,
   "metadata": {},
   "outputs": [],
   "source": [
    "task = 'root_cause'\n",
    "dataset = load_dataset(task)\n",
    "\n",
    "data_dict = {}\n",
    "for dset in ['train', 'test', 'validation']:\n",
    "    workind_data = dataset[dset].to_pandas()\n",
    "    result, tp_indices = find_tp(linevul_model, tokenizer, args, workind_data)\n",
    "    print(f\"TP result in {dset}:\", result)\n",
    "    linevul_output = explain(linevul_model, tokenizer, tp_indices, workind_data)\n",
    "    linevul_ranking = extract_linevul_ranking(linevul_output)\n",
    "    workind_data['linevul_ranking'] = [linevul_ranking[idx] for idx in range(len(workind_data))]\n",
    "    data_dict[dset] = Dataset.from_pandas(workind_data)\n",
    "\n",
    "new_dataset = DatasetDict(data_dict)\n",
    "new_dataset.save_to_disk(f\"./aspect_bigvul_new/dataset_{task}\")"
   ]
  },
  {
   "cell_type": "markdown",
   "metadata": {},
   "source": [
    "# vulnerabilty_impact"
   ]
  },
  {
   "cell_type": "code",
   "execution_count": null,
   "metadata": {},
   "outputs": [],
   "source": [
    "task = 'impact'\n",
    "dataset = load_dataset(task)\n",
    "\n",
    "data_dict = {}\n",
    "for dset in ['train', 'test', 'validation']:\n",
    "    workind_data = dataset[dset].to_pandas()\n",
    "    result, tp_indices = find_tp(linevul_model, tokenizer, args, workind_data)\n",
    "    print(f\"TP result in {dset}:\", result)\n",
    "    linevul_output = explain(linevul_model, tokenizer, tp_indices, workind_data)\n",
    "    linevul_ranking = extract_linevul_ranking(linevul_output)\n",
    "    workind_data['linevul_ranking'] = [linevul_ranking[idx] for idx in range(len(workind_data))]\n",
    "    data_dict[dset] = Dataset.from_pandas(workind_data)\n",
    "\n",
    "new_dataset = DatasetDict(data_dict)\n",
    "new_dataset.save_to_disk(f\"./aspect_bigvul_new/dataset_{task}\")"
   ]
  },
  {
   "cell_type": "markdown",
   "metadata": {},
   "source": [
    "# vulnerability_type"
   ]
  },
  {
   "cell_type": "code",
   "execution_count": null,
   "metadata": {},
   "outputs": [],
   "source": [
    "task = 'vulnerability_type'\n",
    "dataset = load_dataset(task)\n",
    "\n",
    "data_dict = {}\n",
    "for dset in ['train', 'test', 'validation']:\n",
    "    workind_data = dataset[dset].to_pandas()\n",
    "    result, tp_indices = find_tp(linevul_model, tokenizer, args, workind_data)\n",
    "    print(f\"TP result in {dset}:\", result)\n",
    "    linevul_output = explain(linevul_model, tokenizer, tp_indices, workind_data)\n",
    "    linevul_ranking = extract_linevul_ranking(linevul_output)\n",
    "    workind_data['linevul_ranking'] = [linevul_ranking[idx] for idx in range(len(workind_data))]\n",
    "    data_dict[dset] = Dataset.from_pandas(workind_data)\n",
    "\n",
    "new_dataset = DatasetDict(data_dict)\n",
    "new_dataset.save_to_disk(f\"./aspect_bigvul_new/dataset_{task}\")"
   ]
  }
 ],
 "metadata": {
  "kernelspec": {
   "display_name": "Python 3 (ipykernel)",
   "language": "python",
   "name": "python3"
  },
  "language_info": {
   "codemirror_mode": {
    "name": "ipython",
    "version": 3
   },
   "file_extension": ".py",
   "mimetype": "text/x-python",
   "name": "python",
   "nbconvert_exporter": "python",
   "pygments_lexer": "ipython3",
   "version": "3.11.3"
  }
 },
 "nbformat": 4,
 "nbformat_minor": 2
}
