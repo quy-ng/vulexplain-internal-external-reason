{
 "cells": [
  {
   "cell_type": "code",
   "execution_count": 1,
   "metadata": {},
   "outputs": [],
   "source": [
    "%load_ext autoreload\n",
    "%autoreload 2"
   ]
  },
  {
   "cell_type": "code",
   "execution_count": 42,
   "metadata": {},
   "outputs": [],
   "source": [
    "import asyncio\n",
    "from elasticsearch import OrjsonSerializer\n",
    "import torch\n",
    "from rag.loc_doc import *\n",
    "from transformers import AutoModel, AutoTokenizer\n",
    "from project_dataset import load_dataset\n",
    "import elasticsearch_dsl as dsl\n",
    "import evaluate\n",
    "import numpy as np"
   ]
  },
  {
   "cell_type": "code",
   "execution_count": 20,
   "metadata": {},
   "outputs": [
    {
     "data": {
      "application/vnd.jupyter.widget-view+json": {
       "model_id": "90b42e68c6c34980aab463b0b2fcd074",
       "version_major": 2,
       "version_minor": 0
      },
      "text/plain": [
       "Downloading builder script:   0%|          | 0.00/5.94k [00:00<?, ?B/s]"
      ]
     },
     "metadata": {},
     "output_type": "display_data"
    },
    {
     "data": {
      "application/vnd.jupyter.widget-view+json": {
       "model_id": "ad393691494a462e9176eebfd00207f2",
       "version_major": 2,
       "version_minor": 0
      },
      "text/plain": [
       "Downloading extra modules:   0%|          | 0.00/1.55k [00:00<?, ?B/s]"
      ]
     },
     "metadata": {},
     "output_type": "display_data"
    },
    {
     "data": {
      "application/vnd.jupyter.widget-view+json": {
       "model_id": "7fe6146659b94bbd9557bbb836370984",
       "version_major": 2,
       "version_minor": 0
      },
      "text/plain": [
       "Downloading extra modules:   0%|          | 0.00/3.34k [00:00<?, ?B/s]"
      ]
     },
     "metadata": {},
     "output_type": "display_data"
    }
   ],
   "source": [
    "rouge = evaluate.load(\"rouge\")\n",
    "bleu = evaluate.load(\"bleu\")"
   ]
  },
  {
   "cell_type": "code",
   "execution_count": 4,
   "metadata": {},
   "outputs": [
    {
     "data": {
      "text/plain": [
       "<AsyncElasticsearch(['http://localhost:9200'])>"
      ]
     },
     "execution_count": 4,
     "metadata": {},
     "output_type": "execute_result"
    }
   ],
   "source": [
    "dsl.async_connections.create_connection(hosts=['http://localhost:9200'], serializer=OrjsonSerializer())\n"
   ]
  },
  {
   "cell_type": "code",
   "execution_count": 5,
   "metadata": {},
   "outputs": [],
   "source": [
    "checkpoint = \"Salesforce/codet5p-110m-embedding\"\n",
    "device = \"cuda\"  # for GPU usage or \"cpu\" for CPU usage\n",
    "\n",
    "tokenizer = AutoTokenizer.from_pretrained(checkpoint, trust_remote_code=True)\n",
    "model = AutoModel.from_pretrained(checkpoint, trust_remote_code=True).to(device)"
   ]
  },
  {
   "cell_type": "code",
   "execution_count": 6,
   "metadata": {},
   "outputs": [],
   "source": [
    "def get_loc(sample, linevul_ranking, linevul_top=10):\n",
    "    v = linevul_ranking.tolist()\n",
    "    breaked_lines = sample.split('\\n')\n",
    "    new_sample = '\\n'.join([breaked_lines[i] for i in v[:linevul_top]]).strip()\n",
    "    return new_sample"
   ]
  },
  {
   "cell_type": "markdown",
   "metadata": {},
   "source": [
    "# attack vector"
   ]
  },
  {
   "cell_type": "code",
   "execution_count": 7,
   "metadata": {},
   "outputs": [],
   "source": [
    "task = 'attack_vector'\n",
    "ds = load_dataset(task)"
   ]
  },
  {
   "cell_type": "code",
   "execution_count": 8,
   "metadata": {},
   "outputs": [],
   "source": [
    "train_ds = ds['train'].to_pandas()\n",
    "test_ds = ds['test'].to_pandas()"
   ]
  },
  {
   "cell_type": "code",
   "execution_count": 9,
   "metadata": {},
   "outputs": [
    {
     "name": "stderr",
     "output_type": "stream",
     "text": [
      "Token indices sequence length is longer than the specified maximum sequence length for this model (1435 > 512). Running this sequence through the model will result in indexing errors\n"
     ]
    }
   ],
   "source": [
    "train_doc = []\n",
    "with torch.no_grad():\n",
    "    for i_row, row in train_ds.iterrows():\n",
    "        doc = get_loc(row['processed_func'], row['linevul_ranking'] ) \n",
    "        target = row[\"explain\"]\n",
    "        inputs = tokenizer.encode(doc, return_tensors=\"pt\").to(device)\n",
    "        embedding = model(inputs)[0].tolist()\n",
    "        train_doc.append( (embedding, target) )"
   ]
  },
  {
   "cell_type": "code",
   "execution_count": 10,
   "metadata": {},
   "outputs": [],
   "source": [
    "async def ingest_attack_vector():\n",
    "    if await AttackVecor._index.exists():\n",
    "        await AttackVecor._index.delete()\n",
    "    await AttackVecor.init()\n",
    "    for row in train_doc:\n",
    "        q = AttackVecor(explain=row[1], embedding=row[0])\n",
    "        await q.save()\n",
    "\n",
    "await ingest_attack_vector()"
   ]
  },
  {
   "cell_type": "code",
   "execution_count": 11,
   "metadata": {},
   "outputs": [],
   "source": [
    "test_doc = []\n",
    "with torch.no_grad():\n",
    "    for i_row, row in test_ds.iterrows():\n",
    "        doc = get_loc(row['processed_func'], row['linevul_ranking'] ) \n",
    "        target = row[\"explain\"]\n",
    "        inputs = tokenizer.encode(doc, return_tensors=\"pt\").to(device)\n",
    "        embedding = model(inputs)[0].tolist()\n",
    "        test_doc.append( (embedding, target) )"
   ]
  },
  {
   "cell_type": "code",
   "execution_count": 12,
   "metadata": {},
   "outputs": [],
   "source": [
    "results = []\n",
    "for row in test_doc:\n",
    "    q = row[0]\n",
    "    s = AttackVecor.search()\n",
    "    s = s.query(dsl.query.Knn(field=AttackVecor.embedding, query_vector=q))\n",
    "    r = await s[:1].execute()\n",
    "    results.append( (r.hits[0].explain, row[1]) )"
   ]
  },
  {
   "cell_type": "code",
   "execution_count": 13,
   "metadata": {},
   "outputs": [],
   "source": [
    "def store_results_to_file(results, file_path):\n",
    "    with open(file_path, 'w') as file:\n",
    "        for result in results:\n",
    "            file.write(f'{result[0]}\\t{result[1]}\\n')"
   ]
  },
  {
   "cell_type": "code",
   "execution_count": 14,
   "metadata": {},
   "outputs": [],
   "source": [
    "store_results_to_file(results, f'{task}_rag.txt')"
   ]
  },
  {
   "cell_type": "code",
   "execution_count": 21,
   "metadata": {},
   "outputs": [],
   "source": [
    "rouge_results = []\n",
    "bleu_results = []\n",
    "for v in results:\n",
    "    r_ = rouge.compute(predictions=[v[0]], references=[v[1]])\n",
    "    b_ = bleu.compute(predictions=[v[0]], references=[[v[1]]])\n",
    "    rouge_results.append((r_['rouge1'], r_['rouge2'], r_['rougeL']))\n",
    "    bleu_results.append(b_)"
   ]
  },
  {
   "cell_type": "code",
   "execution_count": 25,
   "metadata": {},
   "outputs": [
    {
     "name": "stdout",
     "output_type": "stream",
     "text": [
      "Average Rouge-1: 0.703136168282482\n",
      "Average Rouge-2: 0.6431229793234713\n",
      "Average Rouge-L: 0.7025186341559587\n",
      "Average BLEU: 0.5987995240469469\n"
     ]
    }
   ],
   "source": [
    "rouge_results_array = np.array(rouge_results)\n",
    "bleu_results_array = np.array([b['bleu'] for b in bleu_results])\n",
    "\n",
    "avg_rouge1 = np.mean(rouge_results_array[:, 0])\n",
    "avg_rouge2 = np.mean(rouge_results_array[:, 1])\n",
    "avg_rougeL = np.mean(rouge_results_array[:, 2])\n",
    "\n",
    "avg_bleu = np.mean(bleu_results_array)\n",
    "\n",
    "# Print the average values\n",
    "print(\"Average Rouge-1:\", avg_rouge1)\n",
    "print(\"Average Rouge-2:\", avg_rouge2)\n",
    "print(\"Average Rouge-L:\", avg_rougeL)\n",
    "\n",
    "print(\"Average BLEU:\", avg_bleu)"
   ]
  },
  {
   "cell_type": "markdown",
   "metadata": {},
   "source": [
    "# root cause"
   ]
  },
  {
   "cell_type": "code",
   "execution_count": 26,
   "metadata": {},
   "outputs": [],
   "source": [
    "task = 'root_cause'\n",
    "ds = load_dataset(task)\n",
    "train_ds = ds['train'].to_pandas()\n",
    "test_ds = ds['test'].to_pandas()"
   ]
  },
  {
   "cell_type": "code",
   "execution_count": 28,
   "metadata": {},
   "outputs": [],
   "source": [
    "train_doc = []\n",
    "with torch.no_grad():\n",
    "    for i_row, row in train_ds.iterrows():\n",
    "        doc = get_loc(row['processed_func'], row['linevul_ranking'] ) \n",
    "        target = row[\"explain\"]\n",
    "        inputs = tokenizer.encode(doc, return_tensors=\"pt\").to(device)\n",
    "        embedding = model(inputs)[0].tolist()\n",
    "        train_doc.append( (embedding, target) )"
   ]
  },
  {
   "cell_type": "code",
   "execution_count": 29,
   "metadata": {},
   "outputs": [],
   "source": [
    "test_doc = []\n",
    "with torch.no_grad():\n",
    "    for i_row, row in test_ds.iterrows():\n",
    "        doc = get_loc(row['processed_func'], row['linevul_ranking'] ) \n",
    "        target = row[\"explain\"]\n",
    "        inputs = tokenizer.encode(doc, return_tensors=\"pt\").to(device)\n",
    "        embedding = model(inputs)[0].tolist()\n",
    "        test_doc.append( (embedding, target) )"
   ]
  },
  {
   "cell_type": "code",
   "execution_count": 32,
   "metadata": {},
   "outputs": [],
   "source": [
    "async def ingest_root_cause():\n",
    "    if await RootCause._index.exists():\n",
    "        await RootCause._index.delete()\n",
    "    await RootCause.init()\n",
    "    for row in train_doc:\n",
    "        q = RootCause(explain=row[1], embedding=row[0])\n",
    "        await q.save()\n",
    "\n",
    "await ingest_root_cause()"
   ]
  },
  {
   "cell_type": "code",
   "execution_count": 33,
   "metadata": {},
   "outputs": [],
   "source": [
    "results = []\n",
    "for row in test_doc:\n",
    "    q = row[0]\n",
    "    s = RootCause.search()\n",
    "    s = s.query(dsl.query.Knn(field=RootCause.embedding, query_vector=q))\n",
    "    r = await s[:1].execute()\n",
    "    results.append( (r.hits[0].explain, row[1]) )"
   ]
  },
  {
   "cell_type": "code",
   "execution_count": 34,
   "metadata": {},
   "outputs": [],
   "source": [
    "store_results_to_file(results, f'{task}_rag.txt')"
   ]
  },
  {
   "cell_type": "code",
   "execution_count": 35,
   "metadata": {},
   "outputs": [],
   "source": [
    "rouge_results = []\n",
    "bleu_results = []\n",
    "for v in results:\n",
    "    r_ = rouge.compute(predictions=[v[0]], references=[v[1]])\n",
    "    b_ = bleu.compute(predictions=[v[0]], references=[[v[1]]])\n",
    "    rouge_results.append((r_['rouge1'], r_['rouge2'], r_['rougeL']))\n",
    "    bleu_results.append(b_)"
   ]
  },
  {
   "cell_type": "code",
   "execution_count": 36,
   "metadata": {},
   "outputs": [
    {
     "name": "stdout",
     "output_type": "stream",
     "text": [
      "Average Rouge-1: 0.6004329108516657\n",
      "Average Rouge-2: 0.5731268817621876\n",
      "Average Rouge-L: 0.5995116104775612\n",
      "Average BLEU: 0.4187846760123499\n"
     ]
    }
   ],
   "source": [
    "rouge_results_array = np.array(rouge_results)\n",
    "bleu_results_array = np.array([b['bleu'] for b in bleu_results])\n",
    "\n",
    "avg_rouge1 = np.mean(rouge_results_array[:, 0])\n",
    "avg_rouge2 = np.mean(rouge_results_array[:, 1])\n",
    "avg_rougeL = np.mean(rouge_results_array[:, 2])\n",
    "\n",
    "avg_bleu = np.mean(bleu_results_array)\n",
    "\n",
    "# Print the average values\n",
    "print(\"Average Rouge-1:\", avg_rouge1)\n",
    "print(\"Average Rouge-2:\", avg_rouge2)\n",
    "print(\"Average Rouge-L:\", avg_rougeL)\n",
    "\n",
    "print(\"Average BLEU:\", avg_bleu)"
   ]
  },
  {
   "cell_type": "markdown",
   "metadata": {},
   "source": [
    "# Impact"
   ]
  },
  {
   "cell_type": "code",
   "execution_count": 38,
   "metadata": {},
   "outputs": [],
   "source": [
    "task = 'impact'\n",
    "ds = load_dataset(task)\n",
    "train_ds = ds['train'].to_pandas()\n",
    "test_ds = ds['test'].to_pandas()\n",
    "\n",
    "train_doc = []\n",
    "with torch.no_grad():\n",
    "    for i_row, row in train_ds.iterrows():\n",
    "        doc = get_loc(row['processed_func'], row['linevul_ranking'] ) \n",
    "        target = row[\"explain\"]\n",
    "        inputs = tokenizer.encode(doc, return_tensors=\"pt\").to(device)\n",
    "        embedding = model(inputs)[0].tolist()\n",
    "        train_doc.append( (embedding, target) )\n",
    "\n",
    "\n",
    "test_doc = []\n",
    "with torch.no_grad():\n",
    "    for i_row, row in test_ds.iterrows():\n",
    "        doc = get_loc(row['processed_func'], row['linevul_ranking'] ) \n",
    "        target = row[\"explain\"]\n",
    "        inputs = tokenizer.encode(doc, return_tensors=\"pt\").to(device)\n",
    "        embedding = model(inputs)[0].tolist()\n",
    "        test_doc.append( (embedding, target) )"
   ]
  },
  {
   "cell_type": "code",
   "execution_count": 39,
   "metadata": {},
   "outputs": [],
   "source": [
    "async def ingest_impact():\n",
    "    if await Impact._index.exists():\n",
    "        await Impact._index.delete()\n",
    "    await Impact.init()\n",
    "    for row in train_doc:\n",
    "        q = Impact(explain=row[1], embedding=row[0])\n",
    "        await q.save()\n",
    "\n",
    "await ingest_impact()"
   ]
  },
  {
   "cell_type": "code",
   "execution_count": 40,
   "metadata": {},
   "outputs": [],
   "source": [
    "results = []\n",
    "for row in test_doc:\n",
    "    q = row[0]\n",
    "    s = RootCause.search()\n",
    "    s = s.query(dsl.query.Knn(field=RootCause.embedding, query_vector=q))\n",
    "    r = await s[:1].execute()\n",
    "    results.append( (r.hits[0].explain, row[1]) )\n",
    "\n",
    "store_results_to_file(results, f'{task}_rag.txt')"
   ]
  },
  {
   "cell_type": "code",
   "execution_count": 41,
   "metadata": {},
   "outputs": [
    {
     "name": "stdout",
     "output_type": "stream",
     "text": [
      "Average Rouge-1: 0.054793657927483315\n",
      "Average Rouge-2: 0.005817571017177101\n",
      "Average Rouge-L: 0.04996393263301194\n",
      "Average BLEU: 0.003770665015952632\n"
     ]
    }
   ],
   "source": [
    "rouge_results = []\n",
    "bleu_results = []\n",
    "for v in results:\n",
    "    r_ = rouge.compute(predictions=[v[0]], references=[v[1]])\n",
    "    b_ = bleu.compute(predictions=[v[0]], references=[[v[1]]])\n",
    "    rouge_results.append((r_['rouge1'], r_['rouge2'], r_['rougeL']))\n",
    "    bleu_results.append(b_)\n",
    "\n",
    "rouge_results_array = np.array(rouge_results)\n",
    "bleu_results_array = np.array([b['bleu'] for b in bleu_results])\n",
    "\n",
    "avg_rouge1 = np.mean(rouge_results_array[:, 0])\n",
    "avg_rouge2 = np.mean(rouge_results_array[:, 1])\n",
    "avg_rougeL = np.mean(rouge_results_array[:, 2])\n",
    "\n",
    "avg_bleu = np.mean(bleu_results_array)\n",
    "\n",
    "# Print the average values\n",
    "print(\"Average Rouge-1:\", avg_rouge1)\n",
    "print(\"Average Rouge-2:\", avg_rouge2)\n",
    "print(\"Average Rouge-L:\", avg_rougeL)\n",
    "\n",
    "print(\"Average BLEU:\", avg_bleu)"
   ]
  },
  {
   "cell_type": "markdown",
   "metadata": {},
   "source": [
    "# vulnerability type"
   ]
  },
  {
   "cell_type": "code",
   "execution_count": 43,
   "metadata": {},
   "outputs": [],
   "source": [
    "task = 'vulnerability_type'\n",
    "ds = load_dataset(task)\n",
    "train_ds = ds['train'].to_pandas()\n",
    "test_ds = ds['test'].to_pandas()\n",
    "\n",
    "train_doc = []\n",
    "with torch.no_grad():\n",
    "    for i_row, row in train_ds.iterrows():\n",
    "        doc = get_loc(row['processed_func'], row['linevul_ranking'] ) \n",
    "        target = row[\"explain\"]\n",
    "        inputs = tokenizer.encode(doc, return_tensors=\"pt\").to(device)\n",
    "        embedding = model(inputs)[0].tolist()\n",
    "        train_doc.append( (embedding, target) )\n",
    "\n",
    "\n",
    "test_doc = []\n",
    "with torch.no_grad():\n",
    "    for i_row, row in test_ds.iterrows():\n",
    "        doc = get_loc(row['processed_func'], row['linevul_ranking'] ) \n",
    "        target = row[\"explain\"]\n",
    "        inputs = tokenizer.encode(doc, return_tensors=\"pt\").to(device)\n",
    "        embedding = model(inputs)[0].tolist()\n",
    "        test_doc.append( (embedding, target) )"
   ]
  },
  {
   "cell_type": "code",
   "execution_count": 44,
   "metadata": {},
   "outputs": [],
   "source": [
    "async def ingest_vulnerability_type():\n",
    "    if await VulnerabilityType._index.exists():\n",
    "        await VulnerabilityType._index.delete()\n",
    "    await VulnerabilityType.init()\n",
    "    for row in train_doc:\n",
    "        q = VulnerabilityType(explain=row[1], embedding=row[0])\n",
    "        await q.save()\n",
    "\n",
    "await ingest_vulnerability_type()"
   ]
  },
  {
   "cell_type": "code",
   "execution_count": 45,
   "metadata": {},
   "outputs": [],
   "source": [
    "results = []\n",
    "for row in test_doc:\n",
    "    q = row[0]\n",
    "    s = RootCause.search()\n",
    "    s = s.query(dsl.query.Knn(field=RootCause.embedding, query_vector=q))\n",
    "    r = await s[:1].execute()\n",
    "    results.append( (r.hits[0].explain, row[1]) )\n",
    "\n",
    "store_results_to_file(results, f'{task}_rag.txt')"
   ]
  },
  {
   "cell_type": "code",
   "execution_count": 46,
   "metadata": {},
   "outputs": [
    {
     "name": "stdout",
     "output_type": "stream",
     "text": [
      "Average Rouge-1: 0.09700474754688473\n",
      "Average Rouge-2: 0.06274229838025343\n",
      "Average Rouge-L: 0.09681887394093679\n",
      "Average BLEU: 0.0\n"
     ]
    }
   ],
   "source": [
    "rouge_results = []\n",
    "bleu_results = []\n",
    "for v in results:\n",
    "    r_ = rouge.compute(predictions=[v[0]], references=[v[1]])\n",
    "    b_ = bleu.compute(predictions=[v[0]], references=[[v[1]]])\n",
    "    rouge_results.append((r_['rouge1'], r_['rouge2'], r_['rougeL']))\n",
    "    bleu_results.append(b_)\n",
    "\n",
    "rouge_results_array = np.array(rouge_results)\n",
    "bleu_results_array = np.array([b['bleu'] for b in bleu_results])\n",
    "\n",
    "avg_rouge1 = np.mean(rouge_results_array[:, 0])\n",
    "avg_rouge2 = np.mean(rouge_results_array[:, 1])\n",
    "avg_rougeL = np.mean(rouge_results_array[:, 2])\n",
    "\n",
    "avg_bleu = np.mean(bleu_results_array)\n",
    "\n",
    "# Print the average values\n",
    "print(\"Average Rouge-1:\", avg_rouge1)\n",
    "print(\"Average Rouge-2:\", avg_rouge2)\n",
    "print(\"Average Rouge-L:\", avg_rougeL)\n",
    "\n",
    "print(\"Average BLEU:\", avg_bleu)"
   ]
  },
  {
   "cell_type": "code",
   "execution_count": null,
   "metadata": {},
   "outputs": [],
   "source": []
  }
 ],
 "metadata": {
  "kernelspec": {
   "display_name": "Python 3",
   "language": "python",
   "name": "python3"
  },
  "language_info": {
   "codemirror_mode": {
    "name": "ipython",
    "version": 3
   },
   "file_extension": ".py",
   "mimetype": "text/x-python",
   "name": "python",
   "nbconvert_exporter": "python",
   "pygments_lexer": "ipython3",
   "version": "3.11.4"
  }
 },
 "nbformat": 4,
 "nbformat_minor": 2
}
