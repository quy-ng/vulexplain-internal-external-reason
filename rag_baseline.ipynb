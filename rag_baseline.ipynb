{
 "cells": [
  {
   "cell_type": "code",
   "execution_count": 1,
   "metadata": {},
   "outputs": [],
   "source": [
    "%load_ext autoreload\n",
    "%autoreload 2"
   ]
  },
  {
   "cell_type": "code",
   "execution_count": 2,
   "metadata": {},
   "outputs": [],
   "source": [
    "import asyncio\n",
    "from elasticsearch import OrjsonSerializer\n",
    "import torch\n",
    "from rag.loc_doc import *\n",
    "from transformers import AutoModel, AutoTokenizer\n",
    "from project_dataset import load_dataset\n",
    "import elasticsearch_dsl as dsl\n",
    "import evaluate\n",
    "import numpy as np"
   ]
  },
  {
   "cell_type": "code",
   "execution_count": 3,
   "metadata": {},
   "outputs": [],
   "source": [
    "rouge = evaluate.load(\"rouge\")\n",
    "bleu = evaluate.load(\"bleu\")"
   ]
  },
  {
   "cell_type": "code",
   "execution_count": 4,
   "metadata": {},
   "outputs": [
    {
     "data": {
      "text/plain": [
       "<AsyncElasticsearch(['http://localhost:9200'])>"
      ]
     },
     "execution_count": 4,
     "metadata": {},
     "output_type": "execute_result"
    }
   ],
   "source": [
    "dsl.async_connections.create_connection(hosts=['http://localhost:9200'], serializer=OrjsonSerializer())\n"
   ]
  },
  {
   "cell_type": "code",
   "execution_count": 5,
   "metadata": {},
   "outputs": [],
   "source": [
    "checkpoint = \"Salesforce/codet5p-110m-embedding\"\n",
    "device = \"cuda\"  # for GPU usage or \"cpu\" for CPU usage\n",
    "\n",
    "tokenizer = AutoTokenizer.from_pretrained(checkpoint, trust_remote_code=True)\n",
    "model = AutoModel.from_pretrained(checkpoint, trust_remote_code=True).to(device)"
   ]
  },
  {
   "cell_type": "code",
   "execution_count": 6,
   "metadata": {},
   "outputs": [],
   "source": [
    "def get_loc(sample, linevul_ranking, linevul_top=10):\n",
    "    v = linevul_ranking.tolist()\n",
    "    breaked_lines = sample.split('\\n')\n",
    "    new_sample = '\\n'.join([breaked_lines[i] for i in v[:linevul_top]]).strip()\n",
    "    return new_sample"
   ]
  },
  {
   "cell_type": "markdown",
   "metadata": {},
   "source": [
    "# attack vector"
   ]
  },
  {
   "cell_type": "code",
   "execution_count": 7,
   "metadata": {},
   "outputs": [],
   "source": [
    "task = 'attack_vector'\n",
    "ds = load_dataset(task)"
   ]
  },
  {
   "cell_type": "code",
   "execution_count": 8,
   "metadata": {},
   "outputs": [],
   "source": [
    "train_ds = ds['train'].to_pandas()\n",
    "test_ds = ds['test'].to_pandas()"
   ]
  },
  {
   "cell_type": "code",
   "execution_count": 9,
   "metadata": {},
   "outputs": [
    {
     "name": "stderr",
     "output_type": "stream",
     "text": [
      "Token indices sequence length is longer than the specified maximum sequence length for this model (1435 > 512). Running this sequence through the model will result in indexing errors\n"
     ]
    }
   ],
   "source": [
    "train_doc = []\n",
    "with torch.no_grad():\n",
    "    for i_row, row in train_ds.iterrows():\n",
    "        doc = get_loc(row['processed_func'], row['linevul_ranking'] ) \n",
    "        target = row[\"explain\"]\n",
    "        inputs = tokenizer.encode(doc, return_tensors=\"pt\").to(device)\n",
    "        embedding = model(inputs)[0].tolist()\n",
    "        train_doc.append( (embedding, target) )"
   ]
  },
  {
   "cell_type": "code",
   "execution_count": 10,
   "metadata": {},
   "outputs": [],
   "source": [
    "async def ingest_attack_vector():\n",
    "    if await AttackVecor._index.exists():\n",
    "        await AttackVecor._index.delete()\n",
    "    await AttackVecor.init()\n",
    "    for row in train_doc:\n",
    "        q = AttackVecor(explain=row[1], embedding=row[0])\n",
    "        await q.save()\n",
    "\n",
    "await ingest_attack_vector()"
   ]
  },
  {
   "cell_type": "code",
   "execution_count": 11,
   "metadata": {},
   "outputs": [],
   "source": [
    "test_doc = []\n",
    "with torch.no_grad():\n",
    "    for i_row, row in test_ds.iterrows():\n",
    "        doc = get_loc(row['processed_func'], row['linevul_ranking'] ) \n",
    "        target = row[\"explain\"]\n",
    "        inputs = tokenizer.encode(doc, return_tensors=\"pt\").to(device)\n",
    "        embedding = model(inputs)[0].tolist()\n",
    "        test_doc.append( (embedding, target) )"
   ]
  },
  {
   "cell_type": "code",
   "execution_count": 12,
   "metadata": {},
   "outputs": [],
   "source": [
    "results = []\n",
    "for row in test_doc:\n",
    "    q = row[0]\n",
    "    s = AttackVecor.search()\n",
    "    s = s.query(dsl.query.Knn(field=AttackVecor.embedding, query_vector=q))\n",
    "    r = await s[:1].execute()\n",
    "    results.append( (r.hits[0].explain, row[1]) )"
   ]
  },
  {
   "cell_type": "code",
   "execution_count": 13,
   "metadata": {},
   "outputs": [],
   "source": [
    "def store_results_to_file(results, file_path):\n",
    "    with open(file_path, 'w') as file:\n",
    "        for result in results:\n",
    "            file.write(f'{result[0]}\\n')"
   ]
  },
  {
   "cell_type": "code",
   "execution_count": 14,
   "metadata": {},
   "outputs": [],
   "source": [
    "store_results_to_file(results, f'{task}_rag.txt')"
   ]
  },
  {
   "cell_type": "code",
   "execution_count": 15,
   "metadata": {},
   "outputs": [],
   "source": [
    "rouge_results = []\n",
    "bleu_results = []\n",
    "for v in results:\n",
    "    r_ = rouge.compute(predictions=[v[0]], references=[v[1]])\n",
    "    b_ = bleu.compute(predictions=[v[0]], references=[[v[1]]])\n",
    "    rouge_results.append((r_['rouge1'], r_['rouge2'], r_['rougeL']))\n",
    "    bleu_results.append(b_)"
   ]
  },
  {
   "cell_type": "code",
   "execution_count": 16,
   "metadata": {},
   "outputs": [
    {
     "name": "stdout",
     "output_type": "stream",
     "text": [
      "Average Rouge-1: 0.6980006504671912\n",
      "Average Rouge-2: 0.6391253601170209\n",
      "Average Rouge-L: 0.696994391404666\n",
      "Average BLEU: 0.5927414077017452\n"
     ]
    }
   ],
   "source": [
    "rouge_results_array = np.array(rouge_results)\n",
    "bleu_results_array = np.array([b['bleu'] for b in bleu_results])\n",
    "\n",
    "avg_rouge1 = np.mean(rouge_results_array[:, 0])\n",
    "avg_rouge2 = np.mean(rouge_results_array[:, 1])\n",
    "avg_rougeL = np.mean(rouge_results_array[:, 2])\n",
    "\n",
    "avg_bleu = np.mean(bleu_results_array)\n",
    "\n",
    "# Print the average values\n",
    "print(\"Average Rouge-1:\", avg_rouge1)\n",
    "print(\"Average Rouge-2:\", avg_rouge2)\n",
    "print(\"Average Rouge-L:\", avg_rougeL)\n",
    "\n",
    "print(\"Average BLEU:\", avg_bleu)"
   ]
  },
  {
   "cell_type": "markdown",
   "metadata": {},
   "source": [
    "# root cause"
   ]
  },
  {
   "cell_type": "code",
   "execution_count": 17,
   "metadata": {},
   "outputs": [],
   "source": [
    "task = 'root_cause'\n",
    "ds = load_dataset(task)\n",
    "train_ds = ds['train'].to_pandas()\n",
    "test_ds = ds['test'].to_pandas()"
   ]
  },
  {
   "cell_type": "code",
   "execution_count": 18,
   "metadata": {},
   "outputs": [],
   "source": [
    "train_doc = []\n",
    "with torch.no_grad():\n",
    "    for i_row, row in train_ds.iterrows():\n",
    "        doc = get_loc(row['processed_func'], row['linevul_ranking'] ) \n",
    "        target = row[\"explain\"]\n",
    "        inputs = tokenizer.encode(doc, return_tensors=\"pt\").to(device)\n",
    "        embedding = model(inputs)[0].tolist()\n",
    "        train_doc.append( (embedding, target) )"
   ]
  },
  {
   "cell_type": "code",
   "execution_count": 19,
   "metadata": {},
   "outputs": [],
   "source": [
    "test_doc = []\n",
    "with torch.no_grad():\n",
    "    for i_row, row in test_ds.iterrows():\n",
    "        doc = get_loc(row['processed_func'], row['linevul_ranking'] ) \n",
    "        target = row[\"explain\"]\n",
    "        inputs = tokenizer.encode(doc, return_tensors=\"pt\").to(device)\n",
    "        embedding = model(inputs)[0].tolist()\n",
    "        test_doc.append( (embedding, target) )"
   ]
  },
  {
   "cell_type": "code",
   "execution_count": 20,
   "metadata": {},
   "outputs": [],
   "source": [
    "async def ingest_root_cause():\n",
    "    if await RootCause._index.exists():\n",
    "        await RootCause._index.delete()\n",
    "    await RootCause.init()\n",
    "    for row in train_doc:\n",
    "        q = RootCause(explain=row[1], embedding=row[0])\n",
    "        await q.save()\n",
    "\n",
    "await ingest_root_cause()"
   ]
  },
  {
   "cell_type": "code",
   "execution_count": 21,
   "metadata": {},
   "outputs": [],
   "source": [
    "results = []\n",
    "for row in test_doc:\n",
    "    q = row[0]\n",
    "    s = RootCause.search()\n",
    "    s = s.query(dsl.query.Knn(field=RootCause.embedding, query_vector=q))\n",
    "    r = await s[:1].execute()\n",
    "    results.append( (r.hits[0].explain, row[1]) )"
   ]
  },
  {
   "cell_type": "code",
   "execution_count": 22,
   "metadata": {},
   "outputs": [],
   "source": [
    "store_results_to_file(results, f'{task}_rag.txt')"
   ]
  },
  {
   "cell_type": "code",
   "execution_count": 23,
   "metadata": {},
   "outputs": [],
   "source": [
    "rouge_results = []\n",
    "bleu_results = []\n",
    "for v in results:\n",
    "    r_ = rouge.compute(predictions=[v[0]], references=[v[1]])\n",
    "    b_ = bleu.compute(predictions=[v[0]], references=[[v[1]]])\n",
    "    rouge_results.append((r_['rouge1'], r_['rouge2'], r_['rougeL']))\n",
    "    bleu_results.append(b_)"
   ]
  },
  {
   "cell_type": "code",
   "execution_count": 24,
   "metadata": {},
   "outputs": [
    {
     "name": "stdout",
     "output_type": "stream",
     "text": [
      "Average Rouge-1: 0.5795335654678837\n",
      "Average Rouge-2: 0.5520120327446182\n",
      "Average Rouge-L: 0.5784855574199017\n",
      "Average BLEU: 0.40182751965392727\n"
     ]
    }
   ],
   "source": [
    "rouge_results_array = np.array(rouge_results)\n",
    "bleu_results_array = np.array([b['bleu'] for b in bleu_results])\n",
    "\n",
    "avg_rouge1 = np.mean(rouge_results_array[:, 0])\n",
    "avg_rouge2 = np.mean(rouge_results_array[:, 1])\n",
    "avg_rougeL = np.mean(rouge_results_array[:, 2])\n",
    "\n",
    "avg_bleu = np.mean(bleu_results_array)\n",
    "\n",
    "# Print the average values\n",
    "print(\"Average Rouge-1:\", avg_rouge1)\n",
    "print(\"Average Rouge-2:\", avg_rouge2)\n",
    "print(\"Average Rouge-L:\", avg_rougeL)\n",
    "\n",
    "print(\"Average BLEU:\", avg_bleu)"
   ]
  },
  {
   "cell_type": "markdown",
   "metadata": {},
   "source": [
    "# Impact"
   ]
  },
  {
   "cell_type": "code",
   "execution_count": 25,
   "metadata": {},
   "outputs": [],
   "source": [
    "task = 'impact'\n",
    "ds = load_dataset(task)\n",
    "train_ds = ds['train'].to_pandas()\n",
    "test_ds = ds['test'].to_pandas()"
   ]
  },
  {
   "cell_type": "code",
   "execution_count": 26,
   "metadata": {},
   "outputs": [],
   "source": [
    "task = 'impact'\n",
    "ds = load_dataset(task)\n",
    "train_ds = ds['train'].to_pandas()\n",
    "test_ds = ds['test'].to_pandas()\n",
    "\n",
    "train_doc = []\n",
    "with torch.no_grad():\n",
    "    for i_row, row in train_ds.iterrows():\n",
    "        doc = get_loc(row['processed_func'], row['linevul_ranking'] ) \n",
    "        target = row[\"explain\"]\n",
    "        inputs = tokenizer.encode(doc, return_tensors=\"pt\").to(device)\n",
    "        embedding = model(inputs)[0].tolist()\n",
    "        train_doc.append( (embedding, target) )\n",
    "\n",
    "\n",
    "test_doc = []\n",
    "with torch.no_grad():\n",
    "    for i_row, row in test_ds.iterrows():\n",
    "        doc = get_loc(row['processed_func'], row['linevul_ranking'] ) \n",
    "        target = row[\"explain\"]\n",
    "        inputs = tokenizer.encode(doc, return_tensors=\"pt\").to(device)\n",
    "        embedding = model(inputs)[0].tolist()\n",
    "        test_doc.append( (embedding, target) )"
   ]
  },
  {
   "cell_type": "code",
   "execution_count": 27,
   "metadata": {},
   "outputs": [],
   "source": [
    "async def ingest_impact():\n",
    "    if await Impact._index.exists():\n",
    "        await Impact._index.delete()\n",
    "    await Impact.init()\n",
    "    for row in train_doc:\n",
    "        q = Impact(explain=row[1], embedding=row[0])\n",
    "        await q.save()\n",
    "\n",
    "await ingest_impact()"
   ]
  },
  {
   "cell_type": "code",
   "execution_count": 28,
   "metadata": {},
   "outputs": [],
   "source": [
    "results = []\n",
    "for row in test_doc:\n",
    "    q = row[0]\n",
    "    s = RootCause.search()\n",
    "    s = s.query(dsl.query.Knn(field=RootCause.embedding, query_vector=q))\n",
    "    r = await s[:1].execute()\n",
    "    results.append( (r.hits[0].explain, row[1]) )\n",
    "\n",
    "store_results_to_file(results, f'{task}_rag.txt')"
   ]
  },
  {
   "cell_type": "code",
   "execution_count": 29,
   "metadata": {},
   "outputs": [
    {
     "name": "stdout",
     "output_type": "stream",
     "text": [
      "Average Rouge-1: 0.05381149136700646\n",
      "Average Rouge-2: 0.005269690507871439\n",
      "Average Rouge-L: 0.04917568352218396\n",
      "Average BLEU: 0.0032588942892382\n"
     ]
    }
   ],
   "source": [
    "rouge_results = []\n",
    "bleu_results = []\n",
    "for v in results:\n",
    "    r_ = rouge.compute(predictions=[v[0]], references=[v[1]])\n",
    "    b_ = bleu.compute(predictions=[v[0]], references=[[v[1]]])\n",
    "    rouge_results.append((r_['rouge1'], r_['rouge2'], r_['rougeL']))\n",
    "    bleu_results.append(b_)\n",
    "\n",
    "rouge_results_array = np.array(rouge_results)\n",
    "bleu_results_array = np.array([b['bleu'] for b in bleu_results])\n",
    "\n",
    "avg_rouge1 = np.mean(rouge_results_array[:, 0])\n",
    "avg_rouge2 = np.mean(rouge_results_array[:, 1])\n",
    "avg_rougeL = np.mean(rouge_results_array[:, 2])\n",
    "\n",
    "avg_bleu = np.mean(bleu_results_array)\n",
    "\n",
    "# Print the average values\n",
    "print(\"Average Rouge-1:\", avg_rouge1)\n",
    "print(\"Average Rouge-2:\", avg_rouge2)\n",
    "print(\"Average Rouge-L:\", avg_rougeL)\n",
    "\n",
    "print(\"Average BLEU:\", avg_bleu)"
   ]
  },
  {
   "cell_type": "markdown",
   "metadata": {},
   "source": [
    "# vulnerability type"
   ]
  },
  {
   "cell_type": "code",
   "execution_count": 30,
   "metadata": {},
   "outputs": [],
   "source": [
    "task = 'vulnerability_type'\n",
    "ds = load_dataset(task)\n",
    "train_ds = ds['train'].to_pandas()\n",
    "test_ds = ds['test'].to_pandas()\n",
    "\n",
    "train_doc = []\n",
    "with torch.no_grad():\n",
    "    for i_row, row in train_ds.iterrows():\n",
    "        doc = get_loc(row['processed_func'], row['linevul_ranking'] ) \n",
    "        target = row[\"explain\"]\n",
    "        inputs = tokenizer.encode(doc, return_tensors=\"pt\").to(device)\n",
    "        embedding = model(inputs)[0].tolist()\n",
    "        train_doc.append( (embedding, target) )\n",
    "\n",
    "\n",
    "test_doc = []\n",
    "with torch.no_grad():\n",
    "    for i_row, row in test_ds.iterrows():\n",
    "        doc = get_loc(row['processed_func'], row['linevul_ranking'] ) \n",
    "        target = row[\"explain\"]\n",
    "        inputs = tokenizer.encode(doc, return_tensors=\"pt\").to(device)\n",
    "        embedding = model(inputs)[0].tolist()\n",
    "        test_doc.append( (embedding, target) )"
   ]
  },
  {
   "cell_type": "code",
   "execution_count": 31,
   "metadata": {},
   "outputs": [],
   "source": [
    "async def ingest_vulnerability_type():\n",
    "    if await VulnerabilityType._index.exists():\n",
    "        await VulnerabilityType._index.delete()\n",
    "    await VulnerabilityType.init()\n",
    "    for row in train_doc:\n",
    "        q = VulnerabilityType(explain=row[1], embedding=row[0])\n",
    "        await q.save()\n",
    "\n",
    "await ingest_vulnerability_type()"
   ]
  },
  {
   "cell_type": "code",
   "execution_count": 32,
   "metadata": {},
   "outputs": [],
   "source": [
    "results = []\n",
    "for row in test_doc:\n",
    "    q = row[0]\n",
    "    s = RootCause.search()\n",
    "    s = s.query(dsl.query.Knn(field=RootCause.embedding, query_vector=q))\n",
    "    r = await s[:1].execute()\n",
    "    results.append( (r.hits[0].explain, row[1]) )\n",
    "\n",
    "store_results_to_file(results, f'{task}_rag.txt')"
   ]
  },
  {
   "cell_type": "code",
   "execution_count": 33,
   "metadata": {},
   "outputs": [
    {
     "name": "stdout",
     "output_type": "stream",
     "text": [
      "Average Rouge-1: 0.09704879817286938\n",
      "Average Rouge-2: 0.06292770260840858\n",
      "Average Rouge-L: 0.09686292456692142\n",
      "Average BLEU: 0.0\n"
     ]
    }
   ],
   "source": [
    "rouge_results = []\n",
    "bleu_results = []\n",
    "for v in results:\n",
    "    r_ = rouge.compute(predictions=[v[0]], references=[v[1]])\n",
    "    b_ = bleu.compute(predictions=[v[0]], references=[[v[1]]])\n",
    "    rouge_results.append((r_['rouge1'], r_['rouge2'], r_['rougeL']))\n",
    "    bleu_results.append(b_)\n",
    "\n",
    "rouge_results_array = np.array(rouge_results)\n",
    "bleu_results_array = np.array([b['bleu'] for b in bleu_results])\n",
    "\n",
    "avg_rouge1 = np.mean(rouge_results_array[:, 0])\n",
    "avg_rouge2 = np.mean(rouge_results_array[:, 1])\n",
    "avg_rougeL = np.mean(rouge_results_array[:, 2])\n",
    "\n",
    "avg_bleu = np.mean(bleu_results_array)\n",
    "\n",
    "# Print the average values\n",
    "print(\"Average Rouge-1:\", avg_rouge1)\n",
    "print(\"Average Rouge-2:\", avg_rouge2)\n",
    "print(\"Average Rouge-L:\", avg_rougeL)\n",
    "\n",
    "print(\"Average BLEU:\", avg_bleu)"
   ]
  },
  {
   "cell_type": "code",
   "execution_count": null,
   "metadata": {},
   "outputs": [],
   "source": []
  }
 ],
 "metadata": {
  "kernelspec": {
   "display_name": "Python 3",
   "language": "python",
   "name": "python3"
  },
  "language_info": {
   "codemirror_mode": {
    "name": "ipython",
    "version": 3
   },
   "file_extension": ".py",
   "mimetype": "text/x-python",
   "name": "python",
   "nbconvert_exporter": "python",
   "pygments_lexer": "ipython3",
   "version": "3.11.11"
  }
 },
 "nbformat": 4,
 "nbformat_minor": 2
}
