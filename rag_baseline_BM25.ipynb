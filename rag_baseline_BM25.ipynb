{
 "cells": [
  {
   "cell_type": "code",
   "execution_count": 8,
   "metadata": {},
   "outputs": [],
   "source": [
    "%load_ext autoreload\n",
    "%autoreload 2"
   ]
  },
  {
   "cell_type": "code",
   "execution_count": 9,
   "metadata": {},
   "outputs": [],
   "source": [
    "import asyncio\n",
    "from elasticsearch import OrjsonSerializer\n",
    "import torch\n",
    "from rag.loc_doc import *\n",
    "from transformers import AutoModel, AutoTokenizer\n",
    "from project_dataset import load_dataset\n",
    "import elasticsearch_dsl as dsl\n",
    "import evaluate\n",
    "import numpy as np"
   ]
  },
  {
   "cell_type": "code",
   "execution_count": 48,
   "metadata": {},
   "outputs": [],
   "source": [
    "rouge = evaluate.load(\"rouge\")\n",
    "bleu = evaluate.load(\"bleu\")\n",
    "bertscore = evaluate.load(\"bertscore\")"
   ]
  },
  {
   "cell_type": "code",
   "execution_count": 19,
   "metadata": {},
   "outputs": [
    {
     "data": {
      "text/plain": [
       "<AsyncElasticsearch(['http://localhost:9200'])>"
      ]
     },
     "execution_count": 19,
     "metadata": {},
     "output_type": "execute_result"
    }
   ],
   "source": [
    "dsl.async_connections.create_connection(hosts=['http://localhost:9200'], serializer=OrjsonSerializer())\n"
   ]
  },
  {
   "cell_type": "code",
   "execution_count": 5,
   "metadata": {},
   "outputs": [],
   "source": [
    "checkpoint = \"flax-sentence-embeddings/st-codesearch-distilroberta-base\"\n",
    "device = \"cuda\"  # for GPU usage or \"cpu\" for CPU usage"
   ]
  },
  {
   "cell_type": "code",
   "execution_count": 54,
   "metadata": {},
   "outputs": [],
   "source": [
    "from sentence_transformers import SentenceTransformer\n",
    "\n",
    "model = SentenceTransformer('flax-sentence-embeddings/st-codesearch-distilroberta-base').to(device)"
   ]
  },
  {
   "cell_type": "code",
   "execution_count": 6,
   "metadata": {},
   "outputs": [],
   "source": [
    "def get_loc(sample, linevul_ranking, linevul_top=10):\n",
    "    v = linevul_ranking.tolist()\n",
    "    breaked_lines = sample.split('\\n')\n",
    "    new_sample = '\\n'.join([breaked_lines[i] for i in v[:linevul_top]]).strip()\n",
    "    return new_sample"
   ]
  },
  {
   "cell_type": "markdown",
   "metadata": {},
   "source": [
    "# attack vector"
   ]
  },
  {
   "cell_type": "code",
   "execution_count": 12,
   "metadata": {},
   "outputs": [],
   "source": [
    "task = 'attack_vector'\n",
    "ds = load_dataset(task)"
   ]
  },
  {
   "cell_type": "code",
   "execution_count": 13,
   "metadata": {},
   "outputs": [],
   "source": [
    "train_ds = ds['train'].to_pandas()\n",
    "test_ds = ds['test'].to_pandas()"
   ]
  },
  {
   "cell_type": "code",
   "execution_count": 61,
   "metadata": {},
   "outputs": [],
   "source": [
    "train_doc = []\n",
    "code = [] \n",
    "target = []\n",
    "with torch.no_grad():\n",
    "    for i_row, row in train_ds.iterrows():\n",
    "        doc = get_loc(row['processed_func'], row['linevul_ranking'] )\n",
    "        target.append( row[\"explain\"] )\n",
    "        code.append(doc)\n",
    "embeddings = model.encode(code)\n",
    "embeddings = [i.tolist() for i in embeddings]\n",
    "train_doc = [(i, j) for i, j in zip(embeddings, target)]"
   ]
  },
  {
   "cell_type": "code",
   "execution_count": 63,
   "metadata": {},
   "outputs": [],
   "source": [
    "async def ingest_attack_vector():\n",
    "    if await AttackVecor._index.exists():\n",
    "        await AttackVecor._index.delete()\n",
    "    await AttackVecor.init()\n",
    "    for row in train_doc:\n",
    "        q = AttackVecor(explain=row[1], embedding=row[0])\n",
    "        await q.save()\n",
    "\n",
    "await ingest_attack_vector()"
   ]
  },
  {
   "cell_type": "code",
   "execution_count": 64,
   "metadata": {},
   "outputs": [],
   "source": [
    "test_doc = []\n",
    "code = [] \n",
    "target = []\n",
    "with torch.no_grad():\n",
    "    for i_row, row in test_ds.iterrows():\n",
    "        doc = get_loc(row['processed_func'], row['linevul_ranking'] )\n",
    "        target.append( row[\"explain\"] )\n",
    "        code.append(doc)\n",
    "embeddings = model.encode(code)\n",
    "embeddings = [i.tolist() for i in embeddings]\n",
    "test_doc = [(i, j) for i, j in zip(embeddings, target)]"
   ]
  },
  {
   "cell_type": "code",
   "execution_count": 65,
   "metadata": {},
   "outputs": [],
   "source": [
    "results = []\n",
    "for row in test_doc:\n",
    "    q = row[0]\n",
    "    s = AttackVecor.search()\n",
    "    s = s.query(dsl.query.Knn(field=AttackVecor.embedding, query_vector=q))\n",
    "    r = await s[:1].execute()\n",
    "    results.append( (r.hits[0].explain, row[1]) )"
   ]
  },
  {
   "cell_type": "code",
   "execution_count": 66,
   "metadata": {},
   "outputs": [],
   "source": [
    "def store_results_to_file(results, file_path):\n",
    "    with open(file_path, 'w') as file:\n",
    "        for result in results:\n",
    "            file.write(f'{result[0]}\\n')"
   ]
  },
  {
   "cell_type": "code",
   "execution_count": 67,
   "metadata": {},
   "outputs": [],
   "source": [
    "store_results_to_file(results, f'{task}_rag_bm25.txt')"
   ]
  },
  {
   "cell_type": "code",
   "execution_count": 69,
   "metadata": {},
   "outputs": [],
   "source": [
    "rouge_results = []\n",
    "bleu_results = []\n",
    "bertscore_results = []\n",
    "for v in results:\n",
    "    r_ = rouge.compute(predictions=[v[0]], references=[v[1]])\n",
    "    b_ = bleu.compute(predictions=[v[0]], references=[v[1]])\n",
    "    rouge_results.append((r_['rouge1'], r_['rouge2'], r_['rougeL']))\n",
    "    bleu_results.append(b_)"
   ]
  },
  {
   "cell_type": "code",
   "execution_count": 70,
   "metadata": {},
   "outputs": [
    {
     "name": "stdout",
     "output_type": "stream",
     "text": [
      "Average Rouge-1: 0.6367213100379829\n",
      "Average Rouge-2: 0.5654240413579364\n",
      "Average Rouge-L: 0.6358387547990585\n",
      "Average BLEU: 0.5128855464918658\n"
     ]
    }
   ],
   "source": [
    "rouge_results_array = np.array(rouge_results)\n",
    "bleu_results_array = np.array([b['bleu'] for b in bleu_results])\n",
    "\n",
    "avg_rouge1 = np.mean(rouge_results_array[:, 0])\n",
    "avg_rouge2 = np.mean(rouge_results_array[:, 1])\n",
    "avg_rougeL = np.mean(rouge_results_array[:, 2])\n",
    "\n",
    "avg_bleu = np.mean(bleu_results_array)\n",
    "\n",
    "# Print the average values\n",
    "print(\"Average Rouge-1:\", avg_rouge1)\n",
    "print(\"Average Rouge-2:\", avg_rouge2)\n",
    "print(\"Average Rouge-L:\", avg_rougeL)\n",
    "\n",
    "print(\"Average BLEU:\", avg_bleu)"
   ]
  },
  {
   "cell_type": "markdown",
   "metadata": {},
   "source": [
    "# root cause"
   ]
  },
  {
   "cell_type": "code",
   "execution_count": 71,
   "metadata": {},
   "outputs": [],
   "source": [
    "task = 'root_cause'\n",
    "ds = load_dataset(task)\n",
    "train_ds = ds['train'].to_pandas()\n",
    "test_ds = ds['test'].to_pandas()"
   ]
  },
  {
   "cell_type": "code",
   "execution_count": 72,
   "metadata": {},
   "outputs": [],
   "source": [
    "train_doc = []\n",
    "code = [] \n",
    "target = []\n",
    "with torch.no_grad():\n",
    "    for i_row, row in train_ds.iterrows():\n",
    "        doc = get_loc(row['processed_func'], row['linevul_ranking'] )\n",
    "        target.append( row[\"explain\"] )\n",
    "        code.append(doc)\n",
    "embeddings = model.encode(code)\n",
    "embeddings = [i.tolist() for i in embeddings]\n",
    "train_doc = [(i, j) for i, j in zip(embeddings, target)]"
   ]
  },
  {
   "cell_type": "code",
   "execution_count": 73,
   "metadata": {},
   "outputs": [],
   "source": [
    "test_doc = []\n",
    "code = [] \n",
    "target = []\n",
    "with torch.no_grad():\n",
    "    for i_row, row in test_ds.iterrows():\n",
    "        doc = get_loc(row['processed_func'], row['linevul_ranking'] )\n",
    "        target.append( row[\"explain\"] )\n",
    "        code.append(doc)\n",
    "embeddings = model.encode(code)\n",
    "embeddings = [i.tolist() for i in embeddings]\n",
    "test_doc = [(i, j) for i, j in zip(embeddings, target)]"
   ]
  },
  {
   "cell_type": "code",
   "execution_count": 74,
   "metadata": {},
   "outputs": [],
   "source": [
    "async def ingest_root_cause():\n",
    "    if await RootCause._index.exists():\n",
    "        await RootCause._index.delete()\n",
    "    await RootCause.init()\n",
    "    for row in train_doc:\n",
    "        q = RootCause(explain=row[1], embedding=row[0])\n",
    "        await q.save()\n",
    "\n",
    "await ingest_root_cause()"
   ]
  },
  {
   "cell_type": "code",
   "execution_count": 75,
   "metadata": {},
   "outputs": [],
   "source": [
    "results = []\n",
    "for row in test_doc:\n",
    "    q = row[0]\n",
    "    s = RootCause.search()\n",
    "    s = s.query(dsl.query.Knn(field=RootCause.embedding, query_vector=q))\n",
    "    r = await s[:1].execute()\n",
    "    results.append( (r.hits[0].explain, row[1]) )"
   ]
  },
  {
   "cell_type": "code",
   "execution_count": 76,
   "metadata": {},
   "outputs": [],
   "source": [
    "store_results_to_file(results, f'{task}_rag_bm25.txt')"
   ]
  },
  {
   "cell_type": "code",
   "execution_count": 77,
   "metadata": {},
   "outputs": [],
   "source": [
    "rouge_results = []\n",
    "bleu_results = []\n",
    "for v in results:\n",
    "    r_ = rouge.compute(predictions=[v[0]], references=[v[1]])\n",
    "    b_ = bleu.compute(predictions=[v[0]], references=[[v[1]]])\n",
    "    rouge_results.append((r_['rouge1'], r_['rouge2'], r_['rougeL']))\n",
    "    bleu_results.append(b_)"
   ]
  },
  {
   "cell_type": "code",
   "execution_count": 78,
   "metadata": {},
   "outputs": [
    {
     "name": "stdout",
     "output_type": "stream",
     "text": [
      "Average Rouge-1: 0.4879555183270134\n",
      "Average Rouge-2: 0.4569253397563256\n",
      "Average Rouge-L: 0.4866442457053589\n",
      "Average BLEU: 0.3315091576396999\n"
     ]
    }
   ],
   "source": [
    "rouge_results_array = np.array(rouge_results)\n",
    "bleu_results_array = np.array([b['bleu'] for b in bleu_results])\n",
    "\n",
    "avg_rouge1 = np.mean(rouge_results_array[:, 0])\n",
    "avg_rouge2 = np.mean(rouge_results_array[:, 1])\n",
    "avg_rougeL = np.mean(rouge_results_array[:, 2])\n",
    "\n",
    "avg_bleu = np.mean(bleu_results_array)\n",
    "\n",
    "# Print the average values\n",
    "print(\"Average Rouge-1:\", avg_rouge1)\n",
    "print(\"Average Rouge-2:\", avg_rouge2)\n",
    "print(\"Average Rouge-L:\", avg_rougeL)\n",
    "\n",
    "print(\"Average BLEU:\", avg_bleu)"
   ]
  },
  {
   "cell_type": "markdown",
   "metadata": {},
   "source": [
    "# Impact"
   ]
  },
  {
   "cell_type": "code",
   "execution_count": 79,
   "metadata": {},
   "outputs": [],
   "source": [
    "task = 'impact'\n",
    "ds = load_dataset(task)\n",
    "train_ds = ds['train'].to_pandas()\n",
    "test_ds = ds['test'].to_pandas()"
   ]
  },
  {
   "cell_type": "code",
   "execution_count": 80,
   "metadata": {},
   "outputs": [],
   "source": [
    "train_doc = []\n",
    "code = [] \n",
    "target = []\n",
    "with torch.no_grad():\n",
    "    for i_row, row in train_ds.iterrows():\n",
    "        doc = get_loc(row['processed_func'], row['linevul_ranking'] )\n",
    "        target.append( row[\"explain\"] )\n",
    "        code.append(doc)\n",
    "embeddings = model.encode(code)\n",
    "embeddings = [i.tolist() for i in embeddings]\n",
    "train_doc = [(i, j) for i, j in zip(embeddings, target)]\n",
    "\n",
    "\n",
    "test_doc = []\n",
    "code = [] \n",
    "target = []\n",
    "with torch.no_grad():\n",
    "    for i_row, row in test_ds.iterrows():\n",
    "        doc = get_loc(row['processed_func'], row['linevul_ranking'] )\n",
    "        target.append( row[\"explain\"] )\n",
    "        code.append(doc)\n",
    "embeddings = model.encode(code)\n",
    "embeddings = [i.tolist() for i in embeddings]\n",
    "test_doc = [(i, j) for i, j in zip(embeddings, target)]"
   ]
  },
  {
   "cell_type": "code",
   "execution_count": 81,
   "metadata": {},
   "outputs": [],
   "source": [
    "async def ingest_impact():\n",
    "    if await Impact._index.exists():\n",
    "        await Impact._index.delete()\n",
    "    await Impact.init()\n",
    "    for row in train_doc:\n",
    "        q = Impact(explain=row[1], embedding=row[0])\n",
    "        await q.save()\n",
    "\n",
    "await ingest_impact()"
   ]
  },
  {
   "cell_type": "code",
   "execution_count": 82,
   "metadata": {},
   "outputs": [],
   "source": [
    "results = []\n",
    "for row in test_doc:\n",
    "    q = row[0]\n",
    "    s = RootCause.search()\n",
    "    s = s.query(dsl.query.Knn(field=RootCause.embedding, query_vector=q))\n",
    "    r = await s[:1].execute()\n",
    "    results.append( (r.hits[0].explain, row[1]) )\n",
    "\n",
    "store_results_to_file(results, f'{task}_rag_bm25.txt')"
   ]
  },
  {
   "cell_type": "code",
   "execution_count": 83,
   "metadata": {},
   "outputs": [
    {
     "name": "stdout",
     "output_type": "stream",
     "text": [
      "Average Rouge-1: 0.05576602497539942\n",
      "Average Rouge-2: 0.004810337553798601\n",
      "Average Rouge-L: 0.05181231829600175\n",
      "Average BLEU: 0.00255885363357216\n"
     ]
    }
   ],
   "source": [
    "rouge_results = []\n",
    "bleu_results = []\n",
    "for v in results:\n",
    "    r_ = rouge.compute(predictions=[v[0]], references=[v[1]])\n",
    "    b_ = bleu.compute(predictions=[v[0]], references=[[v[1]]])\n",
    "    rouge_results.append((r_['rouge1'], r_['rouge2'], r_['rougeL']))\n",
    "    bleu_results.append(b_)\n",
    "\n",
    "rouge_results_array = np.array(rouge_results)\n",
    "bleu_results_array = np.array([b['bleu'] for b in bleu_results])\n",
    "\n",
    "avg_rouge1 = np.mean(rouge_results_array[:, 0])\n",
    "avg_rouge2 = np.mean(rouge_results_array[:, 1])\n",
    "avg_rougeL = np.mean(rouge_results_array[:, 2])\n",
    "\n",
    "avg_bleu = np.mean(bleu_results_array)\n",
    "\n",
    "# Print the average values\n",
    "print(\"Average Rouge-1:\", avg_rouge1)\n",
    "print(\"Average Rouge-2:\", avg_rouge2)\n",
    "print(\"Average Rouge-L:\", avg_rougeL)\n",
    "\n",
    "print(\"Average BLEU:\", avg_bleu)"
   ]
  },
  {
   "cell_type": "markdown",
   "metadata": {},
   "source": [
    "# vulnerability type"
   ]
  },
  {
   "cell_type": "code",
   "execution_count": 84,
   "metadata": {},
   "outputs": [],
   "source": [
    "task = 'vulnerability_type'\n",
    "ds = load_dataset(task)\n",
    "train_ds = ds['train'].to_pandas()\n",
    "test_ds = ds['test'].to_pandas()\n",
    "\n",
    "train_doc = []\n",
    "code = [] \n",
    "target = []\n",
    "with torch.no_grad():\n",
    "    for i_row, row in train_ds.iterrows():\n",
    "        doc = get_loc(row['processed_func'], row['linevul_ranking'] )\n",
    "        target.append( row[\"explain\"] )\n",
    "        code.append(doc)\n",
    "embeddings = model.encode(code)\n",
    "embeddings = [i.tolist() for i in embeddings]\n",
    "train_doc = [(i, j) for i, j in zip(embeddings, target)]\n",
    "\n",
    "\n",
    "test_doc = []\n",
    "code = [] \n",
    "target = []\n",
    "with torch.no_grad():\n",
    "    for i_row, row in test_ds.iterrows():\n",
    "        doc = get_loc(row['processed_func'], row['linevul_ranking'] )\n",
    "        target.append( row[\"explain\"] )\n",
    "        code.append(doc)\n",
    "embeddings = model.encode(code)\n",
    "embeddings = [i.tolist() for i in embeddings]\n",
    "test_doc = [(i, j) for i, j in zip(embeddings, target)]"
   ]
  },
  {
   "cell_type": "code",
   "execution_count": 85,
   "metadata": {},
   "outputs": [],
   "source": [
    "async def ingest_vulnerability_type():\n",
    "    if await VulnerabilityType._index.exists():\n",
    "        await VulnerabilityType._index.delete()\n",
    "    await VulnerabilityType.init()\n",
    "    for row in train_doc:\n",
    "        q = VulnerabilityType(explain=row[1], embedding=row[0])\n",
    "        await q.save()\n",
    "\n",
    "await ingest_vulnerability_type()"
   ]
  },
  {
   "cell_type": "code",
   "execution_count": 88,
   "metadata": {},
   "outputs": [],
   "source": [
    "results = []\n",
    "for row in test_doc:\n",
    "    q = row[0]\n",
    "    s = RootCause.search()\n",
    "    s = s.query(dsl.query.Knn(field=RootCause.embedding, query_vector=q))\n",
    "    r = await s[:1].execute()\n",
    "    results.append( (r.hits[0].explain, row[1]) )\n",
    "\n",
    "store_results_to_file(results, f'{task}_rag_bm25.txt')"
   ]
  },
  {
   "cell_type": "code",
   "execution_count": 87,
   "metadata": {},
   "outputs": [
    {
     "name": "stdout",
     "output_type": "stream",
     "text": [
      "Average Rouge-1: 0.09399278013654645\n",
      "Average Rouge-2: 0.06398645127403457\n",
      "Average Rouge-L: 0.09399278013654645\n",
      "Average BLEU: 0.0\n"
     ]
    }
   ],
   "source": [
    "rouge_results = []\n",
    "bleu_results = []\n",
    "for v in results:\n",
    "    r_ = rouge.compute(predictions=[v[0]], references=[v[1]])\n",
    "    b_ = bleu.compute(predictions=[v[0]], references=[[v[1]]])\n",
    "    rouge_results.append((r_['rouge1'], r_['rouge2'], r_['rougeL']))\n",
    "    bleu_results.append(b_)\n",
    "\n",
    "rouge_results_array = np.array(rouge_results)\n",
    "bleu_results_array = np.array([b['bleu'] for b in bleu_results])\n",
    "\n",
    "avg_rouge1 = np.mean(rouge_results_array[:, 0])\n",
    "avg_rouge2 = np.mean(rouge_results_array[:, 1])\n",
    "avg_rougeL = np.mean(rouge_results_array[:, 2])\n",
    "\n",
    "avg_bleu = np.mean(bleu_results_array)\n",
    "\n",
    "# Print the average values\n",
    "print(\"Average Rouge-1:\", avg_rouge1)\n",
    "print(\"Average Rouge-2:\", avg_rouge2)\n",
    "print(\"Average Rouge-L:\", avg_rougeL)\n",
    "\n",
    "print(\"Average BLEU:\", avg_bleu)"
   ]
  },
  {
   "cell_type": "code",
   "execution_count": null,
   "metadata": {},
   "outputs": [],
   "source": []
  }
 ],
 "metadata": {
  "kernelspec": {
   "display_name": "vul-intext-reason",
   "language": "python",
   "name": "python3"
  },
  "language_info": {
   "codemirror_mode": {
    "name": "ipython",
    "version": 3
   },
   "file_extension": ".py",
   "mimetype": "text/x-python",
   "name": "python",
   "nbconvert_exporter": "python",
   "pygments_lexer": "ipython3",
   "version": "3.11.4"
  }
 },
 "nbformat": 4,
 "nbformat_minor": 4
}
