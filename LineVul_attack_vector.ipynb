{
 "cells": [
  {
   "attachments": {},
   "cell_type": "markdown",
   "id": "d4e4b1aa-cef1-4ca4-ad41-75717a8057de",
   "metadata": {},
   "source": [
    "# Reproduce LineVul"
   ]
  },
  {
   "cell_type": "code",
   "execution_count": 1,
   "id": "904a3755-cf47-4982-aee8-b7f748f46e5a",
   "metadata": {},
   "outputs": [],
   "source": [
    "%load_ext autoreload\n",
    "%autoreload 2"
   ]
  },
  {
   "cell_type": "code",
   "execution_count": 2,
   "id": "52bc90c5-090a-46c0-bec0-9276e10934c3",
   "metadata": {},
   "outputs": [],
   "source": [
    "import commons"
   ]
  },
  {
   "cell_type": "code",
   "execution_count": 3,
   "id": "52a92f87-fa42-47df-bd95-2eaf7e8c04eb",
   "metadata": {},
   "outputs": [],
   "source": [
    "from transformers import AutoTokenizer, AutoModel\n",
    "from transformers import RobertaTokenizer, RobertaForSequenceClassification, RobertaConfig"
   ]
  },
  {
   "cell_type": "code",
   "execution_count": 5,
   "id": "ad470abb-1096-4c9c-bf9e-d04244f46bcd",
   "metadata": {},
   "outputs": [],
   "source": [
    "# there are some warning from transformer\n",
    "# due to its verbose, disable\n",
    "\n",
    "from transformers import logging\n",
    "logging.set_verbosity(40)"
   ]
  },
  {
   "cell_type": "code",
   "execution_count": 6,
   "id": "94444f12-daab-47a8-aa7c-c296af8cd69e",
   "metadata": {},
   "outputs": [],
   "source": [
    "import torch\n",
    "from torch.utils.data import DataLoader, Dataset, SequentialSampler"
   ]
  },
  {
   "cell_type": "code",
   "execution_count": 7,
   "id": "665ef7f0-266f-4504-bb27-d55b2cfd3946",
   "metadata": {},
   "outputs": [],
   "source": [
    "import numpy as np\n",
    "from datasets import Dataset\n",
    "from torch.utils.data import DataLoader"
   ]
  },
  {
   "cell_type": "code",
   "execution_count": 8,
   "id": "f929d687-4a2f-4988-a45c-48dcbe0de2da",
   "metadata": {},
   "outputs": [],
   "source": [
    "import pandas as pd\n",
    "from tqdm.autonotebook import tqdm"
   ]
  },
  {
   "cell_type": "code",
   "execution_count": 9,
   "id": "b209c02c-cee8-47ba-b29b-688f5a26c5d7",
   "metadata": {},
   "outputs": [],
   "source": [
    "from linevul_model import Model\n",
    "from linevul_helpers import TextDataset\n",
    "from linevul_extra import extract_line_attention, linevul_predict"
   ]
  },
  {
   "cell_type": "code",
   "execution_count": 10,
   "id": "75e70b49-deec-4ad5-ac81-77213d9241b6",
   "metadata": {},
   "outputs": [],
   "source": [
    "from project_dataset import load_dataset"
   ]
  },
  {
   "cell_type": "code",
   "execution_count": 11,
   "id": "1f2dd844-e8c3-4e63-8957-049a8c8ffae2",
   "metadata": {},
   "outputs": [],
   "source": [
    "device = torch.device(\"cuda\" if torch.cuda.is_available() else \"cpu\")\n",
    "n_gpu = torch.cuda.device_count()"
   ]
  },
  {
   "cell_type": "code",
   "execution_count": 12,
   "id": "6b698f48-aff8-436f-b7f9-c62449919530",
   "metadata": {},
   "outputs": [
    {
     "data": {
      "application/vnd.jupyter.widget-view+json": {
       "model_id": "010bd4c6f1c44c6f859964f8595b1c1b",
       "version_major": 2,
       "version_minor": 0
      },
      "text/plain": [
       "Downloading config.json:   0%|          | 0.00/498 [00:00<?, ?B/s]"
      ]
     },
     "metadata": {},
     "output_type": "display_data"
    }
   ],
   "source": [
    "config = RobertaConfig.from_pretrained('microsoft/codebert-base')\n",
    "config.num_labels = 1\n",
    "config.num_attention_heads = 12"
   ]
  },
  {
   "cell_type": "code",
   "execution_count": 13,
   "id": "7fd88e94-6911-4cb5-b638-4d27287f12f3",
   "metadata": {},
   "outputs": [],
   "source": [
    "# get from LineVul\n",
    "checkpoint = '12heads_linevul_model.bin'"
   ]
  },
  {
   "cell_type": "code",
   "execution_count": 13,
   "id": "218433bf-aee1-474d-b426-352bfd77b62f",
   "metadata": {},
   "outputs": [],
   "source": [
    "tokenizer = RobertaTokenizer.from_pretrained('microsoft/codebert-base')"
   ]
  },
  {
   "cell_type": "code",
   "execution_count": 14,
   "id": "d994a186-c905-442b-b5fe-2e54cae6f8a3",
   "metadata": {},
   "outputs": [],
   "source": [
    "pre_train = RobertaForSequenceClassification.from_pretrained('microsoft/codebert-base', \n",
    "                                                             config=config, \n",
    "                                                             ignore_mismatched_sizes=True).to(device)"
   ]
  },
  {
   "cell_type": "code",
   "execution_count": 15,
   "id": "f577da66-2711-4216-97da-37b3b229b36a",
   "metadata": {},
   "outputs": [],
   "source": [
    "from dataclasses import dataclass\n",
    "\n",
    "@dataclass\n",
    "class Args:\n",
    "    device = device\n",
    "    n_gpu = n_gpu\n",
    "    use_non_pretrained_model = False\n",
    "    block_size = 512\n",
    "    test_data_file = '/home/hqn650/LineVul/data/big-vul_dataset/test.csv'\n",
    "    code_length=256\n",
    "    do_local_explanation=True\n",
    "    reasoning_method='attention'\n",
    "    seed=42\n",
    "    num_attention_heads=12\n",
    "    do_sorting_by_line_scores=False\n",
    "    do_sorting_by_pred_prob=False\n",
    "    top_k_constant=10\n",
    "    use_word_level_tokenizer=False\n",
    "    eval_batch_size=512\n",
    "\n",
    "    task = \"attack_vector\"\n",
    "    \n",
    "args = Args()"
   ]
  },
  {
   "cell_type": "code",
   "execution_count": 16,
   "id": "032a6625-6694-4299-9132-60ac6c3f03e8",
   "metadata": {},
   "outputs": [],
   "source": [
    "model = Model(pre_train, config, tokenizer, args)"
   ]
  },
  {
   "cell_type": "code",
   "execution_count": 17,
   "id": "8c9ca781-54df-4aee-b028-946f8bb5d680",
   "metadata": {},
   "outputs": [
    {
     "data": {
      "text/plain": [
       "Model(\n",
       "  (roberta): RobertaModel(\n",
       "    (embeddings): RobertaEmbeddings(\n",
       "      (word_embeddings): Embedding(50265, 768, padding_idx=1)\n",
       "      (position_embeddings): Embedding(514, 768, padding_idx=1)\n",
       "      (token_type_embeddings): Embedding(1, 768)\n",
       "      (LayerNorm): LayerNorm((768,), eps=1e-05, elementwise_affine=True)\n",
       "      (dropout): Dropout(p=0.1, inplace=False)\n",
       "    )\n",
       "    (encoder): RobertaEncoder(\n",
       "      (layer): ModuleList(\n",
       "        (0-11): 12 x RobertaLayer(\n",
       "          (attention): RobertaAttention(\n",
       "            (self): RobertaSelfAttention(\n",
       "              (query): Linear(in_features=768, out_features=768, bias=True)\n",
       "              (key): Linear(in_features=768, out_features=768, bias=True)\n",
       "              (value): Linear(in_features=768, out_features=768, bias=True)\n",
       "              (dropout): Dropout(p=0.1, inplace=False)\n",
       "            )\n",
       "            (output): RobertaSelfOutput(\n",
       "              (dense): Linear(in_features=768, out_features=768, bias=True)\n",
       "              (LayerNorm): LayerNorm((768,), eps=1e-05, elementwise_affine=True)\n",
       "              (dropout): Dropout(p=0.1, inplace=False)\n",
       "            )\n",
       "          )\n",
       "          (intermediate): RobertaIntermediate(\n",
       "            (dense): Linear(in_features=768, out_features=3072, bias=True)\n",
       "            (intermediate_act_fn): GELUActivation()\n",
       "          )\n",
       "          (output): RobertaOutput(\n",
       "            (dense): Linear(in_features=3072, out_features=768, bias=True)\n",
       "            (LayerNorm): LayerNorm((768,), eps=1e-05, elementwise_affine=True)\n",
       "            (dropout): Dropout(p=0.1, inplace=False)\n",
       "          )\n",
       "        )\n",
       "      )\n",
       "    )\n",
       "  )\n",
       "  (classifier): RobertaClassificationHead(\n",
       "    (dense): Linear(in_features=768, out_features=768, bias=True)\n",
       "    (dropout): Dropout(p=0.1, inplace=False)\n",
       "    (out_proj): Linear(in_features=768, out_features=2, bias=True)\n",
       "  )\n",
       "  (encoder): RobertaForSequenceClassification(\n",
       "    (roberta): RobertaModel(\n",
       "      (embeddings): RobertaEmbeddings(\n",
       "        (word_embeddings): Embedding(50265, 768, padding_idx=1)\n",
       "        (position_embeddings): Embedding(514, 768, padding_idx=1)\n",
       "        (token_type_embeddings): Embedding(1, 768)\n",
       "        (LayerNorm): LayerNorm((768,), eps=1e-05, elementwise_affine=True)\n",
       "        (dropout): Dropout(p=0.1, inplace=False)\n",
       "      )\n",
       "      (encoder): RobertaEncoder(\n",
       "        (layer): ModuleList(\n",
       "          (0-11): 12 x RobertaLayer(\n",
       "            (attention): RobertaAttention(\n",
       "              (self): RobertaSelfAttention(\n",
       "                (query): Linear(in_features=768, out_features=768, bias=True)\n",
       "                (key): Linear(in_features=768, out_features=768, bias=True)\n",
       "                (value): Linear(in_features=768, out_features=768, bias=True)\n",
       "                (dropout): Dropout(p=0.1, inplace=False)\n",
       "              )\n",
       "              (output): RobertaSelfOutput(\n",
       "                (dense): Linear(in_features=768, out_features=768, bias=True)\n",
       "                (LayerNorm): LayerNorm((768,), eps=1e-05, elementwise_affine=True)\n",
       "                (dropout): Dropout(p=0.1, inplace=False)\n",
       "              )\n",
       "            )\n",
       "            (intermediate): RobertaIntermediate(\n",
       "              (dense): Linear(in_features=768, out_features=3072, bias=True)\n",
       "              (intermediate_act_fn): GELUActivation()\n",
       "            )\n",
       "            (output): RobertaOutput(\n",
       "              (dense): Linear(in_features=3072, out_features=768, bias=True)\n",
       "              (LayerNorm): LayerNorm((768,), eps=1e-05, elementwise_affine=True)\n",
       "              (dropout): Dropout(p=0.1, inplace=False)\n",
       "            )\n",
       "          )\n",
       "        )\n",
       "      )\n",
       "    )\n",
       "    (classifier): RobertaClassificationHead(\n",
       "      (dense): Linear(in_features=768, out_features=768, bias=True)\n",
       "      (dropout): Dropout(p=0.1, inplace=False)\n",
       "      (out_proj): Linear(in_features=768, out_features=1, bias=True)\n",
       "    )\n",
       "  )\n",
       ")"
      ]
     },
     "execution_count": 17,
     "metadata": {},
     "output_type": "execute_result"
    }
   ],
   "source": [
    "model.load_state_dict(torch.load(checkpoint, map_location=args.device))\n",
    "model.to(args.device)"
   ]
  },
  {
   "cell_type": "code",
   "execution_count": 18,
   "id": "503ba7b6-5696-45a9-92d3-80dacce48583",
   "metadata": {},
   "outputs": [],
   "source": [
    "from linevul_helpers import TextDataset, convert_examples_to_features\n",
    "\n",
    "class ExtendTextDataset(TextDataset):\n",
    "    def __init__(self, tokenizer, args, data_frame):\n",
    "        self.examples = []\n",
    "        funcs = data_frame[\"processed_func\"].tolist()\n",
    "        for i in tqdm(range(len(funcs)), desc='ExtendTextDataset'):\n",
    "            self.examples.append(convert_examples_to_features(funcs[i], 1, tokenizer, args))"
   ]
  },
  {
   "cell_type": "code",
   "execution_count": 19,
   "id": "04c95b49-9206-4aa0-b23e-8f81fbaac8b0",
   "metadata": {},
   "outputs": [],
   "source": [
    "# multi-gpu evaluate\n",
    "if args.n_gpu > 1:\n",
    "    model = torch.nn.DataParallel(model)"
   ]
  },
  {
   "cell_type": "code",
   "execution_count": 20,
   "id": "18176fec-0ab9-40c1-a867-22b09e441ae6",
   "metadata": {},
   "outputs": [],
   "source": [
    "# to find TP\n",
    "def find_tp(model, tokenizer, args, data_frame=None):\n",
    "    if data_frame is not None:\n",
    "        dataset = ExtendTextDataset(tokenizer, args, data_frame)\n",
    "    else:\n",
    "        dataset = TextDataset(tokenizer, args, file_type='test')\n",
    "    sampler = SequentialSampler(dataset)\n",
    "    data_loader = DataLoader(dataset, sampler=sampler, batch_size=args.eval_batch_size, num_workers=0)\n",
    "    result, y_trues, y_preds = linevul_predict(model, data_loader, args.device)\n",
    "    tp_indices = np.where((y_trues == y_preds) & (y_trues == 1))\n",
    "    tp_indices = list(tp_indices[0])\n",
    "    return result, tp_indices\n",
    "    \n",
    "# result, correct_indices = find_tp(model, tokenizer, args)"
   ]
  },
  {
   "cell_type": "code",
   "execution_count": 21,
   "id": "55a200c8-b3df-4e71-aa52-aa1977cb0a42",
   "metadata": {},
   "outputs": [],
   "source": [
    "def explain(model, tokenizer, explain_indices, data_frame=None): \n",
    "    \"\"\" \n",
    "        return (sample_idx, lines, n_lines)\n",
    "    \"\"\"\n",
    "    if data_frame is not None:\n",
    "        dataset = ExtendTextDataset(tokenizer, args, data_frame)\n",
    "    else:\n",
    "        dataset = TextDataset(tokenizer, args, file_type='test')\n",
    "    sampler = SequentialSampler(dataset)\n",
    "    data_loader = DataLoader(dataset, sampler=sampler, batch_size=1, num_workers=0)\n",
    "    model.eval()\n",
    "    index = 0\n",
    "    progress_bar = tqdm(data_loader, total=len(data_loader))\n",
    "    extract_list = []\n",
    "    for mini_batch in progress_bar:\n",
    "        if index in explain_indices:\n",
    "            (input_ids, labels) = mini_batch\n",
    "            ids = input_ids[0].detach().tolist()\n",
    "            all_tokens = tokenizer.convert_ids_to_tokens(ids)\n",
    "            all_tokens = [token.replace(\"Ġ\", \"\") for token in all_tokens]\n",
    "            all_tokens = [token.replace(\"ĉ\", \"Ċ\") for token in all_tokens]\n",
    "            with torch.no_grad():\n",
    "                prob, attentions = model(input_ids=input_ids, output_attentions=True)\n",
    "            lines_with_score, n_lines = extract_line_attention(attentions, all_tokens)\n",
    "            extract_list.append((index, lines_with_score, n_lines))\n",
    "        index += 1\n",
    "    return extract_list\n",
    "\n",
    "# extract_list = explain(model, tokenizer, correct_indices)"
   ]
  },
  {
   "attachments": {},
   "cell_type": "markdown",
   "id": "1f8605ef-5bd5-41fc-9e09-b2211f1bbb58",
   "metadata": {},
   "source": [
    "# Attack vector"
   ]
  },
  {
   "cell_type": "code",
   "execution_count": 22,
   "id": "1ef691b8-6d6e-4882-b0aa-e17095633a2e",
   "metadata": {},
   "outputs": [],
   "source": [
    "attack_vector = load_dataset(args.task)"
   ]
  },
  {
   "cell_type": "code",
   "execution_count": 23,
   "id": "b387faba-87c7-49d7-b210-efe1c041678e",
   "metadata": {},
   "outputs": [],
   "source": [
    "attack_vector_test = attack_vector['test']"
   ]
  },
  {
   "cell_type": "code",
   "execution_count": 24,
   "id": "774c771b-564a-4adc-a660-c3846b9cc166",
   "metadata": {},
   "outputs": [
    {
     "data": {
      "text/plain": [
       "Dataset({\n",
       "    features: ['CVE ID', 'explain', 'func_before', 'processed_func'],\n",
       "    num_rows: 1350\n",
       "})"
      ]
     },
     "execution_count": 24,
     "metadata": {},
     "output_type": "execute_result"
    }
   ],
   "source": [
    "attack_vector_test"
   ]
  },
  {
   "cell_type": "code",
   "execution_count": 25,
   "id": "6e9f9582-bc65-461b-94d5-dadc1dcf2fd3",
   "metadata": {},
   "outputs": [
    {
     "data": {
      "text/html": [
       "<div>\n",
       "<style scoped>\n",
       "    .dataframe tbody tr th:only-of-type {\n",
       "        vertical-align: middle;\n",
       "    }\n",
       "\n",
       "    .dataframe tbody tr th {\n",
       "        vertical-align: top;\n",
       "    }\n",
       "\n",
       "    .dataframe thead th {\n",
       "        text-align: right;\n",
       "    }\n",
       "</style>\n",
       "<table border=\"1\" class=\"dataframe\">\n",
       "  <thead>\n",
       "    <tr style=\"text-align: right;\">\n",
       "      <th></th>\n",
       "      <th>CVE ID</th>\n",
       "      <th>explain</th>\n",
       "      <th>func_before</th>\n",
       "      <th>processed_func</th>\n",
       "    </tr>\n",
       "  </thead>\n",
       "  <tbody>\n",
       "    <tr>\n",
       "      <th>0</th>\n",
       "      <td>CVE-2017-3731</td>\n",
       "      <td>sending specially crafted truncated packets</td>\n",
       "      <td>static int aes_gcm_ctrl(EVP_CIPHER_CTX *c, int...</td>\n",
       "      <td>static int aes_gcm_ctrl(EVP_CIPHER_CTX *c, int...</td>\n",
       "    </tr>\n",
       "    <tr>\n",
       "      <th>1</th>\n",
       "      <td>CVE-2013-2867</td>\n",
       "      <td>via a crafted web site .</td>\n",
       "      <td>void BluetoothDeviceChromeOS::OnUnregisterAgen...</td>\n",
       "      <td>void BluetoothDeviceChromeOS::OnUnregisterAgen...</td>\n",
       "    </tr>\n",
       "    <tr>\n",
       "      <th>2</th>\n",
       "      <td>CVE-2012-5131</td>\n",
       "      <td>via unknown vectors .</td>\n",
       "      <td>static void unregisterBlobURLTask(void* conte...</td>\n",
       "      <td>static void unregisterBlobURLTask(void* contex...</td>\n",
       "    </tr>\n",
       "    <tr>\n",
       "      <th>3</th>\n",
       "      <td>CVE-2016-5842</td>\n",
       "      <td>persuading a victim to open a specially crafte...</td>\n",
       "      <td>}static inline void WriteResourceLong(unsigned...</td>\n",
       "      <td>}\\nstatic inline void WriteResourceLong(unsign...</td>\n",
       "    </tr>\n",
       "    <tr>\n",
       "      <th>4</th>\n",
       "      <td>CVE-2012-2875</td>\n",
       "      <td>via a crafted document .</td>\n",
       "      <td>void PromoResourceService::PromoResourceState...</td>\n",
       "      <td>void PromoResourceService::PromoResourceStateC...</td>\n",
       "    </tr>\n",
       "    <tr>\n",
       "      <th>...</th>\n",
       "      <td>...</td>\n",
       "      <td>...</td>\n",
       "      <td>...</td>\n",
       "      <td>...</td>\n",
       "    </tr>\n",
       "    <tr>\n",
       "      <th>1345</th>\n",
       "      <td>CVE-2012-6657</td>\n",
       "      <td>by leveraging the ability to create a raw sock...</td>\n",
       "      <td>int sock_setsockopt(struct socket *sock, int l...</td>\n",
       "      <td>int sock_setsockopt(struct socket *sock, int l...</td>\n",
       "    </tr>\n",
       "    <tr>\n",
       "      <th>1346</th>\n",
       "      <td>CVE-2016-6787</td>\n",
       "      <td>using a specially-crafted application</td>\n",
       "      <td>static void perf_event_for_each_child(struct p...</td>\n",
       "      <td>static void perf_event_for_each_child(struct p...</td>\n",
       "    </tr>\n",
       "    <tr>\n",
       "      <th>1347</th>\n",
       "      <td>CVE-2016-3951</td>\n",
       "      <td>inserting a USB device with an invalid USB des...</td>\n",
       "      <td>static int cdc_ncm_bind(struct usbnet *dev, s...</td>\n",
       "      <td>static int cdc_ncm_bind(struct usbnet *dev, st...</td>\n",
       "    </tr>\n",
       "    <tr>\n",
       "      <th>1348</th>\n",
       "      <td>CVE-2016-1621</td>\n",
       "      <td>using a specially crafted media file</td>\n",
       "      <td>static unsigned int subpel_variance_ref(const ...</td>\n",
       "      <td>static unsigned int subpel_variance_ref(const ...</td>\n",
       "    </tr>\n",
       "    <tr>\n",
       "      <th>1349</th>\n",
       "      <td>CVE-2016-10195</td>\n",
       "      <td>via vectors involving the label_len variable</td>\n",
       "      <td>name_parse(u8 *packet, int length, int *idx, c...</td>\n",
       "      <td>name_parse(u8 *packet, int length, int *idx, c...</td>\n",
       "    </tr>\n",
       "  </tbody>\n",
       "</table>\n",
       "<p>1350 rows × 4 columns</p>\n",
       "</div>"
      ],
      "text/plain": [
       "              CVE ID                                            explain  \\\n",
       "0      CVE-2017-3731        sending specially crafted truncated packets   \n",
       "1      CVE-2013-2867                           via a crafted web site .   \n",
       "2      CVE-2012-5131                              via unknown vectors .   \n",
       "3      CVE-2016-5842  persuading a victim to open a specially crafte...   \n",
       "4      CVE-2012-2875                           via a crafted document .   \n",
       "...              ...                                                ...   \n",
       "1345   CVE-2012-6657  by leveraging the ability to create a raw sock...   \n",
       "1346   CVE-2016-6787              using a specially-crafted application   \n",
       "1347   CVE-2016-3951  inserting a USB device with an invalid USB des...   \n",
       "1348   CVE-2016-1621               using a specially crafted media file   \n",
       "1349  CVE-2016-10195      via vectors involving the label_len variable    \n",
       "\n",
       "                                            func_before  \\\n",
       "0     static int aes_gcm_ctrl(EVP_CIPHER_CTX *c, int...   \n",
       "1     void BluetoothDeviceChromeOS::OnUnregisterAgen...   \n",
       "2      static void unregisterBlobURLTask(void* conte...   \n",
       "3     }static inline void WriteResourceLong(unsigned...   \n",
       "4      void PromoResourceService::PromoResourceState...   \n",
       "...                                                 ...   \n",
       "1345  int sock_setsockopt(struct socket *sock, int l...   \n",
       "1346  static void perf_event_for_each_child(struct p...   \n",
       "1347   static int cdc_ncm_bind(struct usbnet *dev, s...   \n",
       "1348  static unsigned int subpel_variance_ref(const ...   \n",
       "1349  name_parse(u8 *packet, int length, int *idx, c...   \n",
       "\n",
       "                                         processed_func  \n",
       "0     static int aes_gcm_ctrl(EVP_CIPHER_CTX *c, int...  \n",
       "1     void BluetoothDeviceChromeOS::OnUnregisterAgen...  \n",
       "2     static void unregisterBlobURLTask(void* contex...  \n",
       "3     }\\nstatic inline void WriteResourceLong(unsign...  \n",
       "4     void PromoResourceService::PromoResourceStateC...  \n",
       "...                                                 ...  \n",
       "1345  int sock_setsockopt(struct socket *sock, int l...  \n",
       "1346  static void perf_event_for_each_child(struct p...  \n",
       "1347  static int cdc_ncm_bind(struct usbnet *dev, st...  \n",
       "1348  static unsigned int subpel_variance_ref(const ...  \n",
       "1349  name_parse(u8 *packet, int length, int *idx, c...  \n",
       "\n",
       "[1350 rows x 4 columns]"
      ]
     },
     "execution_count": 25,
     "metadata": {},
     "output_type": "execute_result"
    }
   ],
   "source": [
    "attack_vector_test_df = attack_vector_test.to_pandas()\n",
    "attack_vector_test_df"
   ]
  },
  {
   "cell_type": "code",
   "execution_count": 26,
   "id": "44bf3639-1be9-41aa-a098-db60f0d14de9",
   "metadata": {},
   "outputs": [
    {
     "data": {
      "application/json": {
       "ascii": false,
       "bar_format": null,
       "colour": null,
       "elapsed": 0.008136510848999023,
       "initial": 0,
       "n": 0,
       "ncols": null,
       "nrows": 95,
       "postfix": null,
       "prefix": "ExtendTextDataset",
       "rate": null,
       "total": 1350,
       "unit": "it",
       "unit_divisor": 1000,
       "unit_scale": false
      },
      "application/vnd.jupyter.widget-view+json": {
       "model_id": "86c68fa0a8674fbf92f4d26bf3800343",
       "version_major": 2,
       "version_minor": 0
      },
      "text/plain": [
       "ExtendTextDataset:   0%|          | 0/1350 [00:00<?, ?it/s]"
      ]
     },
     "metadata": {},
     "output_type": "display_data"
    },
    {
     "name": "stderr",
     "output_type": "stream",
     "text": [
      "/home/hqn650/anaconda3/envs/vul-intext-reason/lib/python3.11/site-packages/torch/nn/parallel/_functions.py:68: UserWarning: Was asked to gather along dimension 0, but all input tensors were scalars; will instead unsqueeze and return a vector.\n",
      "  warnings.warn('Was asked to gather along dimension 0, but all '\n"
     ]
    }
   ],
   "source": [
    "result, explain_indices = find_tp(model, tokenizer, args, attack_vector_test_df)"
   ]
  },
  {
   "cell_type": "code",
   "execution_count": 27,
   "id": "d05f4020-ca05-4ea1-8855-602c4b712ee6",
   "metadata": {},
   "outputs": [
    {
     "data": {
      "text/plain": [
       "({'test_accuracy': 0.10444444444444445,\n",
       "  'test_recall': 0.10444444444444445,\n",
       "  'test_precision': 1.0,\n",
       "  'test_f1': 0.18913480885311873,\n",
       "  'test_threshold': 0.5},\n",
       " 141)"
      ]
     },
     "execution_count": 27,
     "metadata": {},
     "output_type": "execute_result"
    }
   ],
   "source": [
    "result, len(explain_indices)"
   ]
  },
  {
   "cell_type": "code",
   "execution_count": 28,
   "id": "1e01da5e-7a38-470a-aaa2-1182c8e2e644",
   "metadata": {},
   "outputs": [
    {
     "data": {
      "application/json": {
       "ascii": false,
       "bar_format": null,
       "colour": null,
       "elapsed": 0.002563953399658203,
       "initial": 0,
       "n": 0,
       "ncols": null,
       "nrows": 95,
       "postfix": null,
       "prefix": "ExtendTextDataset",
       "rate": null,
       "total": 1350,
       "unit": "it",
       "unit_divisor": 1000,
       "unit_scale": false
      },
      "application/vnd.jupyter.widget-view+json": {
       "model_id": "f035d9cc3e174fb183add2101d9d8284",
       "version_major": 2,
       "version_minor": 0
      },
      "text/plain": [
       "ExtendTextDataset:   0%|          | 0/1350 [00:00<?, ?it/s]"
      ]
     },
     "metadata": {},
     "output_type": "display_data"
    },
    {
     "data": {
      "application/json": {
       "ascii": false,
       "bar_format": null,
       "colour": null,
       "elapsed": 0.0023276805877685547,
       "initial": 0,
       "n": 0,
       "ncols": null,
       "nrows": 95,
       "postfix": null,
       "prefix": "",
       "rate": null,
       "total": 1350,
       "unit": "it",
       "unit_divisor": 1000,
       "unit_scale": false
      },
      "application/vnd.jupyter.widget-view+json": {
       "model_id": "a4f189ad459940659d45d85c09970b98",
       "version_major": 2,
       "version_minor": 0
      },
      "text/plain": [
       "  0%|          | 0/1350 [00:00<?, ?it/s]"
      ]
     },
     "metadata": {},
     "output_type": "display_data"
    }
   ],
   "source": [
    "# (sample_idx, lines, n_lines)\n",
    "extract_list_attack_vector = explain(model, tokenizer, explain_indices, attack_vector_test_df)"
   ]
  },
  {
   "cell_type": "code",
   "execution_count": 29,
   "id": "6eacfd77",
   "metadata": {},
   "outputs": [],
   "source": [
    "def extract_top(top_k, extracted_list):\n",
    "    \"\"\"\n",
    "        extracted_list -> [(index, lines, n_lines)], sorted\n",
    "    \"\"\"\n",
    "    result = []\n",
    "    for i in extracted_list:\n",
    "        index = i[0]\n",
    "        lines = i[1]\n",
    "        n_lines = i[2]\n",
    "        lines = lines[:max(3, int(top_k*n_lines))]  # get top k        \n",
    "        lines = '\\n'.join([i[1] for i in lines ])  # each item -> (line_idx, content, score)\n",
    "        result.append((index, lines))\n",
    "    return result"
   ]
  },
  {
   "cell_type": "code",
   "execution_count": 30,
   "id": "992dbf25",
   "metadata": {},
   "outputs": [
    {
     "data": {
      "text/plain": [
       "[(8,\n",
       "  'NOTREACHED()<<\"Unsupportedaudiobitdepthincrossfade.\";\\nDoCheckFakeData<uint8>(audio_data,length);\\nDoCheckFakeData<int16>(audio_data,length);'),\n",
       " (33,\n",
       "  ':algo(0),settings(NULL),settings_len(0){}\\nContentEncoding::ContentCompression::ContentCompression()'),\n",
       " (37,\n",
       "  '::libvpx_test::Encoder*encoder){\\ntimebase_=static_cast<double>(tb.num)/tb.den;\\nvirtualvoidPreEncodeFrameHook(::libvpx_test::VideoSource*video,')]"
      ]
     },
     "execution_count": 30,
     "metadata": {},
     "output_type": "execute_result"
    }
   ],
   "source": [
    "sub_infos = extract_top(0.1, extract_list_attack_vector)\n",
    "sub_infos[:3]"
   ]
  },
  {
   "cell_type": "code",
   "execution_count": 31,
   "id": "4c1ed4e8-0664-440a-8a82-647fdf17f024",
   "metadata": {},
   "outputs": [],
   "source": [
    "explain_features = []\n",
    "for i in sub_infos:\n",
    "    explain_features.append({\n",
    "        'func_before': i[1],  # just call func_before to fit input for aspect model\n",
    "        'explain': attack_vector_test_df.iloc[i[0]]['explain'],\n",
    "        'orginal_fun': attack_vector_test_df.iloc[i[0]]['func_before']\n",
    "    })\n",
    "explain_features_df = pd.DataFrame.from_records(explain_features)"
   ]
  },
  {
   "cell_type": "code",
   "execution_count": 32,
   "id": "ef16237d-67cc-4129-a33d-1af02545cc34",
   "metadata": {},
   "outputs": [],
   "source": [
    "explain_features_dataset = Dataset.from_pandas(explain_features_df)"
   ]
  },
  {
   "cell_type": "code",
   "execution_count": 33,
   "id": "46b65603-38d7-4038-9392-0b1855f00106",
   "metadata": {},
   "outputs": [],
   "source": [
    "from dataclasses import dataclass\n",
    "\n",
    "@dataclass\n",
    "class AspectArgs:\n",
    "    model_name = \"tf_board/attack_vector/\"\n",
    "    num_proc = 4\n",
    "    batch_size = 5\n",
    "    max_src_length = 1200\n",
    "    max_des_length = 146\n",
    "    data_cols = ['func_before', 'explain', 'orginal_fun']\n",
    "    save_dir = 'tf_board'\n",
    "    epochs = 100\n",
    "    grad_acc_steps = 4\n",
    "    lr = 5e-5\n",
    "    log_freq = 10\n",
    "    local_rank = -1\n",
    "    deepspeed = None\n",
    "    fp16 = False\n",
    "    lr_warmup_steps = 200\n",
    "    weight_decay = 0.05\n",
    "    task = \"attack_vector\"\n",
    "    \n",
    "aspect_args = AspectArgs()"
   ]
  },
  {
   "cell_type": "code",
   "execution_count": 34,
   "id": "ba1f1782-433f-4398-9b27-420d364de75c",
   "metadata": {},
   "outputs": [],
   "source": [
    "from transformers import AutoTokenizer\n",
    "codet5p_tokenizer = AutoTokenizer.from_pretrained(aspect_args.model_name)"
   ]
  },
  {
   "cell_type": "code",
   "execution_count": 35,
   "id": "7c103293-4f84-4cae-b523-97ad2f441203",
   "metadata": {},
   "outputs": [],
   "source": [
    "import torch\n",
    "from transformers import AutoModelForSeq2SeqLM\n",
    "\n",
    "device = torch.device(\"cuda\" if torch.cuda.is_available() else \"cpu\")\n",
    "\n",
    "explain_model = AutoModelForSeq2SeqLM.from_pretrained(aspect_args.model_name).to(device)"
   ]
  },
  {
   "cell_type": "code",
   "execution_count": 36,
   "id": "dc80485c-589c-475e-9586-59e45f89470f",
   "metadata": {},
   "outputs": [
    {
     "data": {
      "application/json": {
       "ascii": false,
       "bar_format": null,
       "colour": null,
       "elapsed": 0.006244182586669922,
       "initial": 0,
       "n": 0,
       "ncols": null,
       "nrows": 95,
       "postfix": null,
       "prefix": "Map (num_proc=4)",
       "rate": null,
       "total": 141,
       "unit": " examples",
       "unit_divisor": 1000,
       "unit_scale": false
      },
      "application/vnd.jupyter.widget-view+json": {
       "model_id": "",
       "version_major": 2,
       "version_minor": 0
      },
      "text/plain": [
       "Map (num_proc=4):   0%|          | 0/141 [00:00<?, ? examples/s]"
      ]
     },
     "metadata": {},
     "output_type": "display_data"
    },
    {
     "data": {
      "text/plain": [
       "Dataset({\n",
       "    features: ['input_ids', 'attention_mask', 'labels'],\n",
       "    num_rows: 141\n",
       "})"
      ]
     },
     "execution_count": 36,
     "metadata": {},
     "output_type": "execute_result"
    }
   ],
   "source": [
    "def preprocess_function(examples):\n",
    "    source = [' '.join(ex) for ex in examples[\"func_before\"]]\n",
    "    target = [' '.join(ex) for ex in examples[\"explain\"]]\n",
    "\n",
    "    input_feature = codet5p_tokenizer(source, max_length=aspect_args.max_src_length, padding=\"max_length\", truncation=True)\n",
    "    labels = codet5p_tokenizer(target, max_length=aspect_args.max_des_length, padding=\"max_length\", truncation=True)\n",
    "\n",
    "    lables = labels[\"input_ids\"].copy()\n",
    "\n",
    "    return {  \"input_ids\": input_feature[\"input_ids\"],\n",
    "              \"attention_mask\": input_feature[\"attention_mask\"],\n",
    "              \"labels\": lables}\n",
    "\n",
    "\n",
    "tokenized_ds = explain_features_dataset.map(\n",
    "  preprocess_function,\n",
    "  remove_columns=aspect_args.data_cols,\n",
    "  batched=True,\n",
    "  num_proc=aspect_args.num_proc,\n",
    "  batch_size=aspect_args.batch_size)\n",
    "\n",
    "tokenized_ds"
   ]
  },
  {
   "cell_type": "code",
   "execution_count": 37,
   "id": "d6c8ad74-7032-4237-9ca1-d1322fa2c3b9",
   "metadata": {},
   "outputs": [],
   "source": [
    "from transformers import DataCollatorForSeq2Seq\n",
    "\n",
    "data_collator = DataCollatorForSeq2Seq(\n",
    "  codet5p_tokenizer,\n",
    "  model=explain_model,\n",
    "  return_tensors=\"pt\")"
   ]
  },
  {
   "cell_type": "code",
   "execution_count": 38,
   "id": "b8c36fed-f19c-4d77-9ea1-b92bcd3376be",
   "metadata": {},
   "outputs": [],
   "source": [
    "sample_dataloader = DataLoader(\n",
    "  tokenized_ds.with_format(\"torch\"),\n",
    "  collate_fn=data_collator,\n",
    "  batch_size=30,\n",
    "  num_workers=aspect_args.num_proc)\n",
    "\n",
    "rouge_list = []\n",
    "gens = []\n",
    "references = []\n",
    "\n",
    "for batch in sample_dataloader:\n",
    "    with torch.no_grad():\n",
    "        preds = explain_model.generate(\n",
    "          batch[\"input_ids\"].to(device),\n",
    "          max_length=aspect_args.max_des_length,\n",
    "        ).cpu()\n",
    "        labels = batch[\"labels\"].cpu()\n",
    "        gens += preds\n",
    "        references += labels"
   ]
  },
  {
   "cell_type": "code",
   "execution_count": 39,
   "id": "a966d0d4-ef85-4fae-a38d-a3889df77b41",
   "metadata": {},
   "outputs": [],
   "source": [
    "from commons import clean_generated_str"
   ]
  },
  {
   "cell_type": "code",
   "execution_count": 40,
   "id": "421a250b-0738-47de-93ac-4629e4bc269f",
   "metadata": {},
   "outputs": [],
   "source": [
    "gens = codet5p_tokenizer.batch_decode(gens, skip_special_tokens=True)\n",
    "references = codet5p_tokenizer.batch_decode(references, skip_special_tokens=True)\n",
    "\n",
    "gens = [clean_generated_str(i) for i in gens]\n",
    "references = [clean_generated_str(i) for i in references]"
   ]
  },
  {
   "cell_type": "code",
   "execution_count": 41,
   "id": "233814db-1409-4855-bd0f-be7938b82a25",
   "metadata": {},
   "outputs": [
    {
     "name": "stderr",
     "output_type": "stream",
     "text": [
      "Using the latest cached version of the module from /data/quy/cache/modules/evaluate_modules/metrics/evaluate-metric--rouge/b01e0accf3bd6dd24839b769a5fda24e14995071570870922c71970b3a6ed886 (last modified on Sun Jul  9 23:52:56 2023) since it couldn't be found locally at evaluate-metric--rouge, or remotely on the Hugging Face Hub.\n"
     ]
    },
    {
     "data": {
      "text/plain": [
       "{'rouge1': 0.6200276591321869,\n",
       " 'rouge2': 0.5545693563841247,\n",
       " 'rougeL': 0.6172360677086981,\n",
       " 'rougeLsum': 0.6176597302577147}"
      ]
     },
     "execution_count": 41,
     "metadata": {},
     "output_type": "execute_result"
    }
   ],
   "source": [
    "import evaluate\n",
    "\n",
    "rouge_metric = evaluate.load(\"rouge\")\n",
    "\n",
    "results = rouge_metric.compute(predictions=gens, references=references)\n",
    "results"
   ]
  },
  {
   "cell_type": "code",
   "execution_count": 42,
   "id": "20e33b74-d0b2-44c6-86e1-f077b2b3bc04",
   "metadata": {},
   "outputs": [
    {
     "data": {
      "text/plain": [
       "'via a blob .'"
      ]
     },
     "execution_count": 42,
     "metadata": {},
     "output_type": "execute_result"
    }
   ],
   "source": [
    "references[10]"
   ]
  },
  {
   "cell_type": "code",
   "execution_count": 43,
   "id": "383418c5-93d1-4b67-b1b9-8d7792731d07",
   "metadata": {},
   "outputs": [
    {
     "data": {
      "text/plain": [
       "'via a crafted application that sends a signal to a Bluetooth process'"
      ]
     },
     "execution_count": 43,
     "metadata": {},
     "output_type": "execute_result"
    }
   ],
   "source": [
    "gens[10]"
   ]
  },
  {
   "cell_type": "code",
   "execution_count": null,
   "id": "6be6e0e2-2028-4910-9649-71db8b2b4070",
   "metadata": {},
   "outputs": [],
   "source": []
  }
 ],
 "metadata": {
  "kernelspec": {
   "display_name": "Python 3 (ipykernel)",
   "language": "python",
   "name": "python3"
  },
  "language_info": {
   "codemirror_mode": {
    "name": "ipython",
    "version": 3
   },
   "file_extension": ".py",
   "mimetype": "text/x-python",
   "name": "python",
   "nbconvert_exporter": "python",
   "pygments_lexer": "ipython3",
   "version": "3.11.3"
  }
 },
 "nbformat": 4,
 "nbformat_minor": 5
}
