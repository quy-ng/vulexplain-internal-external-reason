{
 "cells": [
  {
   "cell_type": "code",
   "execution_count": 1,
   "id": "cf85888c-a910-44ac-b11d-dd9296ffdbc3",
   "metadata": {},
   "outputs": [],
   "source": [
    "import torch\n",
    "from transformers import AutoModelForSeq2SeqLM\n",
    "\n",
    "model_path = \"tf_board/impact/\"\n",
    "\n",
    "device = torch.device(\"cuda\" if torch.cuda.is_available() else \"cpu\")\n",
    "\n",
    "model = AutoModelForSeq2SeqLM.from_pretrained(model_path).to(device)"
   ]
  },
  {
   "cell_type": "code",
   "execution_count": 8,
   "id": "5ff16c3d-4492-41ec-9210-b9c86f8003f0",
   "metadata": {},
   "outputs": [],
   "source": [
    "def clean_generated_str(input):\n",
    "    return  ' '.join([i.replace(\" \", \"\") for i in input.split('  ') if i != ''])"
   ]
  },
  {
   "cell_type": "code",
   "execution_count": 2,
   "id": "abe13f87-3afd-425f-8e4f-cf9bdb86be62",
   "metadata": {},
   "outputs": [],
   "source": [
    "from transformers import AutoTokenizer\n",
    "tokenizer = AutoTokenizer.from_pretrained(model_path)"
   ]
  },
  {
   "cell_type": "code",
   "execution_count": 45,
   "id": "2b1efbf6-189d-4178-b91c-0e323ebf78b6",
   "metadata": {},
   "outputs": [],
   "source": [
    "vul_code = \"\"\"\n",
    "void host_lookup(char *user_supplied_addr){\n",
    "struct hostent *hp;\n",
    "in_addr_t *addr;\n",
    "char hostname[64];\n",
    "in_addr_t inet_addr(const char *cp);\n",
    "\n",
    "/*routine that ensures user_supplied_addr is in the right format for conversion */ \n",
    "\n",
    "validate_addr_form(user_supplied_addr);\n",
    "addr = inet_addr(user_supplied_addr);\n",
    "hp = gethostbyaddr( addr, sizeof(struct in_addr), AF_INET);\n",
    "strcpy(hostname, hp->h_name);\n",
    "}\n",
    "\"\"\""
   ]
  },
  {
   "cell_type": "code",
   "execution_count": 46,
   "id": "ba4036ab-d10a-45a2-9e28-43d673fe4944",
   "metadata": {},
   "outputs": [],
   "source": [
    "vul_code_vec = tokenizer(vul_code, return_tensors=\"pt\").to(device)"
   ]
  },
  {
   "cell_type": "code",
   "execution_count": 47,
   "id": "08d15d12-20ea-488e-ab72-3a7296903587",
   "metadata": {},
   "outputs": [],
   "source": [
    "output = model.generate(**vul_code_vec, max_length=153)"
   ]
  },
  {
   "cell_type": "code",
   "execution_count": 48,
   "id": "f41093bf-7704-438f-86a7-4c4e9f0ad110",
   "metadata": {},
   "outputs": [],
   "source": [
    "explain = tokenizer.decode(output[0], skip_special_tokens=True)"
   ]
  },
  {
   "cell_type": "code",
   "execution_count": 49,
   "id": "7c9b29e7-86cd-4911-b776-e2c6c93a39cb",
   "metadata": {},
   "outputs": [
    {
     "data": {
      "text/plain": [
       "'cause a denial of service (out-of-bounds read )'"
      ]
     },
     "execution_count": 49,
     "metadata": {},
     "output_type": "execute_result"
    }
   ],
   "source": [
    "clean_generated_str(explain)"
   ]
  },
  {
   "cell_type": "code",
   "execution_count": 50,
   "id": "015cfef5-ceb8-4b29-8bf1-76ab5a33c318",
   "metadata": {},
   "outputs": [],
   "source": [
    "sub_graph_code = \"\"\"\n",
    "strcpy(hostname, hp->h_name);\n",
    "\"\"\""
   ]
  },
  {
   "cell_type": "code",
   "execution_count": 51,
   "id": "224d01a6-685c-4046-9791-3b2aa4733da9",
   "metadata": {},
   "outputs": [],
   "source": [
    "sub_code_vec = tokenizer(sub_graph_code, return_tensors=\"pt\").to(device)\n",
    "sub_output = model.generate(**sub_code_vec, max_length=153)\n",
    "sub_explain = tokenizer.decode(sub_output[0], skip_special_tokens=True)"
   ]
  },
  {
   "cell_type": "code",
   "execution_count": 52,
   "id": "215cd290-2f58-4e1a-a1ac-b35742bad9ed",
   "metadata": {},
   "outputs": [
    {
     "data": {
      "text/plain": [
       "'cause a denial of service (out-of-bounds read and application crash )'"
      ]
     },
     "execution_count": 52,
     "metadata": {},
     "output_type": "execute_result"
    }
   ],
   "source": [
    "clean_generated_str(sub_explain)"
   ]
  },
  {
   "cell_type": "code",
   "execution_count": 53,
   "id": "eb24dc2e-db41-4884-8bc7-7643656a9b6e",
   "metadata": {},
   "outputs": [],
   "source": [
    "not_relevant_graph_code = \"\"\"\n",
    "struct hostent *hp;\n",
    "in_addr_t *addr;\n",
    "char hostname[64];\n",
    "\"\"\""
   ]
  },
  {
   "cell_type": "code",
   "execution_count": 54,
   "id": "8d929fea-bafd-4114-b466-d3129d8cefe8",
   "metadata": {},
   "outputs": [],
   "source": [
    "not_relevant_code_vec = tokenizer(not_relevant_graph_code, return_tensors=\"pt\").to(device)\n",
    "not_relevant_output = model.generate(**not_relevant_code_vec, max_length=153)\n",
    "not_relevant_explain = tokenizer.decode(not_relevant_output[0], skip_special_tokens=True)"
   ]
  },
  {
   "cell_type": "code",
   "execution_count": 55,
   "id": "9e61aaa6-0fe9-446c-ad2c-5b0a41f72e59",
   "metadata": {},
   "outputs": [
    {
     "data": {
      "text/plain": [
       "'execute arbitrary code or cause a denial of service (memory corruption )'"
      ]
     },
     "execution_count": 55,
     "metadata": {},
     "output_type": "execute_result"
    }
   ],
   "source": [
    "clean_generated_str(not_relevant_explain)"
   ]
  },
  {
   "cell_type": "code",
   "execution_count": null,
   "id": "c762f313-4a9f-4e2d-b119-f91fe4e171c0",
   "metadata": {},
   "outputs": [],
   "source": []
  }
 ],
 "metadata": {
  "kernelspec": {
   "display_name": "Python 3 (ipykernel)",
   "language": "python",
   "name": "python3"
  },
  "language_info": {
   "codemirror_mode": {
    "name": "ipython",
    "version": 3
   },
   "file_extension": ".py",
   "mimetype": "text/x-python",
   "name": "python",
   "nbconvert_exporter": "python",
   "pygments_lexer": "ipython3",
   "version": "3.11.4"
  }
 },
 "nbformat": 4,
 "nbformat_minor": 5
}
