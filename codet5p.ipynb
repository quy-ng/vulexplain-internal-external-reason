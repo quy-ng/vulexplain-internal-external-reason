{
 "cells": [
  {
   "cell_type": "code",
   "execution_count": null,
   "id": "4307d0d4-7e6a-4d0d-94ca-f52bfe115d13",
   "metadata": {},
   "outputs": [
    {
     "name": "stderr",
     "output_type": "stream",
     "text": [
      "Downloading (…)model.bin.index.json: 100%|████████████████████████████████████████████████████████████████████████████████████| 39.8k/39.8k [00:00<00:00, 30.4MB/s]\n",
      "Downloading shards:   0%|                                                                                                                    | 0/5 [00:00<?, ?it/s]\n",
      "Downloading (…)l-00001-of-00005.bin:   0%|                                                                                             | 0.00/8.00G [00:00<?, ?B/s]\u001b[A\n",
      "Downloading (…)l-00001-of-00005.bin:   0%|                                                                                    | 10.5M/8.00G [00:01<22:47, 5.84MB/s]\u001b[A\n",
      "Downloading (…)l-00001-of-00005.bin:   0%|▏                                                                                   | 21.0M/8.00G [00:02<12:31, 10.6MB/s]\u001b[A\n",
      "Downloading (…)l-00001-of-00005.bin:   0%|▎                                                                                   | 31.5M/8.00G [00:02<10:14, 13.0MB/s]\u001b[A\n",
      "Downloading (…)l-00001-of-00005.bin:   1%|▍                                                                                   | 41.9M/8.00G [00:03<09:03, 14.6MB/s]\u001b[A\n",
      "Downloading (…)l-00001-of-00005.bin:   1%|▌                                                                                   | 52.4M/8.00G [00:03<07:42, 17.2MB/s]\u001b[A\n",
      "Downloading (…)l-00001-of-00005.bin:   1%|▋                                                                                   | 62.9M/8.00G [00:04<07:37, 17.4MB/s]\u001b[A\n",
      "Downloading (…)l-00001-of-00005.bin:   1%|▊                                                                                   | 73.4M/8.00G [00:04<06:51, 19.2MB/s]\u001b[A\n",
      "Downloading (…)l-00001-of-00005.bin:   1%|▉                                                                                   | 83.9M/8.00G [00:05<07:01, 18.8MB/s]\u001b[A\n",
      "Downloading (…)l-00001-of-00005.bin:   1%|▉                                                                                   | 94.4M/8.00G [00:06<07:09, 18.4MB/s]\u001b[A\n",
      "Downloading (…)l-00001-of-00005.bin:   1%|█                                                                                    | 105M/8.00G [00:06<07:13, 18.2MB/s]\u001b[A\n",
      "Downloading (…)l-00001-of-00005.bin:   1%|█▏                                                                                   | 115M/8.00G [00:07<06:37, 19.8MB/s]\u001b[A\n",
      "Downloading (…)l-00001-of-00005.bin:   2%|█▎                                                                                   | 126M/8.00G [00:07<06:50, 19.2MB/s]\u001b[A\n",
      "Downloading (…)l-00001-of-00005.bin:   2%|█▍                                                                                   | 136M/8.00G [00:08<07:01, 18.7MB/s]\u001b[A\n",
      "Downloading (…)l-00001-of-00005.bin:   2%|█▌                                                                                   | 147M/8.00G [00:08<06:29, 20.1MB/s]\u001b[A\n",
      "Downloading (…)l-00001-of-00005.bin:   2%|█▋                                                                                   | 157M/8.00G [00:09<06:45, 19.3MB/s]\u001b[A\n",
      "Downloading (…)l-00001-of-00005.bin:   2%|█▊                                                                                   | 168M/8.00G [00:09<07:01, 18.6MB/s]\u001b[A\n",
      "Downloading (…)l-00001-of-00005.bin:   2%|█▉                                                                                   | 178M/8.00G [00:10<06:24, 20.4MB/s]\u001b[A\n",
      "Downloading (…)l-00001-of-00005.bin:   2%|██                                                                                   | 189M/8.00G [00:10<06:38, 19.6MB/s]\u001b[A\n",
      "Downloading (…)l-00001-of-00005.bin:   2%|██                                                                                   | 199M/8.00G [00:11<06:50, 19.0MB/s]\u001b[A\n",
      "Downloading (…)l-00001-of-00005.bin:   3%|██▏                                                                                  | 210M/8.00G [00:11<06:21, 20.4MB/s]\u001b[A\n",
      "Downloading (…)l-00001-of-00005.bin:   3%|██▎                                                                                  | 220M/8.00G [00:12<06:36, 19.6MB/s]\u001b[A\n",
      "Downloading (…)l-00001-of-00005.bin:   3%|██▍                                                                                  | 231M/8.00G [00:13<06:47, 19.0MB/s]\u001b[A\n",
      "Downloading (…)l-00001-of-00005.bin:   3%|██▌                                                                                  | 241M/8.00G [00:13<06:20, 20.4MB/s]\u001b[A\n",
      "Downloading (…)l-00001-of-00005.bin:   3%|██▋                                                                                  | 252M/8.00G [00:14<06:38, 19.5MB/s]\u001b[A\n",
      "Downloading (…)l-00001-of-00005.bin:   3%|██▊                                                                                  | 262M/8.00G [00:14<06:45, 19.1MB/s]\u001b[A\n",
      "Downloading (…)l-00001-of-00005.bin:   3%|██▉                                                                                  | 273M/8.00G [00:15<06:19, 20.4MB/s]\u001b[A\n",
      "Downloading (…)l-00001-of-00005.bin:   4%|███                                                                                  | 283M/8.00G [00:15<06:35, 19.5MB/s]\u001b[A\n",
      "Downloading (…)l-00001-of-00005.bin:   4%|███                                                                                  | 294M/8.00G [00:16<06:46, 19.0MB/s]\u001b[A\n",
      "Downloading (…)l-00001-of-00005.bin:   4%|███▏                                                                                 | 304M/8.00G [00:16<06:17, 20.4MB/s]\u001b[A"
     ]
    }
   ],
   "source": [
    "import torch\n",
    "from transformers import AutoModelForSeq2SeqLM, AutoTokenizer\n",
    "\n",
    "checkpoint = \"Salesforce/codet5p-16b\"\n",
    "device = \"cuda\" # for GPU usage or \"cpu\" for CPU usage\n",
    "\n",
    "tokenizer = AutoTokenizer.from_pretrained(checkpoint)\n",
    "model = AutoModelForSeq2SeqLM.from_pretrained(checkpoint,\n",
    "                                              torch_dtype=torch.float16,\n",
    "                                              low_cpu_mem_usage=True,\n",
    "                                              trust_remote_code=True).to(device)\n",
    "\n",
    "encoding = tokenizer(\"def print_hello_world():\", return_tensors=\"pt\").to(device)\n",
    "encoding['decoder_input_ids'] = encoding['input_ids'].clone()\n",
    "outputs = model.generate(**encoding, max_length=15)\n",
    "print(tokenizer.decode(outputs[0], skip_special_tokens=True))\n"
   ]
  },
  {
   "cell_type": "code",
   "execution_count": 3,
   "id": "719db7a8-0670-474f-ab6c-ec102004a97e",
   "metadata": {},
   "outputs": [
    {
     "name": "stdout",
     "output_type": "stream",
     "text": [
      "Collecting accelerate\n",
      "  Downloading accelerate-0.19.0-py3-none-any.whl (219 kB)\n",
      "\u001b[2K     \u001b[38;2;114;156;31m━━━━━━━━━━━━━━━━━━━━━━━━━━━━━━━━━━━━━━\u001b[0m \u001b[32m219.1/219.1 kB\u001b[0m \u001b[31m11.2 MB/s\u001b[0m eta \u001b[36m0:00:00\u001b[0m\n",
      "\u001b[?25hRequirement already satisfied: numpy>=1.17 in /Users/bryan/miniconda3/envs/vul-intext-reason/lib/python3.11/site-packages (from accelerate) (1.24.3)\n",
      "Requirement already satisfied: packaging>=20.0 in /Users/bryan/miniconda3/envs/vul-intext-reason/lib/python3.11/site-packages (from accelerate) (23.1)\n",
      "Requirement already satisfied: psutil in /Users/bryan/miniconda3/envs/vul-intext-reason/lib/python3.11/site-packages (from accelerate) (5.9.5)\n",
      "Requirement already satisfied: pyyaml in /Users/bryan/miniconda3/envs/vul-intext-reason/lib/python3.11/site-packages (from accelerate) (6.0)\n",
      "Requirement already satisfied: torch>=1.6.0 in /Users/bryan/miniconda3/envs/vul-intext-reason/lib/python3.11/site-packages (from accelerate) (2.0.1)\n",
      "Requirement already satisfied: filelock in /Users/bryan/miniconda3/envs/vul-intext-reason/lib/python3.11/site-packages (from torch>=1.6.0->accelerate) (3.12.0)\n",
      "Requirement already satisfied: typing-extensions in /Users/bryan/miniconda3/envs/vul-intext-reason/lib/python3.11/site-packages (from torch>=1.6.0->accelerate) (4.6.3)\n",
      "Requirement already satisfied: sympy in /Users/bryan/miniconda3/envs/vul-intext-reason/lib/python3.11/site-packages (from torch>=1.6.0->accelerate) (1.12)\n",
      "Requirement already satisfied: networkx in /Users/bryan/miniconda3/envs/vul-intext-reason/lib/python3.11/site-packages (from torch>=1.6.0->accelerate) (3.1)\n",
      "Requirement already satisfied: jinja2 in /Users/bryan/miniconda3/envs/vul-intext-reason/lib/python3.11/site-packages (from torch>=1.6.0->accelerate) (3.1.2)\n",
      "Requirement already satisfied: MarkupSafe>=2.0 in /Users/bryan/miniconda3/envs/vul-intext-reason/lib/python3.11/site-packages (from jinja2->torch>=1.6.0->accelerate) (2.1.3)\n",
      "Requirement already satisfied: mpmath>=0.19 in /Users/bryan/miniconda3/envs/vul-intext-reason/lib/python3.11/site-packages (from sympy->torch>=1.6.0->accelerate) (1.3.0)\n",
      "Installing collected packages: accelerate\n",
      "Successfully installed accelerate-0.19.0\n"
     ]
    }
   ],
   "source": [
    "!pip install accelerate"
   ]
  },
  {
   "cell_type": "code",
   "execution_count": null,
   "id": "2e349298-6145-477e-9dd2-c5fdf44d5b7a",
   "metadata": {},
   "outputs": [],
   "source": []
  }
 ],
 "metadata": {
  "kernelspec": {
   "display_name": "Python 3 (ipykernel)",
   "language": "python",
   "name": "python3"
  },
  "language_info": {
   "codemirror_mode": {
    "name": "ipython",
    "version": 3
   },
   "file_extension": ".py",
   "mimetype": "text/x-python",
   "name": "python",
   "nbconvert_exporter": "python",
   "pygments_lexer": "ipython3",
   "version": "3.11.3"
  }
 },
 "nbformat": 4,
 "nbformat_minor": 5
}
