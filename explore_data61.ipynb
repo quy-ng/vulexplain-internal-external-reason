{
 "cells": [
  {
   "cell_type": "code",
   "execution_count": 6,
   "id": "699993de-6d42-4009-8797-af58953b2454",
   "metadata": {},
   "outputs": [],
   "source": [
    "import pickle\n",
    "import pandas as pd\n",
    "import matplotlib as plt\n",
    "import pyarrow.parquet as pq\n",
    "import pyarrow as pa\n",
    "import numpy as np"
   ]
  },
  {
   "cell_type": "code",
   "execution_count": 7,
   "id": "d139c7b5-310a-4e11-94cc-fded6d1a6ed4",
   "metadata": {},
   "outputs": [],
   "source": [
    "with open('data/data61/data/mix_element_dict3_clean.pkl', 'rb') as file_r:\n",
    "    mix_element_dict3_clean = pickle.load(file_r)"
   ]
  },
  {
   "cell_type": "code",
   "execution_count": 8,
   "id": "2e7ed5b7-5480-415a-bd40-a3e9a4e7e55e",
   "metadata": {},
   "outputs": [],
   "source": [
    "with open('data/data61/data/commit_message_dict_full_cwe_code_mix_nvd_synk_full2.pkl', 'rb') as file_r:\n",
    "    commit_message_dict_full_cwe_code_mix_nvd_synk_full2 = pickle.load(file_r)"
   ]
  },
  {
   "cell_type": "code",
   "execution_count": 9,
   "id": "2ab28d86-0a2d-4820-932e-e466a23d0885",
   "metadata": {},
   "outputs": [],
   "source": [
    "list_hashs = list(commit_message_dict_full_cwe_code_mix_nvd_synk_full2.keys())"
   ]
  },
  {
   "cell_type": "code",
   "execution_count": 10,
   "id": "06926110-454b-4078-be9e-237635d58187",
   "metadata": {},
   "outputs": [
    {
     "data": {
      "text/plain": [
       "['efe91f68ebf8a9e3d21491dc57da7b8a746415d8',\n",
       " '3d4f44ecfe8be4ca38920556ba3b90502ffb4fee',\n",
       " 'e9bce264719f88c30e252ecc754d08f422f4c080',\n",
       " '96d410a6580e4e81d24d112a0855c70ca3fb5b49',\n",
       " '78dce1cf1ec36bbe7fe6767bdb81f7cbf6d34d70']"
      ]
     },
     "execution_count": 10,
     "metadata": {},
     "output_type": "execute_result"
    }
   ],
   "source": [
    "list_hashs[0:5]"
   ]
  },
  {
   "cell_type": "code",
   "execution_count": 11,
   "id": "abeaaa6b-8125-4bd0-a959-89ba0c0e3dd2",
   "metadata": {},
   "outputs": [
    {
     "data": {
      "text/plain": [
       "10903"
      ]
     },
     "execution_count": 11,
     "metadata": {},
     "output_type": "execute_result"
    }
   ],
   "source": [
    "len(list_hashs)"
   ]
  },
  {
   "cell_type": "code",
   "execution_count": 12,
   "id": "291dafe3-27d3-4923-be4d-98af56ea7522",
   "metadata": {},
   "outputs": [],
   "source": [
    "sample = commit_message_dict_full_cwe_code_mix_nvd_synk_full2[list_hashs[0]]"
   ]
  },
  {
   "cell_type": "code",
   "execution_count": 13,
   "id": "f8a6c309-974d-45ae-9a62-e1ae25366ebe",
   "metadata": {},
   "outputs": [
    {
     "data": {
      "text/plain": [
       "{'cve': 'CVE-2022-23652',\n",
       " 'desc': 'bug: cve exploiting malicious connection header',\n",
       " 'code': ' @@ -11,6 +11,7 @@ require (\\n \\tgithub.com/pkg/errors v0.9.1\\n \\tgithub.com/spf13/pflag v1.0.5\\n \\tgo.uber.org/zap v1.18.1\\n+\\tgolang.org/x/net v0.0.0-20210520170846-37e1c6afe023\\n \\tk8s.io/api v0.22.0\\n \\tk8s.io/apimachinery v0.22.1\\n \\tk8s.io/apiserver v0.22.0 @@ -10,6 +10,7 @@ import (\\n \\t\"fmt\"\\n \\t\"net/http\"\\n \\t\"net/http/httputil\"\\n+\\t\"net/textproto\"\\n \\t\"strings\"\\n \\t\"time\"\\n \\n@@ -18,6 +19,7 @@ import (\\n \\t\"github.com/gorilla/handlers\"\\n \\t\"github.com/gorilla/mux\"\\n \\t\"github.com/pkg/errors\"\\n+\\t\"golang.org/x/net/http/httpguts\"\\n \\t\"k8s.io/apimachinery/pkg/labels\"\\n \\t\"k8s.io/apimachinery/pkg/util/sets\"\\n \\t\"k8s.io/apiserver/pkg/authentication/serviceaccount\"\\n@@ -178,6 +180,9 @@ func (n kubeFilter) impersonateHandler(writer http.ResponseWriter, request *http\\n \\tif len(n.bearerToken) > 0 {\\n \\t\\trequest.Header.Set(\"Authorization\", fmt.Sprintf(\"Bearer %s\", n.bearerToken))\\n \\t}\\n+\\t// Dropping malicious header connection\\n+\\t// https://github.com/clastix/capsule-proxy/issues/188\\n+\\tn.removingHopByHopHeaders(request)\\n \\n \\trequest.Header.Add(\"Impersonate-User\", username)\\n \\n@@ -355,3 +360,28 @@ func (n kubeFilter) getProxyTenantsForOwnerKind(ownerKind capsulev1beta1.OwnerKi\\n \\n \\treturn\\n }\\n+\\n+func (n *kubeFilter) removingHopByHopHeaders(request *http.Request) {\\n+\\tconnectionHeaderName, upgradeHeaderName, requestUpgradeType := \"connection\", \"upgrade\", \"\"\\n+\\n+\\tif httpguts.HeaderValuesContainsToken(request.Header[connectionHeaderName], upgradeHeaderName) {\\n+\\t\\trequestUpgradeType = request.Header.Get(upgradeHeaderName)\\n+\\t}\\n+\\t// Removing connection headers\\n+\\tfor _, f := range request.Header.Values(connectionHeaderName) {\\n+\\t\\tfor _, sf := range strings.Split(f, \",\") {\\n+\\t\\t\\tif sf = textproto.TrimString(sf); sf != \"\" {\\n+\\t\\t\\t\\trequest.Header.Del(sf)\\n+\\t\\t\\t}\\n+\\t\\t}\\n+\\t}\\n+\\n+\\tif requestUpgradeType != \"\" {\\n+\\t\\trequest.Header.Set(connectionHeaderName, upgradeHeaderName)\\n+\\t\\trequest.Header.Set(upgradeHeaderName, requestUpgradeType)\\n+\\n+\\t\\treturn\\n+\\t}\\n+\\n+\\trequest.Header.Del(connectionHeaderName)\\n+}',\n",
       " 'repo': 'clastix/capsule-proxy'}"
      ]
     },
     "execution_count": 13,
     "metadata": {},
     "output_type": "execute_result"
    }
   ],
   "source": [
    "sample"
   ]
  },
  {
   "cell_type": "code",
   "execution_count": 14,
   "id": "524121a4-11d7-4e32-b245-0bc6bb1fa33b",
   "metadata": {},
   "outputs": [],
   "source": [
    "cve_list = list(mix_element_dict3_clean.keys())"
   ]
  },
  {
   "cell_type": "code",
   "execution_count": 15,
   "id": "ee570378-21ec-45a8-9256-d4a7f8cd350a",
   "metadata": {},
   "outputs": [
    {
     "data": {
      "text/plain": [
       "['CVE-2020-9993',\n",
       " 'CVE-2020-9994',\n",
       " 'CVE-2020-9996',\n",
       " 'CVE-2020-9997',\n",
       " 'CVE-2020-9999']"
      ]
     },
     "execution_count": 15,
     "metadata": {},
     "output_type": "execute_result"
    }
   ],
   "source": [
    "cve_list[-5:]"
   ]
  },
  {
   "cell_type": "code",
   "execution_count": 16,
   "id": "5705f21f-c482-4c39-b48d-f701c96ef7c2",
   "metadata": {},
   "outputs": [
    {
     "data": {
      "text/plain": [
       "['memory corruption',\n",
       " '',\n",
       " 'persuading a victim to open a specially crafted file',\n",
       " 'execute arbitrary code on the system']"
      ]
     },
     "execution_count": 16,
     "metadata": {},
     "output_type": "execute_result"
    }
   ],
   "source": [
    "mix_element_dict3_clean[cve_list[-1]]"
   ]
  },
  {
   "cell_type": "code",
   "execution_count": 17,
   "id": "4538f52b-671e-46c1-b705-f2e27a18ae7f",
   "metadata": {},
   "outputs": [
    {
     "data": {
      "text/plain": [
       "'CVE-2020-9999'"
      ]
     },
     "execution_count": 17,
     "metadata": {},
     "output_type": "execute_result"
    }
   ],
   "source": [
    "cve_list[-1]"
   ]
  },
  {
   "cell_type": "code",
   "execution_count": 18,
   "id": "728aa708-24fc-43ac-9b8d-8f9c35b31a05",
   "metadata": {},
   "outputs": [
    {
     "data": {
      "text/plain": [
       "False"
      ]
     },
     "execution_count": 18,
     "metadata": {},
     "output_type": "execute_result"
    }
   ],
   "source": [
    "'CVE-2022-23652' in cve_list"
   ]
  },
  {
   "cell_type": "code",
   "execution_count": 19,
   "id": "e4e555bb-a537-42af-84fb-79b6ccbd42d4",
   "metadata": {},
   "outputs": [
    {
     "data": {
      "text/plain": [
       "True"
      ]
     },
     "execution_count": 19,
     "metadata": {},
     "output_type": "execute_result"
    }
   ],
   "source": [
    "# check if BigVul record is in Data61\n",
    "\n",
    "'CVE-2008-1950' in cve_list"
   ]
  },
  {
   "cell_type": "code",
   "execution_count": 20,
   "id": "fc22d11e-1b9c-4c8f-b806-2454607b527e",
   "metadata": {},
   "outputs": [
    {
     "data": {
      "text/plain": [
       "['remote code execution',\n",
       " 'control the contents and name of a file on the server',\n",
       " 'via deserialization of the file under their control .',\n",
       " 'execute arbitrary code on the system']"
      ]
     },
     "execution_count": 20,
     "metadata": {},
     "output_type": "execute_result"
    }
   ],
   "source": [
    "mix_element_dict3_clean['CVE-2020-9484']"
   ]
  },
  {
   "cell_type": "code",
   "execution_count": 21,
   "id": "2c257352-79c4-4f5c-b7be-f780ad982888",
   "metadata": {},
   "outputs": [],
   "source": [
    "df_factors = pd.DataFrame.from_dict(mix_element_dict3_clean)"
   ]
  },
  {
   "cell_type": "code",
   "execution_count": 22,
   "id": "9d5db169-6dc7-43e1-8349-6e0a59bcf1ac",
   "metadata": {},
   "outputs": [],
   "source": [
    "df_factors = df_factors.T"
   ]
  },
  {
   "cell_type": "code",
   "execution_count": 23,
   "id": "d53ad222-2b34-4838-a441-2871be25a79b",
   "metadata": {},
   "outputs": [],
   "source": [
    "df_factors.columns = ['vulnerability_type', 'root_cause', 'attack_vector', 'impact']"
   ]
  },
  {
   "cell_type": "code",
   "execution_count": 24,
   "id": "5d01b4aa-434e-4034-a97d-fa7aaf1f45ce",
   "metadata": {},
   "outputs": [],
   "source": [
    "df_factors.replace('', np.nan, inplace=True)"
   ]
  },
  {
   "cell_type": "code",
   "execution_count": 25,
   "id": "c0d65636-5149-4072-8c64-bb91e7ce14f2",
   "metadata": {},
   "outputs": [
    {
     "data": {
      "text/html": [
       "<div>\n",
       "<style scoped>\n",
       "    .dataframe tbody tr th:only-of-type {\n",
       "        vertical-align: middle;\n",
       "    }\n",
       "\n",
       "    .dataframe tbody tr th {\n",
       "        vertical-align: top;\n",
       "    }\n",
       "\n",
       "    .dataframe thead th {\n",
       "        text-align: right;\n",
       "    }\n",
       "</style>\n",
       "<table border=\"1\" class=\"dataframe\">\n",
       "  <thead>\n",
       "    <tr style=\"text-align: right;\">\n",
       "      <th></th>\n",
       "      <th>vulnerability_type</th>\n",
       "      <th>root_cause</th>\n",
       "      <th>attack_vector</th>\n",
       "      <th>impact</th>\n",
       "    </tr>\n",
       "  </thead>\n",
       "  <tbody>\n",
       "    <tr>\n",
       "      <th>CVE-1999-0003</th>\n",
       "      <td>tooltalk rpc service overflow</td>\n",
       "      <td>improper bounds checking</td>\n",
       "      <td>exchanging ToolTalk messages Using ToolTalk ap...</td>\n",
       "      <td>force a transfer of control into arbitrary ins...</td>\n",
       "    </tr>\n",
       "    <tr>\n",
       "      <th>CVE-1999-0004</th>\n",
       "      <td>mime buffer overflow</td>\n",
       "      <td>a buffer overflow in the handling of certain h...</td>\n",
       "      <td>an attacker can overflow a buffer and crash a...</td>\n",
       "      <td>overflow a buffer and crash another user's cli...</td>\n",
       "    </tr>\n",
       "    <tr>\n",
       "      <th>CVE-1999-0014</th>\n",
       "      <td>change file permission</td>\n",
       "      <td>improper checking of ownership</td>\n",
       "      <td>create a symbolic link from this file to anoth...</td>\n",
       "      <td>Unauthorized privileged access or denial of se...</td>\n",
       "    </tr>\n",
       "    <tr>\n",
       "      <th>CVE-1999-0016</th>\n",
       "      <td>NaN</td>\n",
       "      <td>latierra to go through ports through and repea...</td>\n",
       "      <td>sending a specially-crafted packet</td>\n",
       "      <td>and using the same port on the target host as...</td>\n",
       "    </tr>\n",
       "    <tr>\n",
       "      <th>CVE-1999-0019</th>\n",
       "      <td>NaN</td>\n",
       "      <td>due to invalid information .</td>\n",
       "      <td>NaN</td>\n",
       "      <td>overwrite pre-existing files or create new fil...</td>\n",
       "    </tr>\n",
       "    <tr>\n",
       "      <th>...</th>\n",
       "      <td>...</td>\n",
       "      <td>...</td>\n",
       "      <td>...</td>\n",
       "      <td>...</td>\n",
       "    </tr>\n",
       "    <tr>\n",
       "      <th>CVE-2020-9954</th>\n",
       "      <td>arbitrary code execution</td>\n",
       "      <td>improper bounds checking</td>\n",
       "      <td>persuading a victim to open a specially-crafte...</td>\n",
       "      <td>overflow a buffer and execute arbitrary code o...</td>\n",
       "    </tr>\n",
       "    <tr>\n",
       "      <th>CVE-2020-9972</th>\n",
       "      <td>a buffer overflow</td>\n",
       "      <td>improper bounds checking</td>\n",
       "      <td>persuading a victim to open a specially-crafte...</td>\n",
       "      <td>overflow a buffer and execute arbitrary code o...</td>\n",
       "    </tr>\n",
       "    <tr>\n",
       "      <th>CVE-2020-9982</th>\n",
       "      <td>authorization validation</td>\n",
       "      <td>improper authorization validation</td>\n",
       "      <td>executing a specially-crafted application</td>\n",
       "      <td>and use this information to launch further at...</td>\n",
       "    </tr>\n",
       "    <tr>\n",
       "      <th>CVE-2020-9985</th>\n",
       "      <td>a buffer overflow</td>\n",
       "      <td>improper bounds checking</td>\n",
       "      <td>NaN</td>\n",
       "      <td>overflow a buffer and execute arbitrary code o...</td>\n",
       "    </tr>\n",
       "    <tr>\n",
       "      <th>CVE-2020-9990</th>\n",
       "      <td>race condition</td>\n",
       "      <td>a time-of-check time-of-use race condition</td>\n",
       "      <td>using a specially-crafted application</td>\n",
       "      <td>execute arbitrary code with kernel privileges .</td>\n",
       "    </tr>\n",
       "  </tbody>\n",
       "</table>\n",
       "<p>66904 rows × 4 columns</p>\n",
       "</div>"
      ],
      "text/plain": [
       "                          vulnerability_type  \\\n",
       "CVE-1999-0003  tooltalk rpc service overflow   \n",
       "CVE-1999-0004           mime buffer overflow   \n",
       "CVE-1999-0014         change file permission   \n",
       "CVE-1999-0016                            NaN   \n",
       "CVE-1999-0019                            NaN   \n",
       "...                                      ...   \n",
       "CVE-2020-9954       arbitrary code execution   \n",
       "CVE-2020-9972              a buffer overflow   \n",
       "CVE-2020-9982       authorization validation   \n",
       "CVE-2020-9985              a buffer overflow   \n",
       "CVE-2020-9990                 race condition   \n",
       "\n",
       "                                                      root_cause  \\\n",
       "CVE-1999-0003                           improper bounds checking   \n",
       "CVE-1999-0004  a buffer overflow in the handling of certain h...   \n",
       "CVE-1999-0014                     improper checking of ownership   \n",
       "CVE-1999-0016  latierra to go through ports through and repea...   \n",
       "CVE-1999-0019                       due to invalid information .   \n",
       "...                                                          ...   \n",
       "CVE-2020-9954                           improper bounds checking   \n",
       "CVE-2020-9972                           improper bounds checking   \n",
       "CVE-2020-9982                  improper authorization validation   \n",
       "CVE-2020-9985                           improper bounds checking   \n",
       "CVE-2020-9990         a time-of-check time-of-use race condition   \n",
       "\n",
       "                                                   attack_vector  \\\n",
       "CVE-1999-0003  exchanging ToolTalk messages Using ToolTalk ap...   \n",
       "CVE-1999-0004   an attacker can overflow a buffer and crash a...   \n",
       "CVE-1999-0014  create a symbolic link from this file to anoth...   \n",
       "CVE-1999-0016                 sending a specially-crafted packet   \n",
       "CVE-1999-0019                                                NaN   \n",
       "...                                                          ...   \n",
       "CVE-2020-9954  persuading a victim to open a specially-crafte...   \n",
       "CVE-2020-9972  persuading a victim to open a specially-crafte...   \n",
       "CVE-2020-9982          executing a specially-crafted application   \n",
       "CVE-2020-9985                                                NaN   \n",
       "CVE-2020-9990              using a specially-crafted application   \n",
       "\n",
       "                                                          impact  \n",
       "CVE-1999-0003  force a transfer of control into arbitrary ins...  \n",
       "CVE-1999-0004  overflow a buffer and crash another user's cli...  \n",
       "CVE-1999-0014  Unauthorized privileged access or denial of se...  \n",
       "CVE-1999-0016   and using the same port on the target host as...  \n",
       "CVE-1999-0019  overwrite pre-existing files or create new fil...  \n",
       "...                                                          ...  \n",
       "CVE-2020-9954  overflow a buffer and execute arbitrary code o...  \n",
       "CVE-2020-9972  overflow a buffer and execute arbitrary code o...  \n",
       "CVE-2020-9982   and use this information to launch further at...  \n",
       "CVE-2020-9985  overflow a buffer and execute arbitrary code o...  \n",
       "CVE-2020-9990    execute arbitrary code with kernel privileges .  \n",
       "\n",
       "[66904 rows x 4 columns]"
      ]
     },
     "execution_count": 25,
     "metadata": {},
     "output_type": "execute_result"
    }
   ],
   "source": [
    "df_factors[df_factors['root_cause'].notnull()]"
   ]
  },
  {
   "cell_type": "code",
   "execution_count": 26,
   "id": "0b52d3f7-74d9-41f1-a22b-cdb3979e1299",
   "metadata": {},
   "outputs": [
    {
     "data": {
      "text/plain": [
       "nan"
      ]
     },
     "execution_count": 26,
     "metadata": {},
     "output_type": "execute_result"
    }
   ],
   "source": [
    "df_factors.loc['CVE-1999-0001']['root_cause']"
   ]
  },
  {
   "cell_type": "code",
   "execution_count": 27,
   "id": "904fd4a2-d952-440f-bd5a-801fe8e1ede7",
   "metadata": {},
   "outputs": [
    {
     "data": {
      "text/plain": [
       "(146807, 4)"
      ]
     },
     "execution_count": 27,
     "metadata": {},
     "output_type": "execute_result"
    }
   ],
   "source": [
    "df_factors.shape"
   ]
  },
  {
   "cell_type": "code",
   "execution_count": 28,
   "id": "c9af8762-c041-4922-9ccc-2d754a50540f",
   "metadata": {},
   "outputs": [],
   "source": [
    "df_factors_full = df_factors[df_factors['vulnerability_type'].notnull() & df_factors['root_cause'].notnull() & df_factors['attack_vector'].notnull() & df_factors['impact'].notnull()]"
   ]
  },
  {
   "cell_type": "code",
   "execution_count": 29,
   "id": "327cdea3-75ab-4d60-a5e4-1b7609a1183a",
   "metadata": {},
   "outputs": [
    {
     "data": {
      "text/plain": [
       "(28546, 4)"
      ]
     },
     "execution_count": 29,
     "metadata": {},
     "output_type": "execute_result"
    }
   ],
   "source": [
    "df_factors_full.shape"
   ]
  },
  {
   "cell_type": "code",
   "execution_count": 30,
   "id": "96d00e46-a4c4-4a10-beed-352237b8f208",
   "metadata": {},
   "outputs": [
    {
     "data": {
      "text/plain": [
       "(146807, 4)"
      ]
     },
     "execution_count": 30,
     "metadata": {},
     "output_type": "execute_result"
    }
   ],
   "source": [
    "df_factors.shape"
   ]
  },
  {
   "cell_type": "code",
   "execution_count": 31,
   "id": "008c7870-ba1f-42df-afc8-5add3705bc66",
   "metadata": {},
   "outputs": [],
   "source": [
    "df_commits = pd.DataFrame.from_dict(commit_message_dict_full_cwe_code_mix_nvd_synk_full2)"
   ]
  },
  {
   "cell_type": "code",
   "execution_count": 32,
   "id": "1da9c740-0d55-4111-92e4-198e2848cb66",
   "metadata": {},
   "outputs": [
    {
     "data": {
      "text/plain": [
       "(10903, 5)"
      ]
     },
     "execution_count": 32,
     "metadata": {},
     "output_type": "execute_result"
    }
   ],
   "source": [
    "df_commits = df_commits.T\n",
    "df_commits.shape"
   ]
  },
  {
   "cell_type": "code",
   "execution_count": 33,
   "id": "c6061277-fa1a-425c-a28d-a51983dbfc8a",
   "metadata": {},
   "outputs": [
    {
     "name": "stdout",
     "output_type": "stream",
     "text": [
      "69.91% of cve in the df_commits.\n"
     ]
    }
   ],
   "source": [
    "# check overlap commit and vul factors\n",
    "\n",
    "index_keys = df_commits['cve'].tolist()\n",
    "num_matching = df_factors.index.isin(index_keys).sum()\n",
    "percentage_matching = (num_matching / len(index_keys)) * 100\n",
    "print(f\"{percentage_matching:.2f}% of cve in the df_commits.\")"
   ]
  },
  {
   "cell_type": "code",
   "execution_count": 34,
   "id": "cbd90a19-b6bd-43ed-9154-3118f4bf5746",
   "metadata": {},
   "outputs": [
    {
     "name": "stdout",
     "output_type": "stream",
     "text": [
      "15.47% of cve from df_factors_full exist in the df_commits.\n"
     ]
    }
   ],
   "source": [
    "index_keys = df_commits['cve'].tolist()\n",
    "num_matching = df_factors_full.index.isin(index_keys).sum()\n",
    "percentage_matching = (num_matching / len(index_keys)) * 100\n",
    "print(f\"{percentage_matching:.2f}% of cve from df_factors_full exist in the df_commits.\")"
   ]
  },
  {
   "cell_type": "markdown",
   "id": "02700479-783f-4392-b9a2-f8aafafc6331",
   "metadata": {},
   "source": [
    "# check overlaping & preprocessing"
   ]
  },
  {
   "cell_type": "code",
   "execution_count": 35,
   "id": "a8d2715c",
   "metadata": {},
   "outputs": [],
   "source": [
    "# convert from csv to parquet\n",
    "\n",
    "# df = pd.read_csv('./MSR_data_cleaned.csv')\n",
    "# df.drop('Unnamed: 0', axis=1, inplace=True)\n",
    "# import pyarrow as pa\n",
    "# import pyarrow.parquet as pq\n",
    "# table = pa.Table.from_pandas(df)\n",
    "# pq.write_table(table, 'MSR_data_cleaned.parquet')\n"
   ]
  },
  {
   "cell_type": "code",
   "execution_count": 37,
   "id": "6d30716e-4cd5-4108-beb6-8da22fc37a31",
   "metadata": {},
   "outputs": [],
   "source": [
    "table = pq.read_table('data/MSR_data_cleaned.parquet')\n",
    "df_bigvul = table.to_pandas()"
   ]
  },
  {
   "cell_type": "code",
   "execution_count": 38,
   "id": "718d437f",
   "metadata": {},
   "outputs": [
    {
     "data": {
      "text/html": [
       "<div>\n",
       "<style scoped>\n",
       "    .dataframe tbody tr th:only-of-type {\n",
       "        vertical-align: middle;\n",
       "    }\n",
       "\n",
       "    .dataframe tbody tr th {\n",
       "        vertical-align: top;\n",
       "    }\n",
       "\n",
       "    .dataframe thead th {\n",
       "        text-align: right;\n",
       "    }\n",
       "</style>\n",
       "<table border=\"1\" class=\"dataframe\">\n",
       "  <thead>\n",
       "    <tr style=\"text-align: right;\">\n",
       "      <th></th>\n",
       "      <th>Access Gained</th>\n",
       "      <th>Attack Origin</th>\n",
       "      <th>Authentication Required</th>\n",
       "      <th>Availability</th>\n",
       "      <th>CVE ID</th>\n",
       "      <th>CVE Page</th>\n",
       "      <th>CWE ID</th>\n",
       "      <th>Complexity</th>\n",
       "      <th>Confidentiality</th>\n",
       "      <th>Integrity</th>\n",
       "      <th>...</th>\n",
       "      <th>lang</th>\n",
       "      <th>lines_after</th>\n",
       "      <th>lines_before</th>\n",
       "      <th>parentID</th>\n",
       "      <th>patch</th>\n",
       "      <th>project</th>\n",
       "      <th>project_after</th>\n",
       "      <th>project_before</th>\n",
       "      <th>vul</th>\n",
       "      <th>vul_func_with_fix</th>\n",
       "    </tr>\n",
       "  </thead>\n",
       "  <tbody>\n",
       "    <tr>\n",
       "      <th>0</th>\n",
       "      <td>None</td>\n",
       "      <td>Remote</td>\n",
       "      <td>Single system</td>\n",
       "      <td>Partial</td>\n",
       "      <td>CVE-2015-8467</td>\n",
       "      <td>https://www.cvedetails.com/cve/CVE-2015-8467/</td>\n",
       "      <td>CWE-264</td>\n",
       "      <td>Medium</td>\n",
       "      <td>Partial</td>\n",
       "      <td>Partial</td>\n",
       "      <td>...</td>\n",
       "      <td>C</td>\n",
       "      <td>None</td>\n",
       "      <td>None</td>\n",
       "      <td>a819d2b440aafa3138d95ff6e8b824da885a70e9</td>\n",
       "      <td>@@ -1558,12 +1558,15 @@ static int samldb_chec...</td>\n",
       "      <td>samba</td>\n",
       "      <td>https://git.samba.org/?p=samba.git;a=blob;f=so...</td>\n",
       "      <td>https://git.samba.org/?p=samba.git;a=blob;f=so...</td>\n",
       "      <td>0</td>\n",
       "      <td>static bool check_rodc_critical_attribute(stru...</td>\n",
       "    </tr>\n",
       "    <tr>\n",
       "      <th>1</th>\n",
       "      <td>None</td>\n",
       "      <td>Remote</td>\n",
       "      <td>Single system</td>\n",
       "      <td>Partial</td>\n",
       "      <td>CVE-2015-8467</td>\n",
       "      <td>https://www.cvedetails.com/cve/CVE-2015-8467/</td>\n",
       "      <td>CWE-264</td>\n",
       "      <td>Medium</td>\n",
       "      <td>Partial</td>\n",
       "      <td>Partial</td>\n",
       "      <td>...</td>\n",
       "      <td>C</td>\n",
       "      <td>None</td>\n",
       "      <td>None</td>\n",
       "      <td>a819d2b440aafa3138d95ff6e8b824da885a70e9</td>\n",
       "      <td>@@ -1558,12 +1558,15 @@ static int samldb_chec...</td>\n",
       "      <td>samba</td>\n",
       "      <td>https://git.samba.org/?p=samba.git;a=blob;f=so...</td>\n",
       "      <td>https://git.samba.org/?p=samba.git;a=blob;f=so...</td>\n",
       "      <td>0</td>\n",
       "      <td>static int samldb_add_entry(struct samldb_ctx ...</td>\n",
       "    </tr>\n",
       "    <tr>\n",
       "      <th>2</th>\n",
       "      <td>None</td>\n",
       "      <td>Remote</td>\n",
       "      <td>Single system</td>\n",
       "      <td>Partial</td>\n",
       "      <td>CVE-2015-8467</td>\n",
       "      <td>https://www.cvedetails.com/cve/CVE-2015-8467/</td>\n",
       "      <td>CWE-264</td>\n",
       "      <td>Medium</td>\n",
       "      <td>Partial</td>\n",
       "      <td>Partial</td>\n",
       "      <td>...</td>\n",
       "      <td>C</td>\n",
       "      <td>None</td>\n",
       "      <td>None</td>\n",
       "      <td>a819d2b440aafa3138d95ff6e8b824da885a70e9</td>\n",
       "      <td>@@ -1558,12 +1558,15 @@ static int samldb_chec...</td>\n",
       "      <td>samba</td>\n",
       "      <td>https://git.samba.org/?p=samba.git;a=blob;f=so...</td>\n",
       "      <td>https://git.samba.org/?p=samba.git;a=blob;f=so...</td>\n",
       "      <td>0</td>\n",
       "      <td>static int samldb_add_entry_callback(struct ld...</td>\n",
       "    </tr>\n",
       "    <tr>\n",
       "      <th>3</th>\n",
       "      <td>None</td>\n",
       "      <td>Remote</td>\n",
       "      <td>Single system</td>\n",
       "      <td>Partial</td>\n",
       "      <td>CVE-2015-8467</td>\n",
       "      <td>https://www.cvedetails.com/cve/CVE-2015-8467/</td>\n",
       "      <td>CWE-264</td>\n",
       "      <td>Medium</td>\n",
       "      <td>Partial</td>\n",
       "      <td>Partial</td>\n",
       "      <td>...</td>\n",
       "      <td>C</td>\n",
       "      <td>None</td>\n",
       "      <td>None</td>\n",
       "      <td>a819d2b440aafa3138d95ff6e8b824da885a70e9</td>\n",
       "      <td>@@ -1558,12 +1558,15 @@ static int samldb_chec...</td>\n",
       "      <td>samba</td>\n",
       "      <td>https://git.samba.org/?p=samba.git;a=blob;f=so...</td>\n",
       "      <td>https://git.samba.org/?p=samba.git;a=blob;f=so...</td>\n",
       "      <td>0</td>\n",
       "      <td>static int samldb_add_handle_msDS_IntId(struct...</td>\n",
       "    </tr>\n",
       "    <tr>\n",
       "      <th>4</th>\n",
       "      <td>None</td>\n",
       "      <td>Remote</td>\n",
       "      <td>Single system</td>\n",
       "      <td>Partial</td>\n",
       "      <td>CVE-2015-8467</td>\n",
       "      <td>https://www.cvedetails.com/cve/CVE-2015-8467/</td>\n",
       "      <td>CWE-264</td>\n",
       "      <td>Medium</td>\n",
       "      <td>Partial</td>\n",
       "      <td>Partial</td>\n",
       "      <td>...</td>\n",
       "      <td>C</td>\n",
       "      <td>None</td>\n",
       "      <td>None</td>\n",
       "      <td>a819d2b440aafa3138d95ff6e8b824da885a70e9</td>\n",
       "      <td>@@ -1558,12 +1558,15 @@ static int samldb_chec...</td>\n",
       "      <td>samba</td>\n",
       "      <td>https://git.samba.org/?p=samba.git;a=blob;f=so...</td>\n",
       "      <td>https://git.samba.org/?p=samba.git;a=blob;f=so...</td>\n",
       "      <td>0</td>\n",
       "      <td>static int samldb_add_step(struct samldb_ctx *...</td>\n",
       "    </tr>\n",
       "  </tbody>\n",
       "</table>\n",
       "<p>5 rows × 35 columns</p>\n",
       "</div>"
      ],
      "text/plain": [
       "  Access Gained Attack Origin Authentication Required Availability  \\\n",
       "0          None        Remote           Single system      Partial   \n",
       "1          None        Remote           Single system      Partial   \n",
       "2          None        Remote           Single system      Partial   \n",
       "3          None        Remote           Single system      Partial   \n",
       "4          None        Remote           Single system      Partial   \n",
       "\n",
       "          CVE ID                                       CVE Page   CWE ID  \\\n",
       "0  CVE-2015-8467  https://www.cvedetails.com/cve/CVE-2015-8467/  CWE-264   \n",
       "1  CVE-2015-8467  https://www.cvedetails.com/cve/CVE-2015-8467/  CWE-264   \n",
       "2  CVE-2015-8467  https://www.cvedetails.com/cve/CVE-2015-8467/  CWE-264   \n",
       "3  CVE-2015-8467  https://www.cvedetails.com/cve/CVE-2015-8467/  CWE-264   \n",
       "4  CVE-2015-8467  https://www.cvedetails.com/cve/CVE-2015-8467/  CWE-264   \n",
       "\n",
       "  Complexity Confidentiality Integrity  ...  lang lines_after  lines_before  \\\n",
       "0     Medium         Partial   Partial  ...     C        None          None   \n",
       "1     Medium         Partial   Partial  ...     C        None          None   \n",
       "2     Medium         Partial   Partial  ...     C        None          None   \n",
       "3     Medium         Partial   Partial  ...     C        None          None   \n",
       "4     Medium         Partial   Partial  ...     C        None          None   \n",
       "\n",
       "                                   parentID  \\\n",
       "0  a819d2b440aafa3138d95ff6e8b824da885a70e9   \n",
       "1  a819d2b440aafa3138d95ff6e8b824da885a70e9   \n",
       "2  a819d2b440aafa3138d95ff6e8b824da885a70e9   \n",
       "3  a819d2b440aafa3138d95ff6e8b824da885a70e9   \n",
       "4  a819d2b440aafa3138d95ff6e8b824da885a70e9   \n",
       "\n",
       "                                               patch project  \\\n",
       "0  @@ -1558,12 +1558,15 @@ static int samldb_chec...   samba   \n",
       "1  @@ -1558,12 +1558,15 @@ static int samldb_chec...   samba   \n",
       "2  @@ -1558,12 +1558,15 @@ static int samldb_chec...   samba   \n",
       "3  @@ -1558,12 +1558,15 @@ static int samldb_chec...   samba   \n",
       "4  @@ -1558,12 +1558,15 @@ static int samldb_chec...   samba   \n",
       "\n",
       "                                       project_after  \\\n",
       "0  https://git.samba.org/?p=samba.git;a=blob;f=so...   \n",
       "1  https://git.samba.org/?p=samba.git;a=blob;f=so...   \n",
       "2  https://git.samba.org/?p=samba.git;a=blob;f=so...   \n",
       "3  https://git.samba.org/?p=samba.git;a=blob;f=so...   \n",
       "4  https://git.samba.org/?p=samba.git;a=blob;f=so...   \n",
       "\n",
       "                                      project_before vul  \\\n",
       "0  https://git.samba.org/?p=samba.git;a=blob;f=so...   0   \n",
       "1  https://git.samba.org/?p=samba.git;a=blob;f=so...   0   \n",
       "2  https://git.samba.org/?p=samba.git;a=blob;f=so...   0   \n",
       "3  https://git.samba.org/?p=samba.git;a=blob;f=so...   0   \n",
       "4  https://git.samba.org/?p=samba.git;a=blob;f=so...   0   \n",
       "\n",
       "                                   vul_func_with_fix  \n",
       "0  static bool check_rodc_critical_attribute(stru...  \n",
       "1  static int samldb_add_entry(struct samldb_ctx ...  \n",
       "2  static int samldb_add_entry_callback(struct ld...  \n",
       "3  static int samldb_add_handle_msDS_IntId(struct...  \n",
       "4  static int samldb_add_step(struct samldb_ctx *...  \n",
       "\n",
       "[5 rows x 35 columns]"
      ]
     },
     "execution_count": 38,
     "metadata": {},
     "output_type": "execute_result"
    }
   ],
   "source": [
    "df_bigvul.head()"
   ]
  },
  {
   "cell_type": "code",
   "execution_count": 39,
   "id": "7485a3fb-805c-47ac-bab6-58d3671d054a",
   "metadata": {},
   "outputs": [
    {
     "name": "stdout",
     "output_type": "stream",
     "text": [
      "1.87% of bigvul in the data61.\n"
     ]
    }
   ],
   "source": [
    "# just overlap\n",
    "index_keys = df_bigvul['CVE ID'].tolist()\n",
    "num_matching = df_factors.index.isin(index_keys).sum()\n",
    "percentage_matching = (num_matching / len(index_keys)) * 100\n",
    "print(f\"{percentage_matching:.2f}% of bigvul in the data61.\")"
   ]
  },
  {
   "cell_type": "code",
   "execution_count": 40,
   "id": "dc561b95-8fe9-4e63-91fe-c14414ebea61",
   "metadata": {},
   "outputs": [],
   "source": [
    "bigvul_overlap = df_factors.loc[df_factors.index.isin(index_keys)]"
   ]
  },
  {
   "cell_type": "code",
   "execution_count": 41,
   "id": "ef78a753-834c-44e9-8577-5bde64a23717",
   "metadata": {},
   "outputs": [
    {
     "data": {
      "text/html": [
       "<div>\n",
       "<style scoped>\n",
       "    .dataframe tbody tr th:only-of-type {\n",
       "        vertical-align: middle;\n",
       "    }\n",
       "\n",
       "    .dataframe tbody tr th {\n",
       "        vertical-align: top;\n",
       "    }\n",
       "\n",
       "    .dataframe thead th {\n",
       "        text-align: right;\n",
       "    }\n",
       "</style>\n",
       "<table border=\"1\" class=\"dataframe\">\n",
       "  <thead>\n",
       "    <tr style=\"text-align: right;\">\n",
       "      <th></th>\n",
       "      <th>vulnerability_type</th>\n",
       "      <th>root_cause</th>\n",
       "      <th>attack_vector</th>\n",
       "      <th>impact</th>\n",
       "    </tr>\n",
       "  </thead>\n",
       "  <tbody>\n",
       "    <tr>\n",
       "      <th>count</th>\n",
       "      <td>2062</td>\n",
       "      <td>1805</td>\n",
       "      <td>2358</td>\n",
       "      <td>3394</td>\n",
       "    </tr>\n",
       "    <tr>\n",
       "      <th>unique</th>\n",
       "      <td>280</td>\n",
       "      <td>1251</td>\n",
       "      <td>1161</td>\n",
       "      <td>1141</td>\n",
       "    </tr>\n",
       "    <tr>\n",
       "      <th>top</th>\n",
       "      <td>pointer dereference</td>\n",
       "      <td>improper bounds checking</td>\n",
       "      <td>persuading a victim to open a specially-crafte...</td>\n",
       "      <td>the application to crash</td>\n",
       "    </tr>\n",
       "    <tr>\n",
       "      <th>freq</th>\n",
       "      <td>244</td>\n",
       "      <td>177</td>\n",
       "      <td>257</td>\n",
       "      <td>197</td>\n",
       "    </tr>\n",
       "  </tbody>\n",
       "</table>\n",
       "</div>"
      ],
      "text/plain": [
       "         vulnerability_type                root_cause  \\\n",
       "count                  2062                      1805   \n",
       "unique                  280                      1251   \n",
       "top     pointer dereference  improper bounds checking   \n",
       "freq                    244                       177   \n",
       "\n",
       "                                            attack_vector  \\\n",
       "count                                                2358   \n",
       "unique                                               1161   \n",
       "top     persuading a victim to open a specially-crafte...   \n",
       "freq                                                  257   \n",
       "\n",
       "                          impact  \n",
       "count                       3394  \n",
       "unique                      1141  \n",
       "top     the application to crash  \n",
       "freq                         197  "
      ]
     },
     "execution_count": 41,
     "metadata": {},
     "output_type": "execute_result"
    }
   ],
   "source": [
    "bigvul_overlap.describe()"
   ]
  },
  {
   "cell_type": "code",
   "execution_count": 42,
   "id": "b86d7d9e",
   "metadata": {},
   "outputs": [
    {
     "data": {
      "text/plain": [
       "CVE-2006-4192                             improper bounds checking\n",
       "CVE-2007-6761    does not initialize videobuf_mapping data stru...\n",
       "CVE-2008-1950                                  a Daniel of Service\n",
       "CVE-2008-7316                    does not always advance over them\n",
       "CVE-2009-0397                             improper bounds checking\n",
       "                                       ...                        \n",
       "CVE-2019-7395                                          memory leak\n",
       "CVE-2019-7396                                          memory leak\n",
       "CVE-2019-7397                                          memory leak\n",
       "CVE-2019-8906                            has an out-of-bounds read\n",
       "CVE-2019-9162    has insufficient ASN.1 length checks (aka an a...\n",
       "Name: root_cause, Length: 1805, dtype: object"
      ]
     },
     "execution_count": 42,
     "metadata": {},
     "output_type": "execute_result"
    }
   ],
   "source": [
    "bigvul_overlap['root_cause'].loc[bigvul_overlap.root_cause.notnull()]"
   ]
  },
  {
   "cell_type": "code",
   "execution_count": 43,
   "id": "17cbf0a5",
   "metadata": {},
   "outputs": [
    {
     "data": {
      "text/html": [
       "<div>\n",
       "<style scoped>\n",
       "    .dataframe tbody tr th:only-of-type {\n",
       "        vertical-align: middle;\n",
       "    }\n",
       "\n",
       "    .dataframe tbody tr th {\n",
       "        vertical-align: top;\n",
       "    }\n",
       "\n",
       "    .dataframe thead th {\n",
       "        text-align: right;\n",
       "    }\n",
       "</style>\n",
       "<table border=\"1\" class=\"dataframe\">\n",
       "  <thead>\n",
       "    <tr style=\"text-align: right;\">\n",
       "      <th></th>\n",
       "      <th>vulnerability_type</th>\n",
       "      <th>root_cause</th>\n",
       "      <th>attack_vector</th>\n",
       "      <th>impact</th>\n",
       "      <th>CVE ID</th>\n",
       "    </tr>\n",
       "  </thead>\n",
       "  <tbody>\n",
       "    <tr>\n",
       "      <th>CVE-1999-0001</th>\n",
       "      <td>NaN</td>\n",
       "      <td>NaN</td>\n",
       "      <td>via crafted packets .</td>\n",
       "      <td>cause a denial of service (crash or hang )</td>\n",
       "      <td>CVE-1999-0001</td>\n",
       "    </tr>\n",
       "    <tr>\n",
       "      <th>CVE-1999-0002</th>\n",
       "      <td>buffer overflow</td>\n",
       "      <td>NaN</td>\n",
       "      <td>NaN</td>\n",
       "      <td>an account on the target computer</td>\n",
       "      <td>CVE-1999-0002</td>\n",
       "    </tr>\n",
       "    <tr>\n",
       "      <th>CVE-1999-0003</th>\n",
       "      <td>tooltalk rpc service overflow</td>\n",
       "      <td>improper bounds checking</td>\n",
       "      <td>exchanging ToolTalk messages Using ToolTalk ap...</td>\n",
       "      <td>force a transfer of control into arbitrary ins...</td>\n",
       "      <td>CVE-1999-0003</td>\n",
       "    </tr>\n",
       "    <tr>\n",
       "      <th>CVE-1999-0004</th>\n",
       "      <td>mime buffer overflow</td>\n",
       "      <td>a buffer overflow in the handling of certain h...</td>\n",
       "      <td>an attacker can overflow a buffer and crash a...</td>\n",
       "      <td>overflow a buffer and crash another user's cli...</td>\n",
       "      <td>CVE-1999-0004</td>\n",
       "    </tr>\n",
       "    <tr>\n",
       "      <th>CVE-1999-0005</th>\n",
       "      <td>remote buffer overflow</td>\n",
       "      <td>NaN</td>\n",
       "      <td>via IMAP buffer overflow in authenticate comma...</td>\n",
       "      <td>execute arbitrary code remotely In certain ins...</td>\n",
       "      <td>CVE-1999-0005</td>\n",
       "    </tr>\n",
       "  </tbody>\n",
       "</table>\n",
       "</div>"
      ],
      "text/plain": [
       "                          vulnerability_type  \\\n",
       "CVE-1999-0001                            NaN   \n",
       "CVE-1999-0002                buffer overflow   \n",
       "CVE-1999-0003  tooltalk rpc service overflow   \n",
       "CVE-1999-0004           mime buffer overflow   \n",
       "CVE-1999-0005         remote buffer overflow   \n",
       "\n",
       "                                                      root_cause  \\\n",
       "CVE-1999-0001                                                NaN   \n",
       "CVE-1999-0002                                                NaN   \n",
       "CVE-1999-0003                           improper bounds checking   \n",
       "CVE-1999-0004  a buffer overflow in the handling of certain h...   \n",
       "CVE-1999-0005                                                NaN   \n",
       "\n",
       "                                                   attack_vector  \\\n",
       "CVE-1999-0001                              via crafted packets .   \n",
       "CVE-1999-0002                                                NaN   \n",
       "CVE-1999-0003  exchanging ToolTalk messages Using ToolTalk ap...   \n",
       "CVE-1999-0004   an attacker can overflow a buffer and crash a...   \n",
       "CVE-1999-0005  via IMAP buffer overflow in authenticate comma...   \n",
       "\n",
       "                                                          impact  \\\n",
       "CVE-1999-0001         cause a denial of service (crash or hang )   \n",
       "CVE-1999-0002                  an account on the target computer   \n",
       "CVE-1999-0003  force a transfer of control into arbitrary ins...   \n",
       "CVE-1999-0004  overflow a buffer and crash another user's cli...   \n",
       "CVE-1999-0005  execute arbitrary code remotely In certain ins...   \n",
       "\n",
       "                      CVE ID  \n",
       "CVE-1999-0001  CVE-1999-0001  \n",
       "CVE-1999-0002  CVE-1999-0002  \n",
       "CVE-1999-0003  CVE-1999-0003  \n",
       "CVE-1999-0004  CVE-1999-0004  \n",
       "CVE-1999-0005  CVE-1999-0005  "
      ]
     },
     "execution_count": 43,
     "metadata": {},
     "output_type": "execute_result"
    }
   ],
   "source": [
    "df_factors['CVE ID'] = df_factors.index\n",
    "df_factors.head()"
   ]
  },
  {
   "cell_type": "code",
   "execution_count": 44,
   "id": "f5d2645b-b327-4563-81ad-b349c7cfbb07",
   "metadata": {},
   "outputs": [],
   "source": [
    "df_bigvul = df_bigvul.merge(df_factors, on='CVE ID')"
   ]
  },
  {
   "cell_type": "code",
   "execution_count": 45,
   "id": "3b976e87",
   "metadata": {},
   "outputs": [
    {
     "data": {
      "text/plain": [
       "Index(['Access Gained', 'Attack Origin', 'Authentication Required',\n",
       "       'Availability', 'CVE ID', 'CVE Page', 'CWE ID', 'Complexity',\n",
       "       'Confidentiality', 'Integrity', 'Known Exploits', 'Publish Date',\n",
       "       'Score', 'Summary', 'Update Date', 'Vulnerability Classification',\n",
       "       'add_lines', 'codeLink', 'commit_id', 'commit_message', 'del_lines',\n",
       "       'file_name', 'files_changed', 'func_after', 'func_before', 'lang',\n",
       "       'lines_after', 'lines_before', 'parentID', 'patch', 'project',\n",
       "       'project_after', 'project_before', 'vul', 'vul_func_with_fix',\n",
       "       'vulnerability_type', 'root_cause', 'attack_vector', 'impact'],\n",
       "      dtype='object')"
      ]
     },
     "execution_count": 45,
     "metadata": {},
     "output_type": "execute_result"
    }
   ],
   "source": [
    "df_bigvul.columns"
   ]
  },
  {
   "cell_type": "code",
   "execution_count": 46,
   "id": "72f44dd6",
   "metadata": {},
   "outputs": [],
   "source": [
    "# remove all '\\t' and '\\n' characters from 'func_before' column\n",
    "df_bigvul['func_before'] = df_bigvul['func_before'].replace('\\t|\\n|\\s+', ' ', regex=True)\n"
   ]
  },
  {
   "cell_type": "code",
   "execution_count": 47,
   "id": "41ce435e",
   "metadata": {},
   "outputs": [
    {
     "data": {
      "text/html": [
       "<div>\n",
       "<style scoped>\n",
       "    .dataframe tbody tr th:only-of-type {\n",
       "        vertical-align: middle;\n",
       "    }\n",
       "\n",
       "    .dataframe tbody tr th {\n",
       "        vertical-align: top;\n",
       "    }\n",
       "\n",
       "    .dataframe thead th {\n",
       "        text-align: right;\n",
       "    }\n",
       "</style>\n",
       "<table border=\"1\" class=\"dataframe\">\n",
       "  <thead>\n",
       "    <tr style=\"text-align: right;\">\n",
       "      <th></th>\n",
       "      <th>CVE ID</th>\n",
       "      <th>vul</th>\n",
       "      <th>vulnerability_type</th>\n",
       "      <th>root_cause</th>\n",
       "      <th>attack_vector</th>\n",
       "      <th>impact</th>\n",
       "      <th>func_before</th>\n",
       "    </tr>\n",
       "  </thead>\n",
       "  <tbody>\n",
       "    <tr>\n",
       "      <th>0</th>\n",
       "      <td>CVE-2015-8467</td>\n",
       "      <td>0</td>\n",
       "      <td>NaN</td>\n",
       "      <td>does not properly check for administrative pri...</td>\n",
       "      <td>NaN</td>\n",
       "      <td>bypass the quota limit and create excessive ma...</td>\n",
       "      <td>static bool check_rodc_critical_attribute(stru...</td>\n",
       "    </tr>\n",
       "    <tr>\n",
       "      <th>1</th>\n",
       "      <td>CVE-2015-8467</td>\n",
       "      <td>0</td>\n",
       "      <td>NaN</td>\n",
       "      <td>does not properly check for administrative pri...</td>\n",
       "      <td>NaN</td>\n",
       "      <td>bypass the quota limit and create excessive ma...</td>\n",
       "      <td>static int samldb_add_entry(struct samldb_ctx ...</td>\n",
       "    </tr>\n",
       "    <tr>\n",
       "      <th>2</th>\n",
       "      <td>CVE-2015-8467</td>\n",
       "      <td>0</td>\n",
       "      <td>NaN</td>\n",
       "      <td>does not properly check for administrative pri...</td>\n",
       "      <td>NaN</td>\n",
       "      <td>bypass the quota limit and create excessive ma...</td>\n",
       "      <td>static int samldb_add_entry_callback(struct ld...</td>\n",
       "    </tr>\n",
       "  </tbody>\n",
       "</table>\n",
       "</div>"
      ],
      "text/plain": [
       "          CVE ID  vul vulnerability_type  \\\n",
       "0  CVE-2015-8467    0                NaN   \n",
       "1  CVE-2015-8467    0                NaN   \n",
       "2  CVE-2015-8467    0                NaN   \n",
       "\n",
       "                                          root_cause attack_vector  \\\n",
       "0  does not properly check for administrative pri...           NaN   \n",
       "1  does not properly check for administrative pri...           NaN   \n",
       "2  does not properly check for administrative pri...           NaN   \n",
       "\n",
       "                                              impact  \\\n",
       "0  bypass the quota limit and create excessive ma...   \n",
       "1  bypass the quota limit and create excessive ma...   \n",
       "2  bypass the quota limit and create excessive ma...   \n",
       "\n",
       "                                         func_before  \n",
       "0  static bool check_rodc_critical_attribute(stru...  \n",
       "1  static int samldb_add_entry(struct samldb_ctx ...  \n",
       "2  static int samldb_add_entry_callback(struct ld...  "
      ]
     },
     "execution_count": 47,
     "metadata": {},
     "output_type": "execute_result"
    }
   ],
   "source": [
    "df_bigvul[['CVE ID', 'vul' ,'vulnerability_type', 'root_cause', 'attack_vector', 'impact', 'func_before']].head(3)"
   ]
  },
  {
   "cell_type": "code",
   "execution_count": 48,
   "id": "6157501c",
   "metadata": {},
   "outputs": [
    {
     "name": "stdout",
     "output_type": "stream",
     "text": [
      "vulnerability_type: min=9, max=53, 90th percentile=23.0\n",
      "root_cause: min=9, max=153, 90th percentile=88.0\n",
      "attack_vector: min=1, max=146, 90th percentile=71.0\n",
      "impact: min=5, max=167, 90th percentile=92.0\n",
      "func_before: min=13, max=146004, 90th percentile=1778.0\n"
     ]
    }
   ],
   "source": [
    "columns = ['vulnerability_type', 'root_cause', 'attack_vector', 'impact', 'func_before']\n",
    "\n",
    "for column in columns:\n",
    "    lengths = df_bigvul[column].dropna().map(len)  # dropna is used to ignore null/empty values\n",
    "    print(f\"{column}: min={lengths.min()}, max={lengths.max()}, 90th percentile={lengths.quantile(0.9)}\")"
   ]
  },
  {
   "cell_type": "code",
   "execution_count": 49,
   "id": "773b7842",
   "metadata": {},
   "outputs": [],
   "source": [
    "df_filtered = df_bigvul[df_bigvul['vul'] == 1]\n",
    "\n",
    "df_vulnerability_type = df_filtered[df_filtered['vulnerability_type'].notnull()][['CVE ID', 'vulnerability_type', 'func_before']]\n",
    "df_vulnerability_type = df_vulnerability_type.rename(columns={'vulnerability_type': 'explain'})\n",
    "\n",
    "df_root_cause = df_filtered[df_filtered['root_cause'].notnull()][['CVE ID', 'root_cause', 'func_before']]\n",
    "df_root_cause = df_root_cause.rename(columns={'root_cause': 'explain'})\n",
    "\n",
    "df_attack_vector = df_filtered[df_filtered['attack_vector'].notnull()][['CVE ID', 'attack_vector', 'func_before']]\n",
    "df_attack_vector = df_attack_vector.rename(columns={'attack_vector': 'explain'})\n",
    "\n",
    "df_impact = df_filtered[df_filtered['impact'].notnull()][['CVE ID', 'impact', 'func_before']]\n",
    "df_impact = df_impact.rename(columns={'impact': 'explain'})\n"
   ]
  },
  {
   "cell_type": "code",
   "execution_count": 50,
   "id": "9a5bc23d",
   "metadata": {},
   "outputs": [],
   "source": [
    "impact = df_impact.to_dict('records')"
   ]
  },
  {
   "cell_type": "code",
   "execution_count": 51,
   "id": "f3224e55",
   "metadata": {},
   "outputs": [
    {
     "data": {
      "text/plain": [
       "{'CVE ID': 'CVE-2013-6712',\n",
       " 'explain': 'cause a denial of service (heap-based buffer over-read )',\n",
       " 'func_before': 'static int scan(Scanner *s) {  uchar *cursor = s->cur;  char *str, *ptr = NULL;    std:  s->tok = cursor;  s->len = 0; #line 311 \"ext/date/lib/parse_iso_intervals.re\"    #line 291 \"ext/date/lib/parse_iso_intervals.c\" {  YYCTYPE yych;  unsigned int yyaccept = 0;  static const unsigned char yybm[] = {    0, 0, 0, 0, 0, 0, 0, 0, 0, 0, 0, 0, 0, 0, 0, 0, 0, 0, 0, 0, 0, 0, 0, 0, 0, 0, 0, 0, 0, 0, 0, 0, 0, 0, 0, 0, 0, 0, 0, 0, 0, 0, 0, 0, 0, 0, 0, 0, 128, 128, 128, 128, 128, 128, 128, 128, 128, 128, 0, 0, 0, 0, 0, 0, 0, 0, 0, 0, 0, 0, 0, 0, 0, 0, 0, 0, 0, 0, 0, 0, 0, 0, 0, 0, 0, 0, 0, 0, 0, 0, 0, 0, 0, 0, 0, 0, 0, 0, 0, 0, 0, 0, 0, 0, 0, 0, 0, 0, 0, 0, 0, 0, 0, 0, 0, 0, 0, 0, 0, 0, 0, 0, 0, 0, 0, 0, 0, 0, 0, 0, 0, 0, 0, 0, 0, 0, 0, 0, 0, 0, 0, 0, 0, 0, 0, 0, 0, 0, 0, 0, 0, 0, 0, 0, 0, 0, 0, 0, 0, 0, 0, 0, 0, 0, 0, 0, 0, 0, 0, 0, 0, 0, 0, 0, 0, 0, 0, 0, 0, 0, 0, 0, 0, 0, 0, 0, 0, 0, 0, 0, 0, 0, 0, 0, 0, 0, 0, 0, 0, 0, 0, 0, 0, 0, 0, 0, 0, 0, 0, 0, 0, 0, 0, 0, 0, 0, 0, 0, 0, 0, 0, 0, 0, 0, 0, 0, 0, 0, 0, 0, 0, 0, 0, 0, 0, 0, 0, 0, 0, 0, 0, 0, 0, 0, 0, 0, 0, 0, 0, 0, 0, 0, 0, 0, 0, 0, };   YYDEBUG(0, *YYCURSOR);  if ((YYLIMIT - YYCURSOR) < 20) YYFILL(20);  yych = *YYCURSOR;  if (yych <= \\',\\') {   if (yych <= \\'\\\\n\\') {    if (yych <= 0x00) goto yy9;    if (yych <= 0x08) goto yy11;    if (yych <= \\'\\\\t\\') goto yy7;    goto yy9;   } else {    if (yych == \\' \\') goto yy7;    if (yych <= \\'+\\') goto yy11;    goto yy7;   }  } else {   if (yych <= \\'O\\') {    if (yych <= \\'-\\') goto yy11;    if (yych <= \\'/\\') goto yy7;    if (yych <= \\'9\\') goto yy4;    goto yy11;   } else {    if (yych <= \\'P\\') goto yy5;    if (yych != \\'R\\') goto yy11;   }  }  YYDEBUG(2, *YYCURSOR);  ++YYCURSOR;  if ((yych = *YYCURSOR) <= \\'/\\') goto yy3;  if (yych <= \\'9\\') goto yy98; yy3:  YYDEBUG(3, *YYCURSOR); #line 424 \"ext/date/lib/parse_iso_intervals.re\"  {   add_error(s, \"Unexpected character\");   goto std;  } #line 366 \"ext/date/lib/parse_iso_intervals.c\" yy4:  YYDEBUG(4, *YYCURSOR);  yyaccept = 0;  yych = *(YYMARKER = ++YYCURSOR);  if (yych <= \\'/\\') goto yy3;  if (yych <= \\'9\\') goto yy59;  goto yy3; yy5:  YYDEBUG(5, *YYCURSOR);  yyaccept = 1;  yych = *(YYMARKER = ++YYCURSOR);  if (yych <= \\'/\\') goto yy6;  if (yych <= \\'9\\') goto yy12;  if (yych == \\'T\\') goto yy14; yy6:  YYDEBUG(6, *YYCURSOR); #line 351 \"ext/date/lib/parse_iso_intervals.re\"  {   timelib_sll nr;   int in_time = 0;   DEBUG_OUTPUT(\"period\");   TIMELIB_INIT;   ptr++;   do {    if ( *ptr == \\'T\\' ) {     in_time = 1;     ptr++;    }    if ( *ptr == \\'\\\\0\\' ) {     add_error(s, \"Missing expected time part\");     break;    }     nr = timelib_get_unsigned_nr((char **) &ptr, 12);    switch (*ptr) {     case \\'Y\\': s->period->y = nr; break;     case \\'W\\': s->period->d = nr * 7; break;     case \\'D\\': s->period->d = nr; break;     case \\'H\\': s->period->h = nr; break;     case \\'S\\': s->period->s = nr; break;     case \\'M\\': if (in_time) {       s->period->i = nr;      } else {       s->period->m = nr; }      break;     default:      add_error(s, \"Undefined period specifier\");  break;  }  ptr++;  } while (*ptr);  s->have_period = 1;  TIMELIB_DEINIT;  return TIMELIB_PERIOD;  } #line 424 \"ext/date/lib/parse_iso_intervals.c\" yy7:  YYDEBUG(7, *YYCURSOR);  ++YYCURSOR;  YYDEBUG(8, *YYCURSOR); #line 413 \"ext/date/lib/parse_iso_intervals.re\"  {   goto std;  } #line 433 \"ext/date/lib/parse_iso_intervals.c\" yy9:  YYDEBUG(9, *YYCURSOR);  ++YYCURSOR;  YYDEBUG(10, *YYCURSOR); #line 418 \"ext/date/lib/parse_iso_intervals.re\"  {   s->pos = cursor; s->line++;   goto std;  } #line 443 \"ext/date/lib/parse_iso_intervals.c\" yy11:  YYDEBUG(11, *YYCURSOR);  yych = *++YYCURSOR;  goto yy3; yy12:  YYDEBUG(12, *YYCURSOR);  yych = *++YYCURSOR;  if (yych <= \\'L\\') {   if (yych <= \\'9\\') {    if (yych >= \\'0\\') goto yy25;   } else {    if (yych == \\'D\\') goto yy24;   }  } else {   if (yych <= \\'W\\') {    if (yych <= \\'M\\') goto yy27;    if (yych >= \\'W\\') goto yy26;   } else {    if (yych == \\'Y\\') goto yy28;   }  } yy13:  YYDEBUG(13, *YYCURSOR);  YYCURSOR = YYMARKER;  if (yyaccept <= 0) {   goto yy3;  } else {   goto yy6;  } yy14:  YYDEBUG(14, *YYCURSOR);  yyaccept = 1;  yych = *(YYMARKER = ++YYCURSOR);  if (yybm[0+yych] & 128) {   goto yy15;  }  goto yy6; yy15:  YYDEBUG(15, *YYCURSOR);  ++YYCURSOR;  if ((YYLIMIT - YYCURSOR) < 2) YYFILL(2);  yych = *YYCURSOR;  YYDEBUG(16, *YYCURSOR);  if (yybm[0+yych] & 128) {   goto yy15;  }  if (yych <= \\'L\\') {   if (yych == \\'H\\') goto yy19;   goto yy13;  } else {   if (yych <= \\'M\\') goto yy18;   if (yych != \\'S\\') goto yy13;  } yy17:  YYDEBUG(17, *YYCURSOR);  yych = *++YYCURSOR;  goto yy6; yy18:  YYDEBUG(18, *YYCURSOR);  yyaccept = 1;  yych = *(YYMARKER = ++YYCURSOR);  if (yych <= \\'/\\') goto yy6;  if (yych <= \\'9\\') goto yy22;  goto yy6; yy19:  YYDEBUG(19, *YYCURSOR);  yyaccept = 1;  yych = *(YYMARKER = ++YYCURSOR);  if (yych <= \\'/\\') goto yy6;  if (yych >= \\':\\') goto yy6; yy20:  YYDEBUG(20, *YYCURSOR);  ++YYCURSOR;  if ((YYLIMIT - YYCURSOR) < 2) YYFILL(2);  yych = *YYCURSOR;  YYDEBUG(21, *YYCURSOR);  if (yych <= \\'L\\') {   if (yych <= \\'/\\') goto yy13;   if (yych <= \\'9\\') goto yy20;   goto yy13;  } else {   if (yych <= \\'M\\') goto yy18;   if (yych == \\'S\\') goto yy17;   goto yy13;  } yy22:  YYDEBUG(22, *YYCURSOR);  ++YYCURSOR;  if (YYLIMIT <= YYCURSOR) YYFILL(1);  yych = *YYCURSOR;  YYDEBUG(23, *YYCURSOR);  if (yych <= \\'/\\') goto yy13;  if (yych <= \\'9\\') goto yy22;  if (yych == \\'S\\') goto yy17;  goto yy13; yy24:  YYDEBUG(24, *YYCURSOR);  yych = *++YYCURSOR;  if (yych == \\'T\\') goto yy14;  goto yy6; yy25:  YYDEBUG(25, *YYCURSOR);  yych = *++YYCURSOR;  if (yych <= \\'L\\') {   if (yych <= \\'9\\') {    if (yych <= \\'/\\') goto yy13;    goto yy35;   } else {    if (yych == \\'D\\') goto yy24;    goto yy13;   }  } else {   if (yych <= \\'W\\') {    if (yych <= \\'M\\') goto yy27;    if (yych <= \\'V\\') goto yy13;   } else {    if (yych == \\'Y\\') goto yy28;    goto yy13;   }  } yy26:  YYDEBUG(26, *YYCURSOR);  yyaccept = 1;  yych = *(YYMARKER = ++YYCURSOR);  if (yych <= \\'/\\') goto yy6;  if (yych <= \\'9\\') goto yy33;  if (yych == \\'T\\') goto yy14;  goto yy6; yy27:  YYDEBUG(27, *YYCURSOR);  yyaccept = 1;  yych = *(YYMARKER = ++YYCURSOR);  if (yych <= \\'/\\') goto yy6;  if (yych <= \\'9\\') goto yy31;  if (yych == \\'T\\') goto yy14;  goto yy6; yy28:  YYDEBUG(28, *YYCURSOR);  yyaccept = 1;  yych = *(YYMARKER = ++YYCURSOR);  if (yych <= \\'/\\') goto yy6;  if (yych <= \\'9\\') goto yy29;  if (yych == \\'T\\') goto yy14;  goto yy6; yy29:  YYDEBUG(29, *YYCURSOR);  ++YYCURSOR;  if ((YYLIMIT - YYCURSOR) < 3) YYFILL(3);  yych = *YYCURSOR;  YYDEBUG(30, *YYCURSOR);  if (yych <= \\'D\\') {   if (yych <= \\'/\\') goto yy13;   if (yych <= \\'9\\') goto yy29;   if (yych <= \\'C\\') goto yy13;   goto yy24;  } else {   if (yych <= \\'M\\') {    if (yych <= \\'L\\') goto yy13;    goto yy27;   } else {    if (yych == \\'W\\') goto yy26;    goto yy13;   }  } yy31:  YYDEBUG(31, *YYCURSOR);  ++YYCURSOR;  if ((YYLIMIT - YYCURSOR) < 3) YYFILL(3);  yych = *YYCURSOR;  YYDEBUG(32, *YYCURSOR);  if (yych <= \\'C\\') {   if (yych <= \\'/\\') goto yy13;   if (yych <= \\'9\\') goto yy31;   goto yy13;  } else {   if (yych <= \\'D\\') goto yy24;   if (yych == \\'W\\') goto yy26;   goto yy13;  } yy33:  YYDEBUG(33, *YYCURSOR);  ++YYCURSOR;  if ((YYLIMIT - YYCURSOR) < 3) YYFILL(3);  yych = *YYCURSOR;  YYDEBUG(34, *YYCURSOR);  if (yych <= \\'/\\') goto yy13;  if (yych <= \\'9\\') goto yy33;  if (yych == \\'D\\') goto yy24;  goto yy13; yy35:  YYDEBUG(35, *YYCURSOR);  yych = *++YYCURSOR;  if (yych <= \\'L\\') {   if (yych <= \\'9\\') {    if (yych <= \\'/\\') goto yy13;   } else {    if (yych == \\'D\\') goto yy24;    goto yy13;   }  } else {   if (yych <= \\'W\\') {    if (yych <= \\'M\\') goto yy27;    if (yych <= \\'V\\') goto yy13;    goto yy26;   } else {    if (yych == \\'Y\\') goto yy28;    goto yy13;   }  }  YYDEBUG(36, *YYCURSOR);  yych = *++YYCURSOR;  if (yych != \\'-\\') goto yy39;  YYDEBUG(37, *YYCURSOR);  yych = *++YYCURSOR;  if (yych <= \\'/\\') goto yy13;  if (yych <= \\'0\\') goto yy40;  if (yych <= \\'1\\') goto yy41;  goto yy13; yy38:  YYDEBUG(38, *YYCURSOR);  ++YYCURSOR;  if ((YYLIMIT - YYCURSOR) < 3) YYFILL(3);  yych = *YYCURSOR; yy39:  YYDEBUG(39, *YYCURSOR);  if (yych <= \\'L\\') {   if (yych <= \\'9\\') {    if (yych <= \\'/\\') goto yy13;    goto yy38;   } else {    if (yych == \\'D\\') goto yy24;    goto yy13;   }  } else {   if (yych <= \\'W\\') {    if (yych <= \\'M\\') goto yy27;    if (yych <= \\'V\\') goto yy13;    goto yy26;   } else {    if (yych == \\'Y\\') goto yy28;    goto yy13;   }  } yy40:  YYDEBUG(40, *YYCURSOR);  yych = *++YYCURSOR;  if (yych <= \\'/\\') goto yy13;  if (yych <= \\'9\\') goto yy42;  goto yy13; yy41:  YYDEBUG(41, *YYCURSOR);  yych = *++YYCURSOR;  if (yych <= \\'/\\') goto yy13;  if (yych >= \\'3\\') goto yy13; yy42:  YYDEBUG(42, *YYCURSOR);  yych = *++YYCURSOR;  if (yych != \\'-\\') goto yy13;  YYDEBUG(43, *YYCURSOR);  yych = *++YYCURSOR;  if (yych <= \\'/\\') goto yy13;  if (yych <= \\'0\\') goto yy44;  if (yych <= \\'2\\') goto yy45;  if (yych <= \\'3\\') goto yy46;  goto yy13; yy44:  YYDEBUG(44, *YYCURSOR);  yych = *++YYCURSOR;  if (yych <= \\'/\\') goto yy13;  if (yych <= \\'9\\') goto yy47;  goto yy13; yy45:  YYDEBUG(45, *YYCURSOR);  yych = *++YYCURSOR;  if (yych <= \\'/\\') goto yy13;  if (yych <= \\'9\\') goto yy47;  goto yy13; yy46:  YYDEBUG(46, *YYCURSOR);  yych = *++YYCURSOR;  if (yych <= \\'/\\') goto yy13;  if (yych >= \\'2\\') goto yy13; yy47:  YYDEBUG(47, *YYCURSOR);  yych = *++YYCURSOR;  if (yych != \\'T\\') goto yy13;  YYDEBUG(48, *YYCURSOR);  yych = *++YYCURSOR;  if (yych <= \\'/\\') goto yy13;  if (yych <= \\'1\\') goto yy49;  if (yych <= \\'2\\') goto yy50;  goto yy13; yy49:  YYDEBUG(49, *YYCURSOR);  yych = *++YYCURSOR;  if (yych <= \\'/\\') goto yy13;  if (yych <= \\'9\\') goto yy51;  goto yy13; yy50:  YYDEBUG(50, *YYCURSOR);  yych = *++YYCURSOR;  if (yych <= \\'/\\') goto yy13;  if (yych >= \\'5\\') goto yy13; yy51:  YYDEBUG(51, *YYCURSOR);  yych = *++YYCURSOR;  if (yych != \\':\\') goto yy13;  YYDEBUG(52, *YYCURSOR);  yych = *++YYCURSOR;  if (yych <= \\'/\\') goto yy13;  if (yych >= \\'6\\') goto yy13;  YYDEBUG(53, *YYCURSOR);  yych = *++YYCURSOR;  if (yych <= \\'/\\') goto yy13;  if (yych >= \\':\\') goto yy13;  YYDEBUG(54, *YYCURSOR);  yych = *++YYCURSOR;  if (yych != \\':\\') goto yy13;  YYDEBUG(55, *YYCURSOR);  yych = *++YYCURSOR;  if (yych <= \\'/\\') goto yy13;  if (yych >= \\'6\\') goto yy13;  YYDEBUG(56, *YYCURSOR);  yych = *++YYCURSOR;  if (yych <= \\'/\\') goto yy13;  if (yych >= \\':\\') goto yy13;  YYDEBUG(57, *YYCURSOR);  ++YYCURSOR;  YYDEBUG(58, *YYCURSOR); #line 393 \"ext/date/lib/parse_iso_intervals.re\"  {   DEBUG_OUTPUT(\"combinedrep\");   TIMELIB_INIT;   s->period->y = timelib_get_unsigned_nr((char **) &ptr, 4);   ptr++;   s->period->m = timelib_get_unsigned_nr((char **) &ptr, 2);   ptr++;   s->period->d = timelib_get_unsigned_nr((char **) &ptr, 2);   ptr++;   s->period->h = timelib_get_unsigned_nr((char **) &ptr, 2);   ptr++;   s->period->i = timelib_get_unsigned_nr((char **) &ptr, 2);   ptr++;   s->period->s = timelib_get_unsigned_nr((char **) &ptr, 2);   s->have_period = 1;   TIMELIB_DEINIT;   return TIMELIB_PERIOD;  } #line 792 \"ext/date/lib/parse_iso_intervals.c\" yy59:  YYDEBUG(59, *YYCURSOR);  yych = *++YYCURSOR;  if (yych <= \\'/\\') goto yy13;  if (yych >= \\':\\') goto yy13;  YYDEBUG(60, *YYCURSOR);  yych = *++YYCURSOR;  if (yych <= \\'/\\') goto yy13;  if (yych >= \\':\\') goto yy13;  YYDEBUG(61, *YYCURSOR);  yych = *++YYCURSOR;  if (yych <= \\'/\\') {   if (yych == \\'-\\') goto yy64;   goto yy13;  } else {   if (yych <= \\'0\\') goto yy62;   if (yych <= \\'1\\') goto yy63;   goto yy13;  } yy62:  YYDEBUG(62, *YYCURSOR);  yych = *++YYCURSOR;  if (yych <= \\'0\\') goto yy13;  if (yych <= \\'9\\') goto yy85;  goto yy13; yy63:  YYDEBUG(63, *YYCURSOR);  yych = *++YYCURSOR;  if (yych <= \\'/\\') goto yy13;  if (yych <= \\'2\\') goto yy85;  goto yy13; yy64:  YYDEBUG(64, *YYCURSOR);  yych = *++YYCURSOR;  if (yych <= \\'/\\') goto yy13;  if (yych <= \\'0\\') goto yy65;  if (yych <= \\'1\\') goto yy66;  goto yy13; yy65:  YYDEBUG(65, *YYCURSOR);  yych = *++YYCURSOR;  if (yych <= \\'0\\') goto yy13;  if (yych <= \\'9\\') goto yy67;  goto yy13; yy66:  YYDEBUG(66, *YYCURSOR);  yych = *++YYCURSOR;  if (yych <= \\'/\\') goto yy13;  if (yych >= \\'3\\') goto yy13; yy67:  YYDEBUG(67, *YYCURSOR);  yych = *++YYCURSOR;  if (yych != \\'-\\') goto yy13;  YYDEBUG(68, *YYCURSOR);  yych = *++YYCURSOR;  if (yych <= \\'/\\') goto yy13;  if (yych <= \\'0\\') goto yy69;  if (yych <= \\'2\\') goto yy70;  if (yych <= \\'3\\') goto yy71;  goto yy13; yy69:  YYDEBUG(69, *YYCURSOR);  yych = *++YYCURSOR;  if (yych <= \\'0\\') goto yy13;  if (yych <= \\'9\\') goto yy72;  goto yy13; yy70:  YYDEBUG(70, *YYCURSOR);  yych = *++YYCURSOR;  if (yych <= \\'/\\') goto yy13;  if (yych <= \\'9\\') goto yy72;  goto yy13; yy71:  YYDEBUG(71, *YYCURSOR);  yych = *++YYCURSOR;  if (yych <= \\'/\\') goto yy13;  if (yych >= \\'2\\') goto yy13; yy72:  YYDEBUG(72, *YYCURSOR);  yych = *++YYCURSOR;  if (yych != \\'T\\') goto yy13;  YYDEBUG(73, *YYCURSOR);  yych = *++YYCURSOR;  if (yych <= \\'/\\') goto yy13;  if (yych <= \\'1\\') goto yy74;  if (yych <= \\'2\\') goto yy75;  goto yy13; yy74:  YYDEBUG(74, *YYCURSOR);  yych = *++YYCURSOR;  if (yych <= \\'/\\') goto yy13;  if (yych <= \\'9\\') goto yy76;  goto yy13; yy75:  YYDEBUG(75, *YYCURSOR);  yych = *++YYCURSOR;  if (yych <= \\'/\\') goto yy13;  if (yych >= \\'5\\') goto yy13; yy76:  YYDEBUG(76, *YYCURSOR);  yych = *++YYCURSOR;  if (yych != \\':\\') goto yy13;  YYDEBUG(77, *YYCURSOR);  yych = *++YYCURSOR;  if (yych <= \\'/\\') goto yy13;  if (yych >= \\'6\\') goto yy13;  YYDEBUG(78, *YYCURSOR);  yych = *++YYCURSOR;  if (yych <= \\'/\\') goto yy13;  if (yych >= \\':\\') goto yy13;  YYDEBUG(79, *YYCURSOR);  yych = *++YYCURSOR;  if (yych != \\':\\') goto yy13;  YYDEBUG(80, *YYCURSOR);  yych = *++YYCURSOR;  if (yych <= \\'/\\') goto yy13;  if (yych >= \\'6\\') goto yy13;  YYDEBUG(81, *YYCURSOR);  yych = *++YYCURSOR;  if (yych <= \\'/\\') goto yy13;  if (yych >= \\':\\') goto yy13;  YYDEBUG(82, *YYCURSOR);  yych = *++YYCURSOR;  if (yych != \\'Z\\') goto yy13; yy83:  YYDEBUG(83, *YYCURSOR);  ++YYCURSOR;  YYDEBUG(84, *YYCURSOR); #line 327 \"ext/date/lib/parse_iso_intervals.re\"  {   timelib_time *current;    if (s->have_date || s->have_period) {    current = s->end;    s->have_end_date = 1;   } else {    current = s->begin;    s->have_begin_date = 1;   }   DEBUG_OUTPUT(\"datetimebasic | datetimeextended\");   TIMELIB_INIT;   current->y = timelib_get_nr((char **) &ptr, 4);   current->m = timelib_get_nr((char **) &ptr, 2);   current->d = timelib_get_nr((char **) &ptr, 2);   current->h = timelib_get_nr((char **) &ptr, 2);   current->i = timelib_get_nr((char **) &ptr, 2);   current->s = timelib_get_nr((char **) &ptr, 2);   s->have_date = 1;   TIMELIB_DEINIT;   return TIMELIB_ISO_DATE;  } #line 944 \"ext/date/lib/parse_iso_intervals.c\" yy85:  YYDEBUG(85, *YYCURSOR);  yych = *++YYCURSOR;  if (yych <= \\'/\\') goto yy13;  if (yych <= \\'0\\') goto yy86;  if (yych <= \\'2\\') goto yy87;  if (yych <= \\'3\\') goto yy88;  goto yy13; yy86:  YYDEBUG(86, *YYCURSOR);  yych = *++YYCURSOR;  if (yych <= \\'0\\') goto yy13;  if (yych <= \\'9\\') goto yy89;  goto yy13; yy87:  YYDEBUG(87, *YYCURSOR);  yych = *++YYCURSOR;  if (yych <= \\'/\\') goto yy13;  if (yych <= \\'9\\') goto yy89;  goto yy13; yy88:  YYDEBUG(88, *YYCURSOR);  yych = *++YYCURSOR;  if (yych <= \\'/\\') goto yy13;  if (yych >= \\'2\\') goto yy13; yy89:  YYDEBUG(89, *YYCURSOR);  yych = *++YYCURSOR;  if (yych != \\'T\\') goto yy13;  YYDEBUG(90, *YYCURSOR);  yych = *++YYCURSOR;  if (yych <= \\'/\\') goto yy13;  if (yych <= \\'1\\') goto yy91;  if (yych <= \\'2\\') goto yy92;  goto yy13; yy91:  YYDEBUG(91, *YYCURSOR);  yych = *++YYCURSOR;  if (yych <= \\'/\\') goto yy13;  if (yych <= \\'9\\') goto yy93;  goto yy13; yy92:  YYDEBUG(92, *YYCURSOR);  yych = *++YYCURSOR;  if (yych <= \\'/\\') goto yy13;  if (yych >= \\'5\\') goto yy13; yy93:  YYDEBUG(93, *YYCURSOR);  yych = *++YYCURSOR;  if (yych <= \\'/\\') goto yy13;  if (yych >= \\'6\\') goto yy13;  YYDEBUG(94, *YYCURSOR);  yych = *++YYCURSOR;  if (yych <= \\'/\\') goto yy13;  if (yych >= \\':\\') goto yy13;  YYDEBUG(95, *YYCURSOR);  yych = *++YYCURSOR;  if (yych <= \\'/\\') goto yy13;  if (yych >= \\'6\\') goto yy13;  YYDEBUG(96, *YYCURSOR);  yych = *++YYCURSOR;  if (yych <= \\'/\\') goto yy13;  if (yych >= \\':\\') goto yy13;  YYDEBUG(97, *YYCURSOR);  yych = *++YYCURSOR;  if (yych == \\'Z\\') goto yy83;  goto yy13; yy98:  YYDEBUG(98, *YYCURSOR);  ++YYCURSOR;  if (YYLIMIT <= YYCURSOR) YYFILL(1);  yych = *YYCURSOR;  YYDEBUG(99, *YYCURSOR);  if (yych <= \\'/\\') goto yy100;  if (yych <= \\'9\\') goto yy98; yy100:  YYDEBUG(100, *YYCURSOR); #line 316 \"ext/date/lib/parse_iso_intervals.re\"  {   DEBUG_OUTPUT(\"recurrences\");   TIMELIB_INIT;   ptr++;   s->recurrences = timelib_get_unsigned_nr((char **) &ptr, 9);   TIMELIB_DEINIT;   s->have_recurrences = 1;   return TIMELIB_PERIOD;  } #line 1032 \"ext/date/lib/parse_iso_intervals.c\" } #line 428 \"ext/date/lib/parse_iso_intervals.re\"  } '}"
      ]
     },
     "execution_count": 51,
     "metadata": {},
     "output_type": "execute_result"
    }
   ],
   "source": [
    "impact[2]"
   ]
  },
  {
   "cell_type": "code",
   "execution_count": 52,
   "id": "1076a7d0",
   "metadata": {},
   "outputs": [
    {
     "data": {
      "text/html": [
       "<div>\n",
       "<style scoped>\n",
       "    .dataframe tbody tr th:only-of-type {\n",
       "        vertical-align: middle;\n",
       "    }\n",
       "\n",
       "    .dataframe tbody tr th {\n",
       "        vertical-align: top;\n",
       "    }\n",
       "\n",
       "    .dataframe thead th {\n",
       "        text-align: right;\n",
       "    }\n",
       "</style>\n",
       "<table border=\"1\" class=\"dataframe\">\n",
       "  <thead>\n",
       "    <tr style=\"text-align: right;\">\n",
       "      <th></th>\n",
       "      <th>Vulnerability Classification</th>\n",
       "      <th>vulnerability_type</th>\n",
       "      <th>root_cause</th>\n",
       "      <th>attack_vector</th>\n",
       "      <th>impact</th>\n",
       "    </tr>\n",
       "  </thead>\n",
       "  <tbody>\n",
       "    <tr>\n",
       "      <th>24</th>\n",
       "      <td>Bypass</td>\n",
       "      <td>NaN</td>\n",
       "      <td>does not properly check for administrative pri...</td>\n",
       "      <td>NaN</td>\n",
       "      <td>bypass the quota limit and create excessive ma...</td>\n",
       "    </tr>\n",
       "    <tr>\n",
       "      <th>67</th>\n",
       "      <td>DoS Overflow +Info</td>\n",
       "      <td>information disclosure</td>\n",
       "      <td>provide an arbitrary regular expression</td>\n",
       "      <td>using a specially crafted regular expression</td>\n",
       "      <td>obtain sensitive information from process memo...</td>\n",
       "    </tr>\n",
       "    <tr>\n",
       "      <th>78</th>\n",
       "      <td>DoS Overflow</td>\n",
       "      <td>NaN</td>\n",
       "      <td>does not properly restrict creation of DateInt...</td>\n",
       "      <td>using a specially-crafted interval specification</td>\n",
       "      <td>cause a denial of service (heap-based buffer o...</td>\n",
       "    </tr>\n",
       "    <tr>\n",
       "      <th>101</th>\n",
       "      <td>DoS</td>\n",
       "      <td>data structure</td>\n",
       "      <td>obtains a certain version number from an incor...</td>\n",
       "      <td>NaN</td>\n",
       "      <td>cause a denial of service (daemon crash )</td>\n",
       "    </tr>\n",
       "    <tr>\n",
       "      <th>175</th>\n",
       "      <td>DoS Exec Code Overflow Mem. Corr.</td>\n",
       "      <td>memory corruption</td>\n",
       "      <td>the parsing only happens after the initial SSL...</td>\n",
       "      <td>going through the copy in reverse order and wr...</td>\n",
       "      <td>execute arbitrary code or cause a denial of se...</td>\n",
       "    </tr>\n",
       "    <tr>\n",
       "      <th>...</th>\n",
       "      <td>...</td>\n",
       "      <td>...</td>\n",
       "      <td>...</td>\n",
       "      <td>...</td>\n",
       "      <td>...</td>\n",
       "    </tr>\n",
       "    <tr>\n",
       "      <th>174391</th>\n",
       "      <td>+Info</td>\n",
       "      <td>information disclosure</td>\n",
       "      <td>NaN</td>\n",
       "      <td>persuading a victim to install a specially-cra...</td>\n",
       "      <td>obtain sensitive data outside of its permissio...</td>\n",
       "    </tr>\n",
       "    <tr>\n",
       "      <th>174392</th>\n",
       "      <td>+Info</td>\n",
       "      <td>information disclosure</td>\n",
       "      <td>NaN</td>\n",
       "      <td>persuading a victim to install a specially-cra...</td>\n",
       "      <td>obtain sensitive data outside of its permissio...</td>\n",
       "    </tr>\n",
       "    <tr>\n",
       "      <th>174393</th>\n",
       "      <td>+Info</td>\n",
       "      <td>information disclosure</td>\n",
       "      <td>NaN</td>\n",
       "      <td>persuading a victim to install a specially-cra...</td>\n",
       "      <td>obtain sensitive data outside of its permissio...</td>\n",
       "    </tr>\n",
       "    <tr>\n",
       "      <th>174394</th>\n",
       "      <td>None</td>\n",
       "      <td>information disclosure</td>\n",
       "      <td>NaN</td>\n",
       "      <td>using a specially-crafted file</td>\n",
       "      <td>access data outside of its permission levels .</td>\n",
       "    </tr>\n",
       "    <tr>\n",
       "      <th>174395</th>\n",
       "      <td>+Info</td>\n",
       "      <td>information disclosure</td>\n",
       "      <td>NaN</td>\n",
       "      <td>persuading a victim to open a specially-crafte...</td>\n",
       "      <td>obtain sensitive information</td>\n",
       "    </tr>\n",
       "  </tbody>\n",
       "</table>\n",
       "<p>10032 rows × 5 columns</p>\n",
       "</div>"
      ],
      "text/plain": [
       "             Vulnerability Classification      vulnerability_type  \\\n",
       "24                                 Bypass                     NaN   \n",
       "67                     DoS Overflow +Info  information disclosure   \n",
       "78                           DoS Overflow                     NaN   \n",
       "101                                   DoS          data structure   \n",
       "175     DoS Exec Code Overflow Mem. Corr.       memory corruption   \n",
       "...                                   ...                     ...   \n",
       "174391                             +Info   information disclosure   \n",
       "174392                             +Info   information disclosure   \n",
       "174393                             +Info   information disclosure   \n",
       "174394                               None  information disclosure   \n",
       "174395                             +Info   information disclosure   \n",
       "\n",
       "                                               root_cause  \\\n",
       "24      does not properly check for administrative pri...   \n",
       "67                provide an arbitrary regular expression   \n",
       "78      does not properly restrict creation of DateInt...   \n",
       "101     obtains a certain version number from an incor...   \n",
       "175     the parsing only happens after the initial SSL...   \n",
       "...                                                   ...   \n",
       "174391                                                NaN   \n",
       "174392                                                NaN   \n",
       "174393                                                NaN   \n",
       "174394                                                NaN   \n",
       "174395                                                NaN   \n",
       "\n",
       "                                            attack_vector  \\\n",
       "24                                                    NaN   \n",
       "67           using a specially crafted regular expression   \n",
       "78       using a specially-crafted interval specification   \n",
       "101                                                   NaN   \n",
       "175     going through the copy in reverse order and wr...   \n",
       "...                                                   ...   \n",
       "174391  persuading a victim to install a specially-cra...   \n",
       "174392  persuading a victim to install a specially-cra...   \n",
       "174393  persuading a victim to install a specially-cra...   \n",
       "174394                     using a specially-crafted file   \n",
       "174395  persuading a victim to open a specially-crafte...   \n",
       "\n",
       "                                                   impact  \n",
       "24      bypass the quota limit and create excessive ma...  \n",
       "67      obtain sensitive information from process memo...  \n",
       "78      cause a denial of service (heap-based buffer o...  \n",
       "101             cause a denial of service (daemon crash )  \n",
       "175     execute arbitrary code or cause a denial of se...  \n",
       "...                                                   ...  \n",
       "174391  obtain sensitive data outside of its permissio...  \n",
       "174392  obtain sensitive data outside of its permissio...  \n",
       "174393  obtain sensitive data outside of its permissio...  \n",
       "174394     access data outside of its permission levels .  \n",
       "174395                       obtain sensitive information  \n",
       "\n",
       "[10032 rows x 5 columns]"
      ]
     },
     "execution_count": 52,
     "metadata": {},
     "output_type": "execute_result"
    }
   ],
   "source": [
    "df_bigvul[df_bigvul['vul'] == 1][['Vulnerability Classification','vulnerability_type', 'root_cause', 'attack_vector', 'impact',]]"
   ]
  },
  {
   "cell_type": "markdown",
   "id": "7d56ddcf-e799-469d-b92d-809ffb138920",
   "metadata": {},
   "source": [
    "# generate datasets"
   ]
  },
  {
   "cell_type": "code",
   "execution_count": 61,
   "id": "5db26cd5-d064-4254-b853-a0273c94b43c",
   "metadata": {},
   "outputs": [],
   "source": [
    "import commons"
   ]
  },
  {
   "cell_type": "code",
   "execution_count": 72,
   "id": "c77b3c72-13d2-44b7-841c-f69371a28d2d",
   "metadata": {},
   "outputs": [
    {
     "data": {
      "application/vnd.jupyter.widget-view+json": {
       "model_id": "16abbc4203354e0eba27468dd298c0f8",
       "version_major": 2,
       "version_minor": 0
      },
      "text/plain": [
       "(6 Workers) Clang Formater:   0%|          | 0/5377 [00:00<?, ?it/s]"
      ]
     },
     "metadata": {},
     "output_type": "display_data"
    },
    {
     "data": {
      "application/vnd.jupyter.widget-view+json": {
       "model_id": "493abc74195a47e8be64159f1b2375c8",
       "version_major": 2,
       "version_minor": 0
      },
      "text/plain": [
       "(6 Workers) Clang Formater:   0%|          | 0/4767 [00:00<?, ?it/s]"
      ]
     },
     "metadata": {},
     "output_type": "display_data"
    },
    {
     "data": {
      "application/vnd.jupyter.widget-view+json": {
       "model_id": "34716ae01026473a85a0814fbbab1ad7",
       "version_major": 2,
       "version_minor": 0
      },
      "text/plain": [
       "(6 Workers) Clang Formater:   0%|          | 0/6748 [00:00<?, ?it/s]"
      ]
     },
     "metadata": {},
     "output_type": "display_data"
    },
    {
     "data": {
      "application/vnd.jupyter.widget-view+json": {
       "model_id": "4874d3f672784342bd42e1ed2bdc3133",
       "version_major": 2,
       "version_minor": 0
      },
      "text/plain": [
       "(6 Workers) Clang Formater:   0%|          | 0/9768 [00:00<?, ?it/s]"
      ]
     },
     "metadata": {},
     "output_type": "display_data"
    }
   ],
   "source": [
    "df_vulnerability_type['processed_func'] = commons.dfmp(df_vulnerability_type, commons.format_code, \"func_before\", cs=200, desc=\"Clang Formater\")\n",
    "df_root_cause['processed_func'] = commons.dfmp(df_root_cause, commons.format_code, \"func_before\", cs=200, desc=\"Clang Formater\")\n",
    "df_attack_vector['processed_func'] = commons.dfmp(df_attack_vector, commons.format_code, \"func_before\", cs=200, desc=\"Clang Formater\")\n",
    "df_impact['processed_func'] = commons.dfmp(df_impact, commons.format_code, \"func_before\", cs=200, desc=\"Clang Formater\")"
   ]
  },
  {
   "cell_type": "code",
   "execution_count": 86,
   "id": "64001d2c-8200-486a-95bc-5703a63169b3",
   "metadata": {},
   "outputs": [
    {
     "data": {
      "text/plain": [
       "'static time_t asn1_time_to_time_t(ASN1_UTCTIME * timestr TSRMLS_DC) /* {{{ */ { /*  This is how the time string is formatted:   snprintf(p, sizeof(p), \"%02d%02d%02d%02d%02d%02dZ\",ts->tm_year%100,  ts->tm_mon+1,ts->tm_mday,ts->tm_hour,ts->tm_min,ts->tm_sec); */   time_t ret;  struct tm thetime;  char * strbuf;  char * thestr;  long gmadjust = 0;  if (timestr->length < 13) {  php_error_docref(NULL TSRMLS_CC, E_WARNING, \"extension author too lazy to parse %s correctly\", timestr->data);  return (time_t)-1;  }  strbuf = estrdup((char *)timestr->data);  memset(&thetime, 0, sizeof(thetime));  /* we work backwards so that we can use atoi more easily */  thestr = strbuf + timestr->length - 3;  thetime.tm_sec = atoi(thestr);  *thestr = \\'\\\\0\\';  thetime.tm_mon = atoi(thestr)-1;  *thestr = \\'\\\\0\\';  thestr -= 2;  thetime.tm_year = atoi(thestr);   if (thetime.tm_year < 68) {   thetime.tm_year += 100;  }   thetime.tm_isdst = -1;  ret = mktime(&thetime);  #if HAVE_TM_GMTOFF  gmadjust = thetime.tm_gmtoff; #else  /*  ** If correcting for daylight savings time, we set the adjustment to  ** the value of timezone - 3600 seconds. Otherwise, we need to overcorrect and  ** set the adjustment to the main timezone + 3600 seconds.  */  gmadjust = -(thetime.tm_isdst ? (long)timezone - 3600 : (long)timezone + 3600); #endif  ret += gmadjust;   efree(strbuf);   return ret; } /* }}} */ '"
      ]
     },
     "execution_count": 86,
     "metadata": {},
     "output_type": "execute_result"
    }
   ],
   "source": [
    "df_vulnerability_type.iloc[2]['func_before']"
   ]
  },
  {
   "cell_type": "code",
   "execution_count": 87,
   "id": "040f48d2-c725-4387-ac32-6e7378075d31",
   "metadata": {},
   "outputs": [
    {
     "data": {
      "text/plain": [
       "'static time_t asn1_time_to_time_t(\\n    ASN1_UTCTIME *timestr\\n        TSRMLS_DC) /* {{{ */ { /*  This is how the time string is formatted:\\n                                  snprintf(p, sizeof(p),\\n                                  \"%02d%02d%02d%02d%02d%02dZ\",ts->tm_year%100,\\n                                  ts->tm_mon+1,ts->tm_mday,ts->tm_hour,ts->tm_min,ts->tm_sec);\\n                                */\\n  time_t ret;\\n  struct tm thetime;\\n  char *strbuf;\\n  char *thestr;\\n  long gmadjust = 0;\\n  if (timestr->length < 13) {\\n    php_error_docref(NULL TSRMLS_CC, E_WARNING,\\n                     \"extension author too lazy to parse %s correctly\",\\n                     timestr->data);\\n    return (time_t)-1;\\n  }\\n  strbuf = estrdup((char *)timestr->data);\\n  memset(\\n      &thetime, 0,\\n      sizeof(\\n          thetime)); /* we work backwards so that we can use atoi more easily */\\n  thestr = strbuf + timestr->length - 3;\\n  thetime.tm_sec = atoi(thestr);\\n  *thestr = \\'\\\\0\\';\\n  thetime.tm_mon = atoi(thestr) - 1;\\n  *thestr = \\'\\\\0\\';\\n  thestr -= 2;\\n  thetime.tm_year = atoi(thestr);\\n  if (thetime.tm_year < 68) {\\n    thetime.tm_year += 100;\\n  }\\n  thetime.tm_isdst = -1;\\n  ret = mktime(&thetime);\\n#if HAVE_TM_GMTOFF gmadjust = thetime.tm_gmtoff;\\n#else /*  ** If correcting for daylight savings time, we set the adjustment to\\n           ** the value of timezone - 3600 seconds. Otherwise, we need to\\n           overcorrect and  ** set the adjustment to the main timezone + 3600\\n           seconds.  */\\n      gmadjust =\\n          -(thetime.tm_isdst ? (long)timezone - 3600 : (long)timezone + 3600);\\n#endif ret += gmadjust;\\n  efree(strbuf);\\n  return ret;\\n} /* }}} */'"
      ]
     },
     "execution_count": 87,
     "metadata": {},
     "output_type": "execute_result"
    }
   ],
   "source": [
    "df_vulnerability_type.iloc[2]['processed_func']"
   ]
  },
  {
   "cell_type": "code",
   "execution_count": 75,
   "id": "bee2027b-359e-4377-9de8-558907de86b0",
   "metadata": {},
   "outputs": [],
   "source": [
    "from sklearn.model_selection import train_test_split\n",
    "from datasets import Dataset, DatasetDict\n",
    "\n",
    "random_seed = 42\n",
    "\n",
    "def split_dataset(df):\n",
    "    train, test = train_test_split(df, test_size=0.2, random_state=random_seed)\n",
    "    train, val = train_test_split(train, test_size=0.1, random_state=random_seed)\n",
    "    return Dataset.from_pandas(train.reset_index(drop=True)), \\\n",
    "            Dataset.from_pandas(val.reset_index(drop=True)), \\\n",
    "            Dataset.from_pandas(test.reset_index(drop=True))\n",
    "\n",
    "def create_dataset_dict(df):\n",
    "    train, val, test = split_dataset(df)\n",
    "    return DatasetDict({\n",
    "        'train': train,\n",
    "        'validation': val,\n",
    "        'test': test\n",
    "    })\n",
    "\n",
    "dataset_vulnerability_type = create_dataset_dict(df_vulnerability_type)\n",
    "dataset_root_cause = create_dataset_dict(df_root_cause)\n",
    "dataset_attack_vector = create_dataset_dict(df_attack_vector)\n",
    "dataset_impact = create_dataset_dict(df_impact)\n"
   ]
  },
  {
   "cell_type": "code",
   "execution_count": 76,
   "id": "6df211cc",
   "metadata": {},
   "outputs": [
    {
     "data": {
      "text/plain": [
       "DatasetDict({\n",
       "    train: Dataset({\n",
       "        features: ['CVE ID', 'explain', 'func_before', 'processed_func'],\n",
       "        num_rows: 3870\n",
       "    })\n",
       "    validation: Dataset({\n",
       "        features: ['CVE ID', 'explain', 'func_before', 'processed_func'],\n",
       "        num_rows: 431\n",
       "    })\n",
       "    test: Dataset({\n",
       "        features: ['CVE ID', 'explain', 'func_before', 'processed_func'],\n",
       "        num_rows: 1076\n",
       "    })\n",
       "})"
      ]
     },
     "execution_count": 76,
     "metadata": {},
     "output_type": "execute_result"
    }
   ],
   "source": [
    "dataset_vulnerability_type"
   ]
  },
  {
   "cell_type": "code",
   "execution_count": 77,
   "id": "4979ea1c",
   "metadata": {},
   "outputs": [
    {
     "data": {
      "text/plain": [
       "DatasetDict({\n",
       "    train: Dataset({\n",
       "        features: ['CVE ID', 'explain', 'func_before', 'processed_func'],\n",
       "        num_rows: 3431\n",
       "    })\n",
       "    validation: Dataset({\n",
       "        features: ['CVE ID', 'explain', 'func_before', 'processed_func'],\n",
       "        num_rows: 382\n",
       "    })\n",
       "    test: Dataset({\n",
       "        features: ['CVE ID', 'explain', 'func_before', 'processed_func'],\n",
       "        num_rows: 954\n",
       "    })\n",
       "})"
      ]
     },
     "execution_count": 77,
     "metadata": {},
     "output_type": "execute_result"
    }
   ],
   "source": [
    "dataset_root_cause"
   ]
  },
  {
   "cell_type": "code",
   "execution_count": 78,
   "id": "562045cc",
   "metadata": {},
   "outputs": [
    {
     "data": {
      "text/plain": [
       "DatasetDict({\n",
       "    train: Dataset({\n",
       "        features: ['CVE ID', 'explain', 'func_before', 'processed_func'],\n",
       "        num_rows: 4858\n",
       "    })\n",
       "    validation: Dataset({\n",
       "        features: ['CVE ID', 'explain', 'func_before', 'processed_func'],\n",
       "        num_rows: 540\n",
       "    })\n",
       "    test: Dataset({\n",
       "        features: ['CVE ID', 'explain', 'func_before', 'processed_func'],\n",
       "        num_rows: 1350\n",
       "    })\n",
       "})"
      ]
     },
     "execution_count": 78,
     "metadata": {},
     "output_type": "execute_result"
    }
   ],
   "source": [
    "dataset_attack_vector"
   ]
  },
  {
   "cell_type": "code",
   "execution_count": 79,
   "id": "b93fd0b5",
   "metadata": {},
   "outputs": [
    {
     "data": {
      "text/plain": [
       "DatasetDict({\n",
       "    train: Dataset({\n",
       "        features: ['CVE ID', 'explain', 'func_before', 'processed_func'],\n",
       "        num_rows: 7032\n",
       "    })\n",
       "    validation: Dataset({\n",
       "        features: ['CVE ID', 'explain', 'func_before', 'processed_func'],\n",
       "        num_rows: 782\n",
       "    })\n",
       "    test: Dataset({\n",
       "        features: ['CVE ID', 'explain', 'func_before', 'processed_func'],\n",
       "        num_rows: 1954\n",
       "    })\n",
       "})"
      ]
     },
     "execution_count": 79,
     "metadata": {},
     "output_type": "execute_result"
    }
   ],
   "source": [
    "dataset_impact"
   ]
  },
  {
   "cell_type": "code",
   "execution_count": 80,
   "id": "f573cfbd",
   "metadata": {},
   "outputs": [
    {
     "data": {
      "application/vnd.jupyter.widget-view+json": {
       "model_id": "",
       "version_major": 2,
       "version_minor": 0
      },
      "text/plain": [
       "Saving the dataset (0/1 shards):   0%|          | 0/3870 [00:00<?, ? examples/s]"
      ]
     },
     "metadata": {},
     "output_type": "display_data"
    },
    {
     "data": {
      "application/vnd.jupyter.widget-view+json": {
       "model_id": "",
       "version_major": 2,
       "version_minor": 0
      },
      "text/plain": [
       "Saving the dataset (0/1 shards):   0%|          | 0/431 [00:00<?, ? examples/s]"
      ]
     },
     "metadata": {},
     "output_type": "display_data"
    },
    {
     "data": {
      "application/vnd.jupyter.widget-view+json": {
       "model_id": "",
       "version_major": 2,
       "version_minor": 0
      },
      "text/plain": [
       "Saving the dataset (0/1 shards):   0%|          | 0/1076 [00:00<?, ? examples/s]"
      ]
     },
     "metadata": {},
     "output_type": "display_data"
    },
    {
     "data": {
      "application/vnd.jupyter.widget-view+json": {
       "model_id": "",
       "version_major": 2,
       "version_minor": 0
      },
      "text/plain": [
       "Saving the dataset (0/1 shards):   0%|          | 0/3431 [00:00<?, ? examples/s]"
      ]
     },
     "metadata": {},
     "output_type": "display_data"
    },
    {
     "data": {
      "application/vnd.jupyter.widget-view+json": {
       "model_id": "",
       "version_major": 2,
       "version_minor": 0
      },
      "text/plain": [
       "Saving the dataset (0/1 shards):   0%|          | 0/382 [00:00<?, ? examples/s]"
      ]
     },
     "metadata": {},
     "output_type": "display_data"
    },
    {
     "data": {
      "application/vnd.jupyter.widget-view+json": {
       "model_id": "",
       "version_major": 2,
       "version_minor": 0
      },
      "text/plain": [
       "Saving the dataset (0/1 shards):   0%|          | 0/954 [00:00<?, ? examples/s]"
      ]
     },
     "metadata": {},
     "output_type": "display_data"
    },
    {
     "data": {
      "application/vnd.jupyter.widget-view+json": {
       "model_id": "",
       "version_major": 2,
       "version_minor": 0
      },
      "text/plain": [
       "Saving the dataset (0/1 shards):   0%|          | 0/4858 [00:00<?, ? examples/s]"
      ]
     },
     "metadata": {},
     "output_type": "display_data"
    },
    {
     "data": {
      "application/vnd.jupyter.widget-view+json": {
       "model_id": "",
       "version_major": 2,
       "version_minor": 0
      },
      "text/plain": [
       "Saving the dataset (0/1 shards):   0%|          | 0/540 [00:00<?, ? examples/s]"
      ]
     },
     "metadata": {},
     "output_type": "display_data"
    },
    {
     "data": {
      "application/vnd.jupyter.widget-view+json": {
       "model_id": "",
       "version_major": 2,
       "version_minor": 0
      },
      "text/plain": [
       "Saving the dataset (0/1 shards):   0%|          | 0/1350 [00:00<?, ? examples/s]"
      ]
     },
     "metadata": {},
     "output_type": "display_data"
    },
    {
     "data": {
      "application/vnd.jupyter.widget-view+json": {
       "model_id": "",
       "version_major": 2,
       "version_minor": 0
      },
      "text/plain": [
       "Saving the dataset (0/1 shards):   0%|          | 0/7032 [00:00<?, ? examples/s]"
      ]
     },
     "metadata": {},
     "output_type": "display_data"
    },
    {
     "data": {
      "application/vnd.jupyter.widget-view+json": {
       "model_id": "",
       "version_major": 2,
       "version_minor": 0
      },
      "text/plain": [
       "Saving the dataset (0/1 shards):   0%|          | 0/782 [00:00<?, ? examples/s]"
      ]
     },
     "metadata": {},
     "output_type": "display_data"
    },
    {
     "data": {
      "application/vnd.jupyter.widget-view+json": {
       "model_id": "",
       "version_major": 2,
       "version_minor": 0
      },
      "text/plain": [
       "Saving the dataset (0/1 shards):   0%|          | 0/1954 [00:00<?, ? examples/s]"
      ]
     },
     "metadata": {},
     "output_type": "display_data"
    }
   ],
   "source": [
    "# Save the dataset to disk\n",
    "dataset_vulnerability_type.save_to_disk(\"./aspect_bigvul/dataset_vulnerability_type\")\n",
    "dataset_root_cause.save_to_disk(\"./aspect_bigvul/dataset_root_cause\")\n",
    "dataset_attack_vector.save_to_disk(\"./aspect_bigvul/dataset_attack_vector\")\n",
    "dataset_impact.save_to_disk(\"./aspect_bigvul/dataset_impact\")\n"
   ]
  }
 ],
 "metadata": {
  "kernelspec": {
   "display_name": "Python 3 (ipykernel)",
   "language": "python",
   "name": "python3"
  },
  "language_info": {
   "codemirror_mode": {
    "name": "ipython",
    "version": 3
   },
   "file_extension": ".py",
   "mimetype": "text/x-python",
   "name": "python",
   "nbconvert_exporter": "python",
   "pygments_lexer": "ipython3",
   "version": "3.11.4"
  }
 },
 "nbformat": 4,
 "nbformat_minor": 5
}
